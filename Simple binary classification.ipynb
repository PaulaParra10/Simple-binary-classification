{
 "cells": [
  {
   "cell_type": "markdown",
   "id": "8b65447b",
   "metadata": {},
   "source": [
    "# Clasificación binaria simple\n",
    "\n",
    "### Paula Juliana Parra Osorio"
   ]
  },
  {
   "cell_type": "markdown",
   "id": "8db119d7",
   "metadata": {},
   "source": [
    "## Cargue de librerías necesarias"
   ]
  },
  {
   "cell_type": "code",
   "execution_count": 1,
   "id": "40eda13b",
   "metadata": {},
   "outputs": [],
   "source": [
    "using Pkg\n",
    "using DataFrames\n",
    "using CSV\n",
    "using Plots\n",
    "using GLM\n",
    "using StatsBase\n",
    "using Lathe\n",
    "using MLBase\n",
    "using ClassImbalance\n",
    "using ROCAnalysis\n",
    "using Lathe.preprocess: TrainTestSplit\n",
    "using LIBSVM\n",
    "using DecisionTree\n",
    "using ScikitLearn\n",
    "using PyCall\n",
    "using Printf"
   ]
  },
  {
   "cell_type": "markdown",
   "id": "2b186b35",
   "metadata": {},
   "source": [
    "## Cargue de datos"
   ]
  },
  {
   "cell_type": "markdown",
   "id": "b42c2681",
   "metadata": {},
   "source": [
    "Los datos tienen 208 registros y 61 variables. La variable respuesta es \"R\" si se detecta una roca y \"M\" si se detecta una mina."
   ]
  },
  {
   "cell_type": "code",
   "execution_count": 2,
   "id": "f45edf6b",
   "metadata": {},
   "outputs": [],
   "source": [
    "data = CSV.read(\"sonar.csv\", DataFrame, header = false);"
   ]
  },
  {
   "cell_type": "markdown",
   "id": "475a082b",
   "metadata": {},
   "source": [
    "La variable respuesta se encuentra en la última columna de la base de datos. "
   ]
  },
  {
   "cell_type": "code",
   "execution_count": 3,
   "id": "3781e507",
   "metadata": {},
   "outputs": [],
   "source": [
    "X = data[:, 1:60];\n",
    "y = data[:, 61];"
   ]
  },
  {
   "cell_type": "markdown",
   "id": "9f63d54b",
   "metadata": {},
   "source": [
    "Se convierte en una variable dummy la variable respuesta. Si la variable es \"R\" se identifica como 1, en caso contrario se identifica como 0. "
   ]
  },
  {
   "cell_type": "code",
   "execution_count": 4,
   "id": "eb9e5007",
   "metadata": {},
   "outputs": [],
   "source": [
    "y = ifelse.(data[:, 61] .== \"R\", 1, 0); #Encoding de la variable"
   ]
  },
  {
   "cell_type": "code",
   "execution_count": 5,
   "id": "dee4e20c",
   "metadata": {},
   "outputs": [],
   "source": [
    "x = Matrix(X);"
   ]
  },
  {
   "cell_type": "markdown",
   "id": "8a61bbbb",
   "metadata": {},
   "source": [
    "## Oversampling para manejar clases no balanceadas"
   ]
  },
  {
   "cell_type": "code",
   "execution_count": 6,
   "id": "9272a6aa",
   "metadata": {},
   "outputs": [
    {
     "data": {
      "text/plain": [
       "Dict{Int64, Int64} with 2 entries:\n",
       "  0 => 111\n",
       "  1 => 97"
      ]
     },
     "execution_count": 6,
     "metadata": {},
     "output_type": "execute_result"
    }
   ],
   "source": [
    "countmap(y)"
   ]
  },
  {
   "cell_type": "markdown",
   "id": "b0ff4ac0",
   "metadata": {},
   "source": [
    "Se emplea la técnica SMOTE para balancear las 2 categorías, puesto que en la base de datos se encuentran menos registros de rocas que de minas. \n",
    "\n",
    "Esta técnica se asemeja a la de oversampling, con la diferencia que no se están tomando exactamente los mismos datos de la muestra sino que se están creando registros sintéticos con la información obtenida desde la muestra. "
   ]
  },
  {
   "cell_type": "code",
   "execution_count": 7,
   "id": "f6f1c9f2",
   "metadata": {},
   "outputs": [],
   "source": [
    "X2, y2 = smote(x, y, k = 5, pct_under = 150, pct_over = 200);"
   ]
  },
  {
   "cell_type": "code",
   "execution_count": 8,
   "id": "462b1599",
   "metadata": {},
   "outputs": [
    {
     "data": {
      "text/plain": [
       "Dict{Int64, Int64} with 2 entries:\n",
       "  0 => 291\n",
       "  1 => 291"
      ]
     },
     "execution_count": 8,
     "metadata": {},
     "output_type": "execute_result"
    }
   ],
   "source": [
    "countmap(y2)"
   ]
  },
  {
   "cell_type": "markdown",
   "id": "0f168bbe",
   "metadata": {},
   "source": [
    "Se observa que el conjunto de datos se encuentra balanceado. "
   ]
  },
  {
   "cell_type": "code",
   "execution_count": 9,
   "id": "f49a270c",
   "metadata": {},
   "outputs": [],
   "source": [
    "data2 = [X2 y2];\n",
    "data2 = DataFrame(data2);"
   ]
  },
  {
   "cell_type": "markdown",
   "id": "55412def",
   "metadata": {},
   "source": [
    "## División de la base de datos"
   ]
  },
  {
   "cell_type": "markdown",
   "id": "bad7ca13",
   "metadata": {},
   "source": [
    "Se divide la base de datos en muestra de entrenamiento y de prueba, asignando el 70% de los datos a la muestra de entrenamiento. "
   ]
  },
  {
   "cell_type": "code",
   "execution_count": 10,
   "id": "b5df3067",
   "metadata": {},
   "outputs": [],
   "source": [
    "train, test = TrainTestSplit(data2, 0.7) ;"
   ]
  },
  {
   "cell_type": "markdown",
   "id": "0ef50b05",
   "metadata": {},
   "source": [
    "Se verifica que se mantengan las proporciones de las categorías en ambas muestras. Teniendo en cuenta que se aplicó una técnica de oversampling, esta proporción debe estar muy cercana al 50%. "
   ]
  },
  {
   "cell_type": "code",
   "execution_count": 11,
   "id": "44304848",
   "metadata": {
    "scrolled": true
   },
   "outputs": [
    {
     "name": "stdout",
     "output_type": "stream",
     "text": [
      "0.5\n",
      "0.5023474178403756\n",
      "0.4935897435897436\n"
     ]
    }
   ],
   "source": [
    "println(sum(data2[:, 61] .== 1)/size(data2, 1))\n",
    "println(sum(train[:,61] .== 1)/size(train, 1))\n",
    "println(sum(test[:,61] .== 1)/size(test, 1))"
   ]
  },
  {
   "cell_type": "markdown",
   "id": "e0aebd9e",
   "metadata": {},
   "source": [
    "## Ajuste de modelos"
   ]
  },
  {
   "cell_type": "markdown",
   "id": "ce82d181",
   "metadata": {},
   "source": [
    "Se ajustan los modelos de regresión logística, regresión lineal, SVM, árbol de decisión y KNN. \n",
    "\n",
    "Para evaluar el desempeño de estos modelos se calcula la precisión (Accuracy) y el área bajo la curva (AUC) de cada uno de ellos. \n",
    "La precisión se mide en la escala [0, 1], donde 0 indica que el modelo no es capaz de predecir ninguna etiqueta y 1 indica una predicción perfecta. \n",
    "En cuanto al AUC, esta generalmente se encuentra en la escala [0.5, 1], donde 0.5 indica que el clasificador trabaja al azar. \n",
    "\n",
    "La precisión se calcula como \n",
    "\n",
    "$$Accuracy = \\frac{TP + TN}{TP + TN + FP + FN}$$\n",
    "\n",
    "Donde:\n",
    "\n",
    "* TP: Verdaderos positivos\n",
    "* TN: Verdaderos negativos\n",
    "* FN: Falsos negativos\n",
    "* FP: Falsos positivos\n",
    "\n",
    "El AUC se calcula como \n",
    "\n",
    "$$AUC_{ROC} = \\frac{Sensibilidad + Especificidad}{2}$$\n",
    "\n",
    "Donde:\n",
    "\n",
    "$$Sensibilidad = \\frac{TP}{TP+FN}$$\n",
    "$$Especificidad = \\frac{TN}{TN+FP}$$\n"
   ]
  },
  {
   "cell_type": "code",
   "execution_count": 12,
   "id": "481fcd55",
   "metadata": {},
   "outputs": [
    {
     "data": {
      "text/plain": [
       "PyObject <module 'sklearn.metrics' from 'C:\\\\Users\\\\ASUS\\\\.julia\\\\conda\\\\3\\\\lib\\\\site-packages\\\\sklearn\\\\metrics\\\\__init__.py'>"
      ]
     },
     "execution_count": 12,
     "metadata": {},
     "output_type": "execute_result"
    }
   ],
   "source": [
    "sklearn = pyimport(\"sklearn.metrics\")"
   ]
  },
  {
   "cell_type": "markdown",
   "id": "f77a920e",
   "metadata": {},
   "source": [
    "### Regresión logística"
   ]
  },
  {
   "cell_type": "markdown",
   "id": "0eee4176",
   "metadata": {},
   "source": [
    "En este caso se realiza el modelo de regresión logística con todas las variables predictoras disponibles sobre la muestra de entrenamiento. Se emplea la función de enlace logit, que es de la forma \n",
    "\n",
    "$$\\frac{\\exp{(x)}}{1+\\exp{(x)}}$$\n",
    "\n",
    "El modelo arroja la probabilidad de que la variable respuesta sea igual a 1, es decir, que sea una roca. Para clasificar, se toma un threshold igual a 0.5, lo que significa que, si el modelo arroja una probabilidad mayor o igual a 0.5, se clasifica como una roca. "
   ]
  },
  {
   "cell_type": "code",
   "execution_count": 13,
   "id": "bb8beee8",
   "metadata": {},
   "outputs": [
    {
     "data": {
      "text/plain": [
       "StatsModels.TableRegressionModel{GeneralizedLinearModel{GLM.GlmResp{Vector{Float64}, Binomial{Float64}, LogitLink}, GLM.DensePredChol{Float64, LinearAlgebra.Cholesky{Float64, Matrix{Float64}}}}, Matrix{Float64}}\n",
       "\n",
       "x61 ~ 1 + x1 + x2 + x3 + x4 + x5 + x6 + x7 + x8 + x9 + x10 + x11 + x12 + x13 + x14 + x15 + x16 + x17 + x18 + x19 + x20 + x21 + x22 + x23 + x24 + x25 + x26 + x27 + x28 + x29 + x30 + x31 + x32 + x33 + x34 + x35 + x36 + x37 + x38 + x39 + x40 + x41 + x42 + x43 + x44 + x45 + x46 + x47 + x48 + x49 + x50 + x51 + x52 + x53 + x54 + x55 + x56 + x57 + x58 + x59 + x60\n",
       "\n",
       "Coefficients:\n",
       "───────────────────────────────────────────────────────────────────────────────────────────\n",
       "                    Coef.      Std. Error      z  Pr(>|z|)        Lower 95%       Upper 95%\n",
       "───────────────────────────────────────────────────────────────────────────────────────────\n",
       "(Intercept)    376.509          3.32497e5   0.00    0.9991       -6.51305e5       6.52058e5\n",
       "x1            -540.512          5.98796e6  -0.00    0.9999       -1.17367e7       1.17356e7\n",
       "x2            -753.983          5.33118e6  -0.00    0.9999       -1.04497e7       1.04482e7\n",
       "x3            1731.5            3.214e6     0.00    0.9996       -6.29758e6       6.30105e6\n",
       "x4            -564.119     771691.0        -0.00    0.9994       -1.51305e6       1.51192e6\n",
       "x5             330.179          4.17071e5   0.00    0.9994       -8.17114e5       8.17774e5\n",
       "x6            -669.084          1.55994e6  -0.00    0.9997       -3.05809e6       3.05675e6\n",
       "x7             970.356          6.09043e5   0.00    0.9987       -1.19273e6       1.19467e6\n",
       "x8             818.417          7.68247e5   0.00    0.9992       -1.50492e6       1.50655e6\n",
       "x9            -702.081          2.39372e6  -0.00    0.9998       -4.69231e6       4.6909e6\n",
       "x10           -193.028          2.5322e6   -0.00    0.9999       -4.96321e6       4.96282e6\n",
       "x11            450.515          1.87146e6   0.00    0.9998       -3.66754e6       3.66844e6\n",
       "x12          -1097.81           9.4141e5   -0.00    0.9991       -1.84623e6       1.84403e6\n",
       "x13            424.759          2.8541e6    0.00    0.9999       -5.5935e6        5.59435e6\n",
       "x14            154.939          1.90582e6   0.00    0.9999       -3.73518e6       3.73549e6\n",
       "x15           -534.809          4.09951e5  -0.00    0.9990       -8.04024e5       8.02954e5\n",
       "x16            595.528          1.40196e6   0.00    0.9997       -2.7472e6        2.74839e6\n",
       "x17             35.3747         1.47781e6   0.00    1.0000       -2.89642e6       2.8965e6\n",
       "x18            -51.6015         9.32043e5  -0.00    1.0000       -1.82682e6       1.82672e6\n",
       "x19             32.0218         2.94051e5   0.00    0.9999  -576297.0        576361.0\n",
       "x20           -387.966          6.07271e5  -0.00    0.9995       -1.19062e6       1.18984e6\n",
       "x21            526.178          7.55027e5   0.00    0.9994       -1.4793e6        1.48035e6\n",
       "x22           -597.655          8.66859e5  -0.00    0.9994       -1.69961e6       1.69841e6\n",
       "x23            -43.3616         1.32928e6  -0.00    1.0000       -2.60539e6       2.60531e6\n",
       "x24             -0.129019       1.25603e6  -0.00    1.0000       -2.46177e6       2.46177e6\n",
       "x25           -136.383          1.15057e6  -0.00    0.9999       -2.25522e6       2.25495e6\n",
       "x26            538.367          5.23026e5   0.00    0.9992       -1.02457e6       1.02565e6\n",
       "x27           -605.583          5.01889e5  -0.00    0.9990       -9.84291e5       9.83079e5\n",
       "x28            437.4            6.54229e5   0.00    0.9995       -1.28183e6       1.2827e6\n",
       "x29            -97.2516         2.96232e5  -0.00    0.9997  -580702.0             5.80507e5\n",
       "x30           -616.364          4.1811e5   -0.00    0.9988       -8.20096e5       8.18864e5\n",
       "x31            849.058          5.14605e5   0.00    0.9987       -1.00776e6       1.00946e6\n",
       "x32           -258.192          3.58606e5  -0.00    0.9994       -7.03112e5       7.02596e5\n",
       "x33           -371.953          5.07263e5  -0.00    0.9994       -9.9459e5        9.93846e5\n",
       "x34            672.333          4.1036e5    0.00    0.9987       -8.03618e5       8.04962e5\n",
       "x35           -475.461     509822.0        -0.00    0.9993       -9.99708e5       9.98757e5\n",
       "x36             71.2866         5.38351e5   0.00    0.9999       -1.05508e6       1.05522e6\n",
       "x37            601.909          1.24385e6   0.00    0.9996       -2.43729e6       2.4385e6\n",
       "x38           -189.754          1.05396e6  -0.00    0.9999       -2.06591e6       2.06553e6\n",
       "x39           -141.88           4.88313e5  -0.00    0.9998       -9.57219e5       9.56935e5\n",
       "x40            211.61           7.34006e5   0.00    0.9998       -1.43841e6       1.43884e6\n",
       "x41             54.0205         1.17117e6   0.00    1.0000       -2.2954e6        2.29551e6\n",
       "x42           -236.898          7.82522e5  -0.00    0.9998       -1.53395e6       1.53348e6\n",
       "x43            -53.7022    944234.0        -0.00    1.0000       -1.85072e6       1.85061e6\n",
       "x44           -306.526          5.98736e5  -0.00    0.9996       -1.17381e6       1.17319e6\n",
       "x45            115.243          1.5729e6    0.00    0.9999       -3.08271e6       3.08294e6\n",
       "x46           -720.416          1.26058e6  -0.00    0.9995       -2.4714e6        2.46996e6\n",
       "x47           1106.76           3.2689e6    0.00    0.9997       -6.40582e6       6.40804e6\n",
       "x48          -1204.23           2.95202e6  -0.00    0.9997       -5.78706e6       5.78465e6\n",
       "x49          -2372.99           3.91741e6  -0.00    0.9995       -7.68036e6       7.67562e6\n",
       "x50           7267.02           2.53975e6   0.00    0.9977       -4.97055e6       4.98508e6\n",
       "x51          -5064.6            6.06616e6  -0.00    0.9993       -1.18945e7       1.18844e7\n",
       "x52          -2041.25           1.86582e6  -0.00    0.9991       -3.65898e6       3.6549e6\n",
       "x53          -1796.89           8.19727e6  -0.00    0.9998       -1.60681e7       1.60645e7\n",
       "x54          -2148.78           3.37351e6  -0.00    0.9995       -6.6141e6        6.6098e6\n",
       "x55           -107.098          1.16345e7  -0.00    1.0000       -2.28034e7       2.28032e7\n",
       "x56            927.841          1.03647e7   0.00    0.9999       -2.03134e7       2.03153e7\n",
       "x57          -1958.52           1.18403e7  -0.00    0.9999       -2.32085e7       2.32046e7\n",
       "x58          -4865.18           1.22968e7  -0.00    0.9997       -2.41062e7       2.40965e7\n",
       "x59          -5283.91           5.90422e6  -0.00    0.9993       -1.15773e7       1.15668e7\n",
       "x60           5686.36           5.49286e6   0.00    0.9992       -1.07601e7       1.07715e7\n",
       "───────────────────────────────────────────────────────────────────────────────────────────"
      ]
     },
     "execution_count": 13,
     "metadata": {},
     "output_type": "execute_result"
    }
   ],
   "source": [
    "fm = @formula(x61 ~ x1+ x2+ x3+ x4+ x5+ x6+ x7+ x8+ x9+ x10+ \n",
    "x11+ x12+ x13+ x14+ x15+ x16+ x17+ x18+ x19+ x20+ x21+ x22+ x23+ \n",
    "x24+ x25+ x26+ x27+ x28+ x29+ x30+ x31+ x32+ x33+ x34+ x35+ x36+ \n",
    "x37+ x38+ x39+ x40+ x41+ x42+ x43+ x44+ x45+ x46+ x47+ x48+ x49+ \n",
    "x50+ x51+ x52+ x53+ x54+ x55+ x56+ x57+ x58+ x59+ x60)\n",
    "\n",
    "logit = glm(fm, train, Binomial(), LogitLink())"
   ]
  },
  {
   "cell_type": "markdown",
   "id": "bb497a32",
   "metadata": {},
   "source": [
    "Para medir el desempeño del modelo, se obtienen las predicciones de este en la muestra test."
   ]
  },
  {
   "cell_type": "code",
   "execution_count": 14,
   "id": "ca847dfe",
   "metadata": {},
   "outputs": [],
   "source": [
    "ypredicted_test = GLM.predict(logit, test);\n",
    "\n",
    "prediction_class_test = [if x < 0.5 0 else 1 end for x in ypredicted_test];"
   ]
  },
  {
   "cell_type": "code",
   "execution_count": 15,
   "id": "2871c87d",
   "metadata": {},
   "outputs": [],
   "source": [
    "prediccion = [Int.(test.x61) Int.(prediction_class_test)]\n",
    "prediccion = DataFrame(prediccion, [:Real, :Prediccion]);"
   ]
  },
  {
   "cell_type": "code",
   "execution_count": 16,
   "id": "c4de1965",
   "metadata": {
    "scrolled": true
   },
   "outputs": [
    {
     "data": {
      "text/plain": [
       "ROCNums{Int64}\n",
       "  p = 77\n",
       "  n = 79\n",
       "  tp = 76\n",
       "  tn = 76\n",
       "  fp = 3\n",
       "  fn = 1\n"
      ]
     },
     "execution_count": 16,
     "metadata": {},
     "output_type": "execute_result"
    }
   ],
   "source": [
    "cm = MLBase.roc(prediccion.Real, prediccion.Prediccion)"
   ]
  },
  {
   "cell_type": "code",
   "execution_count": 17,
   "id": "7fbf367f",
   "metadata": {},
   "outputs": [],
   "source": [
    "sens = 76/(76+1);\n",
    "espe = 76/(76+3);\n",
    "auc = (sens + espe)/2;"
   ]
  },
  {
   "cell_type": "code",
   "execution_count": 18,
   "id": "28947a7b",
   "metadata": {},
   "outputs": [
    {
     "data": {
      "image/svg+xml": [
       "<?xml version=\"1.0\" encoding=\"utf-8\"?>\n",
       "<svg xmlns=\"http://www.w3.org/2000/svg\" xmlns:xlink=\"http://www.w3.org/1999/xlink\" width=\"600\" height=\"400\" viewBox=\"0 0 2400 1600\">\n",
       "<defs>\n",
       "  <clipPath id=\"clip600\">\n",
       "    <rect x=\"0\" y=\"0\" width=\"2400\" height=\"1600\"/>\n",
       "  </clipPath>\n",
       "</defs>\n",
       "<path clip-path=\"url(#clip600)\" d=\"\n",
       "M0 1600 L2400 1600 L2400 0 L0 0  Z\n",
       "  \" fill=\"#ffffff\" fill-rule=\"evenodd\" fill-opacity=\"1\"/>\n",
       "<defs>\n",
       "  <clipPath id=\"clip601\">\n",
       "    <rect x=\"480\" y=\"0\" width=\"1681\" height=\"1600\"/>\n",
       "  </clipPath>\n",
       "</defs>\n",
       "<path clip-path=\"url(#clip600)\" d=\"\n",
       "M186.274 1486.45 L2352.76 1486.45 L2352.76 123.472 L186.274 123.472  Z\n",
       "  \" fill=\"#ffffff\" fill-rule=\"evenodd\" fill-opacity=\"1\"/>\n",
       "<defs>\n",
       "  <clipPath id=\"clip602\">\n",
       "    <rect x=\"186\" y=\"123\" width=\"2167\" height=\"1364\"/>\n",
       "  </clipPath>\n",
       "</defs>\n",
       "<polyline clip-path=\"url(#clip602)\" style=\"stroke:#000000; stroke-linecap:butt; stroke-linejoin:round; stroke-width:2; stroke-opacity:0.1; fill:none\" points=\"\n",
       "  247.59,1486.45 247.59,123.472 \n",
       "  \"/>\n",
       "<polyline clip-path=\"url(#clip602)\" style=\"stroke:#000000; stroke-linecap:butt; stroke-linejoin:round; stroke-width:2; stroke-opacity:0.1; fill:none\" points=\"\n",
       "  758.552,1486.45 758.552,123.472 \n",
       "  \"/>\n",
       "<polyline clip-path=\"url(#clip602)\" style=\"stroke:#000000; stroke-linecap:butt; stroke-linejoin:round; stroke-width:2; stroke-opacity:0.1; fill:none\" points=\"\n",
       "  1269.51,1486.45 1269.51,123.472 \n",
       "  \"/>\n",
       "<polyline clip-path=\"url(#clip602)\" style=\"stroke:#000000; stroke-linecap:butt; stroke-linejoin:round; stroke-width:2; stroke-opacity:0.1; fill:none\" points=\"\n",
       "  1780.48,1486.45 1780.48,123.472 \n",
       "  \"/>\n",
       "<polyline clip-path=\"url(#clip602)\" style=\"stroke:#000000; stroke-linecap:butt; stroke-linejoin:round; stroke-width:2; stroke-opacity:0.1; fill:none\" points=\"\n",
       "  2291.44,1486.45 2291.44,123.472 \n",
       "  \"/>\n",
       "<polyline clip-path=\"url(#clip600)\" style=\"stroke:#000000; stroke-linecap:butt; stroke-linejoin:round; stroke-width:4; stroke-opacity:1; fill:none\" points=\"\n",
       "  186.274,1486.45 2352.76,1486.45 \n",
       "  \"/>\n",
       "<polyline clip-path=\"url(#clip600)\" style=\"stroke:#000000; stroke-linecap:butt; stroke-linejoin:round; stroke-width:4; stroke-opacity:1; fill:none\" points=\"\n",
       "  247.59,1486.45 247.59,1467.55 \n",
       "  \"/>\n",
       "<polyline clip-path=\"url(#clip600)\" style=\"stroke:#000000; stroke-linecap:butt; stroke-linejoin:round; stroke-width:4; stroke-opacity:1; fill:none\" points=\"\n",
       "  758.552,1486.45 758.552,1467.55 \n",
       "  \"/>\n",
       "<polyline clip-path=\"url(#clip600)\" style=\"stroke:#000000; stroke-linecap:butt; stroke-linejoin:round; stroke-width:4; stroke-opacity:1; fill:none\" points=\"\n",
       "  1269.51,1486.45 1269.51,1467.55 \n",
       "  \"/>\n",
       "<polyline clip-path=\"url(#clip600)\" style=\"stroke:#000000; stroke-linecap:butt; stroke-linejoin:round; stroke-width:4; stroke-opacity:1; fill:none\" points=\"\n",
       "  1780.48,1486.45 1780.48,1467.55 \n",
       "  \"/>\n",
       "<polyline clip-path=\"url(#clip600)\" style=\"stroke:#000000; stroke-linecap:butt; stroke-linejoin:round; stroke-width:4; stroke-opacity:1; fill:none\" points=\"\n",
       "  2291.44,1486.45 2291.44,1467.55 \n",
       "  \"/>\n",
       "<path clip-path=\"url(#clip600)\" d=\"M209.893 1517.37 Q206.282 1517.37 204.453 1520.93 Q202.648 1524.47 202.648 1531.6 Q202.648 1538.71 204.453 1542.27 Q206.282 1545.82 209.893 1545.82 Q213.527 1545.82 215.333 1542.27 Q217.161 1538.71 217.161 1531.6 Q217.161 1524.47 215.333 1520.93 Q213.527 1517.37 209.893 1517.37 M209.893 1513.66 Q215.703 1513.66 218.759 1518.27 Q221.837 1522.85 221.837 1531.6 Q221.837 1540.33 218.759 1544.94 Q215.703 1549.52 209.893 1549.52 Q204.083 1549.52 201.004 1544.94 Q197.949 1540.33 197.949 1531.6 Q197.949 1522.85 201.004 1518.27 Q204.083 1513.66 209.893 1513.66 Z\" fill=\"#000000\" fill-rule=\"evenodd\" fill-opacity=\"1\" /><path clip-path=\"url(#clip600)\" d=\"M230.055 1542.97 L234.939 1542.97 L234.939 1548.85 L230.055 1548.85 L230.055 1542.97 Z\" fill=\"#000000\" fill-rule=\"evenodd\" fill-opacity=\"1\" /><path clip-path=\"url(#clip600)\" d=\"M255.124 1517.37 Q251.513 1517.37 249.684 1520.93 Q247.879 1524.47 247.879 1531.6 Q247.879 1538.71 249.684 1542.27 Q251.513 1545.82 255.124 1545.82 Q258.758 1545.82 260.564 1542.27 Q262.393 1538.71 262.393 1531.6 Q262.393 1524.47 260.564 1520.93 Q258.758 1517.37 255.124 1517.37 M255.124 1513.66 Q260.934 1513.66 263.99 1518.27 Q267.069 1522.85 267.069 1531.6 Q267.069 1540.33 263.99 1544.94 Q260.934 1549.52 255.124 1549.52 Q249.314 1549.52 246.235 1544.94 Q243.18 1540.33 243.18 1531.6 Q243.18 1522.85 246.235 1518.27 Q249.314 1513.66 255.124 1513.66 Z\" fill=\"#000000\" fill-rule=\"evenodd\" fill-opacity=\"1\" /><path clip-path=\"url(#clip600)\" d=\"M285.286 1517.37 Q281.675 1517.37 279.846 1520.93 Q278.041 1524.47 278.041 1531.6 Q278.041 1538.71 279.846 1542.27 Q281.675 1545.82 285.286 1545.82 Q288.92 1545.82 290.726 1542.27 Q292.555 1538.71 292.555 1531.6 Q292.555 1524.47 290.726 1520.93 Q288.92 1517.37 285.286 1517.37 M285.286 1513.66 Q291.096 1513.66 294.152 1518.27 Q297.23 1522.85 297.23 1531.6 Q297.23 1540.33 294.152 1544.94 Q291.096 1549.52 285.286 1549.52 Q279.476 1549.52 276.397 1544.94 Q273.342 1540.33 273.342 1531.6 Q273.342 1522.85 276.397 1518.27 Q279.476 1513.66 285.286 1513.66 Z\" fill=\"#000000\" fill-rule=\"evenodd\" fill-opacity=\"1\" /><path clip-path=\"url(#clip600)\" d=\"M721.353 1517.37 Q717.742 1517.37 715.914 1520.93 Q714.108 1524.47 714.108 1531.6 Q714.108 1538.71 715.914 1542.27 Q717.742 1545.82 721.353 1545.82 Q724.988 1545.82 726.793 1542.27 Q728.622 1538.71 728.622 1531.6 Q728.622 1524.47 726.793 1520.93 Q724.988 1517.37 721.353 1517.37 M721.353 1513.66 Q727.164 1513.66 730.219 1518.27 Q733.298 1522.85 733.298 1531.6 Q733.298 1540.33 730.219 1544.94 Q727.164 1549.52 721.353 1549.52 Q715.543 1549.52 712.465 1544.94 Q709.409 1540.33 709.409 1531.6 Q709.409 1522.85 712.465 1518.27 Q715.543 1513.66 721.353 1513.66 Z\" fill=\"#000000\" fill-rule=\"evenodd\" fill-opacity=\"1\" /><path clip-path=\"url(#clip600)\" d=\"M741.515 1542.97 L746.4 1542.97 L746.4 1548.85 L741.515 1548.85 L741.515 1542.97 Z\" fill=\"#000000\" fill-rule=\"evenodd\" fill-opacity=\"1\" /><path clip-path=\"url(#clip600)\" d=\"M760.612 1544.91 L776.932 1544.91 L776.932 1548.85 L754.987 1548.85 L754.987 1544.91 Q757.649 1542.16 762.233 1537.53 Q766.839 1532.88 768.02 1531.53 Q770.265 1529.01 771.145 1527.27 Q772.048 1525.51 772.048 1523.82 Q772.048 1521.07 770.103 1519.33 Q768.182 1517.6 765.08 1517.6 Q762.881 1517.6 760.427 1518.36 Q757.997 1519.13 755.219 1520.68 L755.219 1515.95 Q758.043 1514.82 760.497 1514.24 Q762.95 1513.66 764.987 1513.66 Q770.358 1513.66 773.552 1516.35 Q776.747 1519.03 776.747 1523.52 Q776.747 1525.65 775.936 1527.57 Q775.149 1529.47 773.043 1532.07 Q772.464 1532.74 769.362 1535.95 Q766.261 1539.15 760.612 1544.91 Z\" fill=\"#000000\" fill-rule=\"evenodd\" fill-opacity=\"1\" /><path clip-path=\"url(#clip600)\" d=\"M786.793 1514.29 L805.149 1514.29 L805.149 1518.22 L791.075 1518.22 L791.075 1526.7 Q792.094 1526.35 793.112 1526.19 Q794.131 1526 795.149 1526 Q800.936 1526 804.316 1529.17 Q807.695 1532.34 807.695 1537.76 Q807.695 1543.34 804.223 1546.44 Q800.751 1549.52 794.432 1549.52 Q792.256 1549.52 789.987 1549.15 Q787.742 1548.78 785.335 1548.04 L785.335 1543.34 Q787.418 1544.47 789.64 1545.03 Q791.862 1545.58 794.339 1545.58 Q798.344 1545.58 800.682 1543.48 Q803.02 1541.37 803.02 1537.76 Q803.02 1534.15 800.682 1532.04 Q798.344 1529.94 794.339 1529.94 Q792.464 1529.94 790.589 1530.35 Q788.737 1530.77 786.793 1531.65 L786.793 1514.29 Z\" fill=\"#000000\" fill-rule=\"evenodd\" fill-opacity=\"1\" /><path clip-path=\"url(#clip600)\" d=\"M1231.82 1517.37 Q1228.21 1517.37 1226.38 1520.93 Q1224.57 1524.47 1224.57 1531.6 Q1224.57 1538.71 1226.38 1542.27 Q1228.21 1545.82 1231.82 1545.82 Q1235.45 1545.82 1237.26 1542.27 Q1239.09 1538.71 1239.09 1531.6 Q1239.09 1524.47 1237.26 1520.93 Q1235.45 1517.37 1231.82 1517.37 M1231.82 1513.66 Q1237.63 1513.66 1240.68 1518.27 Q1243.76 1522.85 1243.76 1531.6 Q1243.76 1540.33 1240.68 1544.94 Q1237.63 1549.52 1231.82 1549.52 Q1226.01 1549.52 1222.93 1544.94 Q1219.87 1540.33 1219.87 1531.6 Q1219.87 1522.85 1222.93 1518.27 Q1226.01 1513.66 1231.82 1513.66 Z\" fill=\"#000000\" fill-rule=\"evenodd\" fill-opacity=\"1\" /><path clip-path=\"url(#clip600)\" d=\"M1251.98 1542.97 L1256.86 1542.97 L1256.86 1548.85 L1251.98 1548.85 L1251.98 1542.97 Z\" fill=\"#000000\" fill-rule=\"evenodd\" fill-opacity=\"1\" /><path clip-path=\"url(#clip600)\" d=\"M1267.1 1514.29 L1285.45 1514.29 L1285.45 1518.22 L1271.38 1518.22 L1271.38 1526.7 Q1272.4 1526.35 1273.42 1526.19 Q1274.43 1526 1275.45 1526 Q1281.24 1526 1284.62 1529.17 Q1288 1532.34 1288 1537.76 Q1288 1543.34 1284.53 1546.44 Q1281.05 1549.52 1274.73 1549.52 Q1272.56 1549.52 1270.29 1549.15 Q1268.05 1548.78 1265.64 1548.04 L1265.64 1543.34 Q1267.72 1544.47 1269.94 1545.03 Q1272.17 1545.58 1274.64 1545.58 Q1278.65 1545.58 1280.98 1543.48 Q1283.32 1541.37 1283.32 1537.76 Q1283.32 1534.15 1280.98 1532.04 Q1278.65 1529.94 1274.64 1529.94 Q1272.77 1529.94 1270.89 1530.35 Q1269.04 1530.77 1267.1 1531.65 L1267.1 1514.29 Z\" fill=\"#000000\" fill-rule=\"evenodd\" fill-opacity=\"1\" /><path clip-path=\"url(#clip600)\" d=\"M1307.21 1517.37 Q1303.6 1517.37 1301.77 1520.93 Q1299.97 1524.47 1299.97 1531.6 Q1299.97 1538.71 1301.77 1542.27 Q1303.6 1545.82 1307.21 1545.82 Q1310.85 1545.82 1312.65 1542.27 Q1314.48 1538.71 1314.48 1531.6 Q1314.48 1524.47 1312.65 1520.93 Q1310.85 1517.37 1307.21 1517.37 M1307.21 1513.66 Q1313.02 1513.66 1316.08 1518.27 Q1319.16 1522.85 1319.16 1531.6 Q1319.16 1540.33 1316.08 1544.94 Q1313.02 1549.52 1307.21 1549.52 Q1301.4 1549.52 1298.32 1544.94 Q1295.27 1540.33 1295.27 1531.6 Q1295.27 1522.85 1298.32 1518.27 Q1301.4 1513.66 1307.21 1513.66 Z\" fill=\"#000000\" fill-rule=\"evenodd\" fill-opacity=\"1\" /><path clip-path=\"url(#clip600)\" d=\"M1743.28 1517.37 Q1739.67 1517.37 1737.84 1520.93 Q1736.03 1524.47 1736.03 1531.6 Q1736.03 1538.71 1737.84 1542.27 Q1739.67 1545.82 1743.28 1545.82 Q1746.91 1545.82 1748.72 1542.27 Q1750.55 1538.71 1750.55 1531.6 Q1750.55 1524.47 1748.72 1520.93 Q1746.91 1517.37 1743.28 1517.37 M1743.28 1513.66 Q1749.09 1513.66 1752.14 1518.27 Q1755.22 1522.85 1755.22 1531.6 Q1755.22 1540.33 1752.14 1544.94 Q1749.09 1549.52 1743.28 1549.52 Q1737.47 1549.52 1734.39 1544.94 Q1731.33 1540.33 1731.33 1531.6 Q1731.33 1522.85 1734.39 1518.27 Q1737.47 1513.66 1743.28 1513.66 Z\" fill=\"#000000\" fill-rule=\"evenodd\" fill-opacity=\"1\" /><path clip-path=\"url(#clip600)\" d=\"M1763.44 1542.97 L1768.32 1542.97 L1768.32 1548.85 L1763.44 1548.85 L1763.44 1542.97 Z\" fill=\"#000000\" fill-rule=\"evenodd\" fill-opacity=\"1\" /><path clip-path=\"url(#clip600)\" d=\"M1777.33 1514.29 L1799.55 1514.29 L1799.55 1516.28 L1787.01 1548.85 L1782.12 1548.85 L1793.93 1518.22 L1777.33 1518.22 L1777.33 1514.29 Z\" fill=\"#000000\" fill-rule=\"evenodd\" fill-opacity=\"1\" /><path clip-path=\"url(#clip600)\" d=\"M1808.72 1514.29 L1827.07 1514.29 L1827.07 1518.22 L1813 1518.22 L1813 1526.7 Q1814.02 1526.35 1815.04 1526.19 Q1816.06 1526 1817.07 1526 Q1822.86 1526 1826.24 1529.17 Q1829.62 1532.34 1829.62 1537.76 Q1829.62 1543.34 1826.15 1546.44 Q1822.68 1549.52 1816.36 1549.52 Q1814.18 1549.52 1811.91 1549.15 Q1809.67 1548.78 1807.26 1548.04 L1807.26 1543.34 Q1809.34 1544.47 1811.57 1545.03 Q1813.79 1545.58 1816.26 1545.58 Q1820.27 1545.58 1822.61 1543.48 Q1824.95 1541.37 1824.95 1537.76 Q1824.95 1534.15 1822.61 1532.04 Q1820.27 1529.94 1816.26 1529.94 Q1814.39 1529.94 1812.51 1530.35 Q1810.66 1530.77 1808.72 1531.65 L1808.72 1514.29 Z\" fill=\"#000000\" fill-rule=\"evenodd\" fill-opacity=\"1\" /><path clip-path=\"url(#clip600)\" d=\"M2243.51 1544.91 L2251.15 1544.91 L2251.15 1518.55 L2242.84 1520.21 L2242.84 1515.95 L2251.1 1514.29 L2255.78 1514.29 L2255.78 1544.91 L2263.42 1544.91 L2263.42 1548.85 L2243.51 1548.85 L2243.51 1544.91 Z\" fill=\"#000000\" fill-rule=\"evenodd\" fill-opacity=\"1\" /><path clip-path=\"url(#clip600)\" d=\"M2272.86 1542.97 L2277.75 1542.97 L2277.75 1548.85 L2272.86 1548.85 L2272.86 1542.97 Z\" fill=\"#000000\" fill-rule=\"evenodd\" fill-opacity=\"1\" /><path clip-path=\"url(#clip600)\" d=\"M2297.93 1517.37 Q2294.32 1517.37 2292.49 1520.93 Q2290.69 1524.47 2290.69 1531.6 Q2290.69 1538.71 2292.49 1542.27 Q2294.32 1545.82 2297.93 1545.82 Q2301.57 1545.82 2303.37 1542.27 Q2305.2 1538.71 2305.2 1531.6 Q2305.2 1524.47 2303.37 1520.93 Q2301.57 1517.37 2297.93 1517.37 M2297.93 1513.66 Q2303.74 1513.66 2306.8 1518.27 Q2309.88 1522.85 2309.88 1531.6 Q2309.88 1540.33 2306.8 1544.94 Q2303.74 1549.52 2297.93 1549.52 Q2292.12 1549.52 2289.04 1544.94 Q2285.99 1540.33 2285.99 1531.6 Q2285.99 1522.85 2289.04 1518.27 Q2292.12 1513.66 2297.93 1513.66 Z\" fill=\"#000000\" fill-rule=\"evenodd\" fill-opacity=\"1\" /><path clip-path=\"url(#clip600)\" d=\"M2328.1 1517.37 Q2324.48 1517.37 2322.66 1520.93 Q2320.85 1524.47 2320.85 1531.6 Q2320.85 1538.71 2322.66 1542.27 Q2324.48 1545.82 2328.1 1545.82 Q2331.73 1545.82 2333.54 1542.27 Q2335.36 1538.71 2335.36 1531.6 Q2335.36 1524.47 2333.54 1520.93 Q2331.73 1517.37 2328.1 1517.37 M2328.1 1513.66 Q2333.91 1513.66 2336.96 1518.27 Q2340.04 1522.85 2340.04 1531.6 Q2340.04 1540.33 2336.96 1544.94 Q2333.91 1549.52 2328.1 1549.52 Q2322.29 1549.52 2319.21 1544.94 Q2316.15 1540.33 2316.15 1531.6 Q2316.15 1522.85 2319.21 1518.27 Q2322.29 1513.66 2328.1 1513.66 Z\" fill=\"#000000\" fill-rule=\"evenodd\" fill-opacity=\"1\" /><polyline clip-path=\"url(#clip602)\" style=\"stroke:#000000; stroke-linecap:butt; stroke-linejoin:round; stroke-width:2; stroke-opacity:0.1; fill:none\" points=\"\n",
       "  186.274,1447.87 2352.76,1447.87 \n",
       "  \"/>\n",
       "<polyline clip-path=\"url(#clip602)\" style=\"stroke:#000000; stroke-linecap:butt; stroke-linejoin:round; stroke-width:2; stroke-opacity:0.1; fill:none\" points=\"\n",
       "  186.274,1126.42 2352.76,1126.42 \n",
       "  \"/>\n",
       "<polyline clip-path=\"url(#clip602)\" style=\"stroke:#000000; stroke-linecap:butt; stroke-linejoin:round; stroke-width:2; stroke-opacity:0.1; fill:none\" points=\"\n",
       "  186.274,804.96 2352.76,804.96 \n",
       "  \"/>\n",
       "<polyline clip-path=\"url(#clip602)\" style=\"stroke:#000000; stroke-linecap:butt; stroke-linejoin:round; stroke-width:2; stroke-opacity:0.1; fill:none\" points=\"\n",
       "  186.274,483.503 2352.76,483.503 \n",
       "  \"/>\n",
       "<polyline clip-path=\"url(#clip602)\" style=\"stroke:#000000; stroke-linecap:butt; stroke-linejoin:round; stroke-width:2; stroke-opacity:0.1; fill:none\" points=\"\n",
       "  186.274,162.047 2352.76,162.047 \n",
       "  \"/>\n",
       "<polyline clip-path=\"url(#clip600)\" style=\"stroke:#000000; stroke-linecap:butt; stroke-linejoin:round; stroke-width:4; stroke-opacity:1; fill:none\" points=\"\n",
       "  186.274,1486.45 186.274,123.472 \n",
       "  \"/>\n",
       "<polyline clip-path=\"url(#clip600)\" style=\"stroke:#000000; stroke-linecap:butt; stroke-linejoin:round; stroke-width:4; stroke-opacity:1; fill:none\" points=\"\n",
       "  186.274,1447.87 205.172,1447.87 \n",
       "  \"/>\n",
       "<polyline clip-path=\"url(#clip600)\" style=\"stroke:#000000; stroke-linecap:butt; stroke-linejoin:round; stroke-width:4; stroke-opacity:1; fill:none\" points=\"\n",
       "  186.274,1126.42 205.172,1126.42 \n",
       "  \"/>\n",
       "<polyline clip-path=\"url(#clip600)\" style=\"stroke:#000000; stroke-linecap:butt; stroke-linejoin:round; stroke-width:4; stroke-opacity:1; fill:none\" points=\"\n",
       "  186.274,804.96 205.172,804.96 \n",
       "  \"/>\n",
       "<polyline clip-path=\"url(#clip600)\" style=\"stroke:#000000; stroke-linecap:butt; stroke-linejoin:round; stroke-width:4; stroke-opacity:1; fill:none\" points=\"\n",
       "  186.274,483.503 205.172,483.503 \n",
       "  \"/>\n",
       "<polyline clip-path=\"url(#clip600)\" style=\"stroke:#000000; stroke-linecap:butt; stroke-linejoin:round; stroke-width:4; stroke-opacity:1; fill:none\" points=\"\n",
       "  186.274,162.047 205.172,162.047 \n",
       "  \"/>\n",
       "<path clip-path=\"url(#clip600)\" d=\"M62.9365 1433.67 Q59.3254 1433.67 57.4967 1437.24 Q55.6912 1440.78 55.6912 1447.91 Q55.6912 1455.01 57.4967 1458.58 Q59.3254 1462.12 62.9365 1462.12 Q66.5707 1462.12 68.3763 1458.58 Q70.205 1455.01 70.205 1447.91 Q70.205 1440.78 68.3763 1437.24 Q66.5707 1433.67 62.9365 1433.67 M62.9365 1429.97 Q68.7467 1429.97 71.8022 1434.57 Q74.8809 1439.16 74.8809 1447.91 Q74.8809 1456.63 71.8022 1461.24 Q68.7467 1465.82 62.9365 1465.82 Q57.1264 1465.82 54.0477 1461.24 Q50.9921 1456.63 50.9921 1447.91 Q50.9921 1439.16 54.0477 1434.57 Q57.1264 1429.97 62.9365 1429.97 Z\" fill=\"#000000\" fill-rule=\"evenodd\" fill-opacity=\"1\" /><path clip-path=\"url(#clip600)\" d=\"M83.0984 1459.27 L87.9827 1459.27 L87.9827 1465.15 L83.0984 1465.15 L83.0984 1459.27 Z\" fill=\"#000000\" fill-rule=\"evenodd\" fill-opacity=\"1\" /><path clip-path=\"url(#clip600)\" d=\"M108.168 1433.67 Q104.557 1433.67 102.728 1437.24 Q100.922 1440.78 100.922 1447.91 Q100.922 1455.01 102.728 1458.58 Q104.557 1462.12 108.168 1462.12 Q111.802 1462.12 113.608 1458.58 Q115.436 1455.01 115.436 1447.91 Q115.436 1440.78 113.608 1437.24 Q111.802 1433.67 108.168 1433.67 M108.168 1429.97 Q113.978 1429.97 117.033 1434.57 Q120.112 1439.16 120.112 1447.91 Q120.112 1456.63 117.033 1461.24 Q113.978 1465.82 108.168 1465.82 Q102.358 1465.82 99.2789 1461.24 Q96.2234 1456.63 96.2234 1447.91 Q96.2234 1439.16 99.2789 1434.57 Q102.358 1429.97 108.168 1429.97 Z\" fill=\"#000000\" fill-rule=\"evenodd\" fill-opacity=\"1\" /><path clip-path=\"url(#clip600)\" d=\"M138.33 1433.67 Q134.719 1433.67 132.89 1437.24 Q131.084 1440.78 131.084 1447.91 Q131.084 1455.01 132.89 1458.58 Q134.719 1462.12 138.33 1462.12 Q141.964 1462.12 143.769 1458.58 Q145.598 1455.01 145.598 1447.91 Q145.598 1440.78 143.769 1437.24 Q141.964 1433.67 138.33 1433.67 M138.33 1429.97 Q144.14 1429.97 147.195 1434.57 Q150.274 1439.16 150.274 1447.91 Q150.274 1456.63 147.195 1461.24 Q144.14 1465.82 138.33 1465.82 Q132.519 1465.82 129.441 1461.24 Q126.385 1456.63 126.385 1447.91 Q126.385 1439.16 129.441 1434.57 Q132.519 1429.97 138.33 1429.97 Z\" fill=\"#000000\" fill-rule=\"evenodd\" fill-opacity=\"1\" /><path clip-path=\"url(#clip600)\" d=\"M63.9319 1112.22 Q60.3208 1112.22 58.4921 1115.78 Q56.6865 1119.32 56.6865 1126.45 Q56.6865 1133.56 58.4921 1137.12 Q60.3208 1140.66 63.9319 1140.66 Q67.5661 1140.66 69.3717 1137.12 Q71.2004 1133.56 71.2004 1126.45 Q71.2004 1119.32 69.3717 1115.78 Q67.5661 1112.22 63.9319 1112.22 M63.9319 1108.51 Q69.742 1108.51 72.7976 1113.12 Q75.8763 1117.7 75.8763 1126.45 Q75.8763 1135.18 72.7976 1139.78 Q69.742 1144.37 63.9319 1144.37 Q58.1217 1144.37 55.043 1139.78 Q51.9875 1135.18 51.9875 1126.45 Q51.9875 1117.7 55.043 1113.12 Q58.1217 1108.51 63.9319 1108.51 Z\" fill=\"#000000\" fill-rule=\"evenodd\" fill-opacity=\"1\" /><path clip-path=\"url(#clip600)\" d=\"M84.0938 1137.82 L88.978 1137.82 L88.978 1143.7 L84.0938 1143.7 L84.0938 1137.82 Z\" fill=\"#000000\" fill-rule=\"evenodd\" fill-opacity=\"1\" /><path clip-path=\"url(#clip600)\" d=\"M103.191 1139.76 L119.51 1139.76 L119.51 1143.7 L97.566 1143.7 L97.566 1139.76 Q100.228 1137.01 104.811 1132.38 Q109.418 1127.72 110.598 1126.38 Q112.844 1123.86 113.723 1122.12 Q114.626 1120.36 114.626 1118.67 Q114.626 1115.92 112.682 1114.18 Q110.76 1112.45 107.658 1112.45 Q105.459 1112.45 103.006 1113.21 Q100.575 1113.97 97.7974 1115.53 L97.7974 1110.8 Q100.621 1109.67 103.075 1109.09 Q105.529 1108.51 107.566 1108.51 Q112.936 1108.51 116.131 1111.2 Q119.325 1113.88 119.325 1118.37 Q119.325 1120.5 118.515 1122.42 Q117.728 1124.32 115.621 1126.91 Q115.043 1127.59 111.941 1130.8 Q108.839 1134 103.191 1139.76 Z\" fill=\"#000000\" fill-rule=\"evenodd\" fill-opacity=\"1\" /><path clip-path=\"url(#clip600)\" d=\"M129.371 1109.14 L147.728 1109.14 L147.728 1113.07 L133.654 1113.07 L133.654 1121.54 Q134.672 1121.2 135.691 1121.03 Q136.709 1120.85 137.728 1120.85 Q143.515 1120.85 146.894 1124.02 Q150.274 1127.19 150.274 1132.61 Q150.274 1138.19 146.802 1141.29 Q143.33 1144.37 137.01 1144.37 Q134.834 1144.37 132.566 1144 Q130.32 1143.63 127.913 1142.89 L127.913 1138.19 Q129.996 1139.32 132.219 1139.88 Q134.441 1140.43 136.918 1140.43 Q140.922 1140.43 143.26 1138.33 Q145.598 1136.22 145.598 1132.61 Q145.598 1129 143.26 1126.89 Q140.922 1124.78 136.918 1124.78 Q135.043 1124.78 133.168 1125.2 Q131.316 1125.62 129.371 1126.5 L129.371 1109.14 Z\" fill=\"#000000\" fill-rule=\"evenodd\" fill-opacity=\"1\" /><path clip-path=\"url(#clip600)\" d=\"M62.9365 790.759 Q59.3254 790.759 57.4967 794.323 Q55.6912 797.865 55.6912 804.995 Q55.6912 812.101 57.4967 815.666 Q59.3254 819.208 62.9365 819.208 Q66.5707 819.208 68.3763 815.666 Q70.205 812.101 70.205 804.995 Q70.205 797.865 68.3763 794.323 Q66.5707 790.759 62.9365 790.759 M62.9365 787.055 Q68.7467 787.055 71.8022 791.661 Q74.8809 796.245 74.8809 804.995 Q74.8809 813.722 71.8022 818.328 Q68.7467 822.911 62.9365 822.911 Q57.1264 822.911 54.0477 818.328 Q50.9921 813.722 50.9921 804.995 Q50.9921 796.245 54.0477 791.661 Q57.1264 787.055 62.9365 787.055 Z\" fill=\"#000000\" fill-rule=\"evenodd\" fill-opacity=\"1\" /><path clip-path=\"url(#clip600)\" d=\"M83.0984 816.36 L87.9827 816.36 L87.9827 822.24 L83.0984 822.24 L83.0984 816.36 Z\" fill=\"#000000\" fill-rule=\"evenodd\" fill-opacity=\"1\" /><path clip-path=\"url(#clip600)\" d=\"M98.2141 787.68 L116.57 787.68 L116.57 791.615 L102.496 791.615 L102.496 800.087 Q103.515 799.74 104.534 799.578 Q105.552 799.393 106.571 799.393 Q112.358 799.393 115.737 802.564 Q119.117 805.735 119.117 811.152 Q119.117 816.731 115.645 819.833 Q112.172 822.911 105.853 822.911 Q103.677 822.911 101.409 822.541 Q99.1632 822.171 96.7558 821.43 L96.7558 816.731 Q98.8391 817.865 101.061 818.421 Q103.284 818.976 105.76 818.976 Q109.765 818.976 112.103 816.87 Q114.441 814.763 114.441 811.152 Q114.441 807.541 112.103 805.435 Q109.765 803.328 105.76 803.328 Q103.885 803.328 102.01 803.745 Q100.159 804.161 98.2141 805.041 L98.2141 787.68 Z\" fill=\"#000000\" fill-rule=\"evenodd\" fill-opacity=\"1\" /><path clip-path=\"url(#clip600)\" d=\"M138.33 790.759 Q134.719 790.759 132.89 794.323 Q131.084 797.865 131.084 804.995 Q131.084 812.101 132.89 815.666 Q134.719 819.208 138.33 819.208 Q141.964 819.208 143.769 815.666 Q145.598 812.101 145.598 804.995 Q145.598 797.865 143.769 794.323 Q141.964 790.759 138.33 790.759 M138.33 787.055 Q144.14 787.055 147.195 791.661 Q150.274 796.245 150.274 804.995 Q150.274 813.722 147.195 818.328 Q144.14 822.911 138.33 822.911 Q132.519 822.911 129.441 818.328 Q126.385 813.722 126.385 804.995 Q126.385 796.245 129.441 791.661 Q132.519 787.055 138.33 787.055 Z\" fill=\"#000000\" fill-rule=\"evenodd\" fill-opacity=\"1\" /><path clip-path=\"url(#clip600)\" d=\"M63.9319 469.302 Q60.3208 469.302 58.4921 472.867 Q56.6865 476.409 56.6865 483.538 Q56.6865 490.645 58.4921 494.209 Q60.3208 497.751 63.9319 497.751 Q67.5661 497.751 69.3717 494.209 Q71.2004 490.645 71.2004 483.538 Q71.2004 476.409 69.3717 472.867 Q67.5661 469.302 63.9319 469.302 M63.9319 465.598 Q69.742 465.598 72.7976 470.205 Q75.8763 474.788 75.8763 483.538 Q75.8763 492.265 72.7976 496.871 Q69.742 501.455 63.9319 501.455 Q58.1217 501.455 55.043 496.871 Q51.9875 492.265 51.9875 483.538 Q51.9875 474.788 55.043 470.205 Q58.1217 465.598 63.9319 465.598 Z\" fill=\"#000000\" fill-rule=\"evenodd\" fill-opacity=\"1\" /><path clip-path=\"url(#clip600)\" d=\"M84.0938 494.904 L88.978 494.904 L88.978 500.783 L84.0938 500.783 L84.0938 494.904 Z\" fill=\"#000000\" fill-rule=\"evenodd\" fill-opacity=\"1\" /><path clip-path=\"url(#clip600)\" d=\"M97.9826 466.223 L120.205 466.223 L120.205 468.214 L107.658 500.783 L102.774 500.783 L114.58 470.159 L97.9826 470.159 L97.9826 466.223 Z\" fill=\"#000000\" fill-rule=\"evenodd\" fill-opacity=\"1\" /><path clip-path=\"url(#clip600)\" d=\"M129.371 466.223 L147.728 466.223 L147.728 470.159 L133.654 470.159 L133.654 478.631 Q134.672 478.284 135.691 478.122 Q136.709 477.936 137.728 477.936 Q143.515 477.936 146.894 481.108 Q150.274 484.279 150.274 489.696 Q150.274 495.274 146.802 498.376 Q143.33 501.455 137.01 501.455 Q134.834 501.455 132.566 501.084 Q130.32 500.714 127.913 499.973 L127.913 495.274 Q129.996 496.408 132.219 496.964 Q134.441 497.52 136.918 497.52 Q140.922 497.52 143.26 495.413 Q145.598 493.307 145.598 489.696 Q145.598 486.084 143.26 483.978 Q140.922 481.872 136.918 481.872 Q135.043 481.872 133.168 482.288 Q131.316 482.705 129.371 483.584 L129.371 466.223 Z\" fill=\"#000000\" fill-rule=\"evenodd\" fill-opacity=\"1\" /><path clip-path=\"url(#clip600)\" d=\"M53.7467 175.392 L61.3856 175.392 L61.3856 149.026 L53.0754 150.693 L53.0754 146.434 L61.3393 144.767 L66.0152 144.767 L66.0152 175.392 L73.654 175.392 L73.654 179.327 L53.7467 179.327 L53.7467 175.392 Z\" fill=\"#000000\" fill-rule=\"evenodd\" fill-opacity=\"1\" /><path clip-path=\"url(#clip600)\" d=\"M83.0984 173.447 L87.9827 173.447 L87.9827 179.327 L83.0984 179.327 L83.0984 173.447 Z\" fill=\"#000000\" fill-rule=\"evenodd\" fill-opacity=\"1\" /><path clip-path=\"url(#clip600)\" d=\"M108.168 147.846 Q104.557 147.846 102.728 151.41 Q100.922 154.952 100.922 162.082 Q100.922 169.188 102.728 172.753 Q104.557 176.295 108.168 176.295 Q111.802 176.295 113.608 172.753 Q115.436 169.188 115.436 162.082 Q115.436 154.952 113.608 151.41 Q111.802 147.846 108.168 147.846 M108.168 144.142 Q113.978 144.142 117.033 148.748 Q120.112 153.332 120.112 162.082 Q120.112 170.808 117.033 175.415 Q113.978 179.998 108.168 179.998 Q102.358 179.998 99.2789 175.415 Q96.2234 170.808 96.2234 162.082 Q96.2234 153.332 99.2789 148.748 Q102.358 144.142 108.168 144.142 Z\" fill=\"#000000\" fill-rule=\"evenodd\" fill-opacity=\"1\" /><path clip-path=\"url(#clip600)\" d=\"M138.33 147.846 Q134.719 147.846 132.89 151.41 Q131.084 154.952 131.084 162.082 Q131.084 169.188 132.89 172.753 Q134.719 176.295 138.33 176.295 Q141.964 176.295 143.769 172.753 Q145.598 169.188 145.598 162.082 Q145.598 154.952 143.769 151.41 Q141.964 147.846 138.33 147.846 M138.33 144.142 Q144.14 144.142 147.195 148.748 Q150.274 153.332 150.274 162.082 Q150.274 170.808 147.195 175.415 Q144.14 179.998 138.33 179.998 Q132.519 179.998 129.441 175.415 Q126.385 170.808 126.385 162.082 Q126.385 153.332 129.441 148.748 Q132.519 144.142 138.33 144.142 Z\" fill=\"#000000\" fill-rule=\"evenodd\" fill-opacity=\"1\" /><path clip-path=\"url(#clip600)\" d=\"M1084.63 44.2197 Q1087.26 45.1109 1089.74 48.0275 Q1092.25 50.9442 1094.76 56.0483 L1103.06 72.576 L1094.27 72.576 L1086.54 57.061 Q1083.54 50.9847 1080.7 48.9997 Q1077.91 47.0148 1073.05 47.0148 L1064.13 47.0148 L1064.13 72.576 L1055.95 72.576 L1055.95 12.096 L1074.42 12.096 Q1084.79 12.096 1089.9 16.4305 Q1095 20.7649 1095 29.5149 Q1095 35.2267 1092.33 38.994 Q1089.7 42.7613 1084.63 44.2197 M1064.13 18.8205 L1064.13 40.2903 L1074.42 40.2903 Q1080.34 40.2903 1083.34 37.5762 Q1086.37 34.8216 1086.37 29.5149 Q1086.37 24.2082 1083.34 21.5346 Q1080.34 18.8205 1074.42 18.8205 L1064.13 18.8205 Z\" fill=\"#000000\" fill-rule=\"evenodd\" fill-opacity=\"1\" /><path clip-path=\"url(#clip600)\" d=\"M1138.14 17.6457 Q1129.23 17.6457 1123.97 24.2892 Q1118.74 30.9327 1118.74 42.3968 Q1118.74 53.8203 1123.97 60.4638 Q1129.23 67.1073 1138.14 67.1073 Q1147.06 67.1073 1152.24 60.4638 Q1157.47 53.8203 1157.47 42.3968 Q1157.47 30.9327 1152.24 24.2892 Q1147.06 17.6457 1138.14 17.6457 M1138.14 11.0023 Q1150.86 11.0023 1158.48 19.5497 Q1166.1 28.0566 1166.1 42.3968 Q1166.1 56.6965 1158.48 65.2439 Q1150.86 73.7508 1138.14 73.7508 Q1125.38 73.7508 1117.73 65.2439 Q1110.11 56.737 1110.11 42.3968 Q1110.11 28.0566 1117.73 19.5497 Q1125.38 11.0023 1138.14 11.0023 Z\" fill=\"#000000\" fill-rule=\"evenodd\" fill-opacity=\"1\" /><path clip-path=\"url(#clip600)\" d=\"M1224.19 16.7545 L1224.19 25.383 Q1220.05 21.5346 1215.35 19.6307 Q1210.7 17.7268 1205.43 17.7268 Q1195.06 17.7268 1189.55 24.0867 Q1184.04 30.4061 1184.04 42.3968 Q1184.04 54.3469 1189.55 60.7069 Q1195.06 67.0263 1205.43 67.0263 Q1210.7 67.0263 1215.35 65.1223 Q1220.05 63.2184 1224.19 59.3701 L1224.19 67.9175 Q1219.89 70.8341 1215.07 72.2924 Q1210.29 73.7508 1204.94 73.7508 Q1191.21 73.7508 1183.31 65.3654 Q1175.41 56.9395 1175.41 42.3968 Q1175.41 27.8135 1183.31 19.4281 Q1191.21 11.0023 1204.94 11.0023 Q1210.37 11.0023 1215.15 12.4606 Q1219.97 13.8784 1224.19 16.7545 Z\" fill=\"#000000\" fill-rule=\"evenodd\" fill-opacity=\"1\" /><path clip-path=\"url(#clip600)\" d=\"M1295.52 28.9478 L1295.52 35.9153 Q1292.36 34.1734 1289.16 33.3227 Q1286 32.4315 1282.76 32.4315 Q1275.51 32.4315 1271.5 37.0496 Q1267.49 41.6271 1267.49 49.9314 Q1267.49 58.2358 1271.5 62.8538 Q1275.51 67.4314 1282.76 67.4314 Q1286 67.4314 1289.16 66.5807 Q1292.36 65.6895 1295.52 63.9476 L1295.52 70.8341 Q1292.4 72.2924 1289.04 73.0216 Q1285.72 73.7508 1281.95 73.7508 Q1271.7 73.7508 1265.67 67.3098 Q1259.63 60.8689 1259.63 49.9314 Q1259.63 38.832 1265.71 32.472 Q1271.82 26.1121 1282.44 26.1121 Q1285.88 26.1121 1289.16 26.8413 Q1292.44 27.5299 1295.52 28.9478 Z\" fill=\"#000000\" fill-rule=\"evenodd\" fill-opacity=\"1\" /><path clip-path=\"url(#clip600)\" d=\"M1307.71 54.671 L1307.71 27.2059 L1315.17 27.2059 L1315.17 54.3874 Q1315.17 60.8284 1317.68 64.0691 Q1320.19 67.2693 1325.21 67.2693 Q1331.25 67.2693 1334.73 63.421 Q1338.26 59.5726 1338.26 52.9291 L1338.26 27.2059 L1345.71 27.2059 L1345.71 72.576 L1338.26 72.576 L1338.26 65.6084 Q1335.54 69.7404 1331.94 71.7658 Q1328.37 73.7508 1323.64 73.7508 Q1315.82 73.7508 1311.77 68.8897 Q1307.71 64.0286 1307.71 54.671 M1326.47 26.1121 L1326.47 26.1121 Z\" fill=\"#000000\" fill-rule=\"evenodd\" fill-opacity=\"1\" /><path clip-path=\"url(#clip600)\" d=\"M1387.36 34.1734 Q1386.1 33.4443 1384.6 33.1202 Q1383.14 32.7556 1381.36 32.7556 Q1375.04 32.7556 1371.64 36.8875 Q1368.28 40.9789 1368.28 48.6757 L1368.28 72.576 L1360.78 72.576 L1360.78 27.2059 L1368.28 27.2059 L1368.28 34.2544 Q1370.63 30.1225 1374.39 28.1376 Q1378.16 26.1121 1383.55 26.1121 Q1384.32 26.1121 1385.25 26.2337 Q1386.18 26.3147 1387.32 26.5172 L1387.36 34.1734 Z\" fill=\"#000000\" fill-rule=\"evenodd\" fill-opacity=\"1\" /><path clip-path=\"url(#clip600)\" d=\"M1389.83 27.2059 L1397.73 27.2059 L1411.9 65.2844 L1426.08 27.2059 L1433.98 27.2059 L1416.97 72.576 L1406.84 72.576 L1389.83 27.2059 Z\" fill=\"#000000\" fill-rule=\"evenodd\" fill-opacity=\"1\" /><path clip-path=\"url(#clip600)\" d=\"M1483.08 48.0275 L1483.08 51.6733 L1448.81 51.6733 Q1449.29 59.3701 1453.43 63.421 Q1457.6 67.4314 1465.01 67.4314 Q1469.31 67.4314 1473.32 66.3781 Q1477.37 65.3249 1481.34 63.2184 L1481.34 70.267 Q1477.33 71.9684 1473.11 72.8596 Q1468.9 73.7508 1464.57 73.7508 Q1453.71 73.7508 1447.35 67.4314 Q1441.03 61.1119 1441.03 50.3365 Q1441.03 39.1965 1447.03 32.6746 Q1453.06 26.1121 1463.27 26.1121 Q1472.42 26.1121 1477.73 32.0264 Q1483.08 37.9003 1483.08 48.0275 M1475.62 45.84 Q1475.54 39.7232 1472.18 36.0774 Q1468.86 32.4315 1463.35 32.4315 Q1457.11 32.4315 1453.34 35.9558 Q1449.62 39.4801 1449.05 45.8805 L1475.62 45.84 Z\" fill=\"#000000\" fill-rule=\"evenodd\" fill-opacity=\"1\" /><polyline clip-path=\"url(#clip602)\" style=\"stroke:#009af9; stroke-linecap:butt; stroke-linejoin:round; stroke-width:4; stroke-opacity:1; fill:none\" points=\"\n",
       "  247.59,1447.87 325.204,178.746 2291.44,162.047 \n",
       "  \"/>\n",
       "<path clip-path=\"url(#clip600)\" d=\"\n",
       "M1987.39 272.585 L2280.54 272.585 L2280.54 168.905 L1987.39 168.905  Z\n",
       "  \" fill=\"#ffffff\" fill-rule=\"evenodd\" fill-opacity=\"1\"/>\n",
       "<polyline clip-path=\"url(#clip600)\" style=\"stroke:#000000; stroke-linecap:butt; stroke-linejoin:round; stroke-width:4; stroke-opacity:1; fill:none\" points=\"\n",
       "  1987.39,272.585 2280.54,272.585 2280.54,168.905 1987.39,168.905 1987.39,272.585 \n",
       "  \"/>\n",
       "<polyline clip-path=\"url(#clip600)\" style=\"stroke:#009af9; stroke-linecap:butt; stroke-linejoin:round; stroke-width:4; stroke-opacity:1; fill:none\" points=\"\n",
       "  2011.46,220.745 2155.89,220.745 \n",
       "  \"/>\n",
       "<path clip-path=\"url(#clip600)\" d=\"M2193.81 240.432 Q2192 245.062 2190.29 246.474 Q2188.58 247.886 2185.71 247.886 L2182.3 247.886 L2182.3 244.321 L2184.8 244.321 Q2186.56 244.321 2187.53 243.488 Q2188.51 242.654 2189.69 239.552 L2190.45 237.608 L2179.97 212.099 L2184.48 212.099 L2192.58 232.377 L2200.68 212.099 L2205.2 212.099 L2193.81 240.432 Z\" fill=\"#000000\" fill-rule=\"evenodd\" fill-opacity=\"1\" /><path clip-path=\"url(#clip600)\" d=\"M2212.49 234.089 L2220.13 234.089 L2220.13 207.724 L2211.82 209.391 L2211.82 205.131 L2220.08 203.465 L2224.76 203.465 L2224.76 234.089 L2232.4 234.089 L2232.4 238.025 L2212.49 238.025 L2212.49 234.089 Z\" fill=\"#000000\" fill-rule=\"evenodd\" fill-opacity=\"1\" /></svg>\n"
      ]
     },
     "execution_count": 18,
     "metadata": {},
     "output_type": "execute_result"
    }
   ],
   "source": [
    "fpr, tpr, thresholds = sklearn.roc_curve(prediccion.Real, prediccion.Prediccion)\n",
    "plot(fpr, tpr)\n",
    "title!(\"ROC curve\")"
   ]
  },
  {
   "cell_type": "code",
   "execution_count": 19,
   "id": "5d0db248",
   "metadata": {},
   "outputs": [
    {
     "name": "stdout",
     "output_type": "stream",
     "text": [
      "AUC: 97.45%\n",
      "Accuracy: 97.44%\n"
     ]
    }
   ],
   "source": [
    "@printf \"AUC: %.2f%%\\n\" auc * 100\n",
    "@printf \"Accuracy: %.2f%%\\n\" mean(prediction_class_test .== test[:, 61]) * 100"
   ]
  },
  {
   "cell_type": "markdown",
   "id": "d7e6507a",
   "metadata": {},
   "source": [
    "### Regresión lineal"
   ]
  },
  {
   "cell_type": "markdown",
   "id": "2abb5f8f",
   "metadata": {},
   "source": [
    "El modelo de regresión lineal predice el valor de la etiqueta definido previamente. El modelo es realizado con todas las variables predictoras. Dado que este modelo puede predecir cualquier valor al tener como función de enlace la gaussiana, predice números continuos y que puedes estar por fuera del rango [0, 1]. \n",
    "\n",
    "Para medir el desempeño de este modelo, se asignará la etiqueta más cercana al número predicho por el modelo. Así, si el número está en el rango (-Inf, 0.5) se le asignará el valor 0, y en otro caso se asignará la etiqueta 1. "
   ]
  },
  {
   "cell_type": "code",
   "execution_count": 20,
   "id": "5a2a0db7",
   "metadata": {},
   "outputs": [],
   "source": [
    "linearRegressor = lm(fm, train)\n",
    "\n",
    "# Prediction\n",
    "ypredicted_test = GLM.predict(linearRegressor, test);\n",
    "\n",
    "\n",
    "prediction_class_test = [if round(x) <= 0 0 elseif round(x) > 1 1 else round(x) end for x in ypredicted_test];"
   ]
  },
  {
   "cell_type": "code",
   "execution_count": 21,
   "id": "ae242265",
   "metadata": {},
   "outputs": [],
   "source": [
    "prediccion = [Int.(test.x61) Int.(prediction_class_test)]\n",
    "prediccion = DataFrame(prediccion, [:Real, :Prediccion]);"
   ]
  },
  {
   "cell_type": "code",
   "execution_count": 22,
   "id": "d36ad0c0",
   "metadata": {
    "scrolled": true
   },
   "outputs": [
    {
     "data": {
      "text/plain": [
       "ROCNums{Int64}\n",
       "  p = 77\n",
       "  n = 79\n",
       "  tp = 69\n",
       "  tn = 58\n",
       "  fp = 21\n",
       "  fn = 8\n"
      ]
     },
     "execution_count": 22,
     "metadata": {},
     "output_type": "execute_result"
    }
   ],
   "source": [
    "cm = MLBase.roc(prediccion.Real, prediccion.Prediccion)"
   ]
  },
  {
   "cell_type": "code",
   "execution_count": 23,
   "id": "0dac6e5e",
   "metadata": {},
   "outputs": [],
   "source": [
    "sens = 69/(69+8);\n",
    "espe = 58/(58+21);\n",
    "auc = (sens + espe)/2;"
   ]
  },
  {
   "cell_type": "code",
   "execution_count": 24,
   "id": "74981083",
   "metadata": {},
   "outputs": [
    {
     "data": {
      "image/svg+xml": [
       "<?xml version=\"1.0\" encoding=\"utf-8\"?>\n",
       "<svg xmlns=\"http://www.w3.org/2000/svg\" xmlns:xlink=\"http://www.w3.org/1999/xlink\" width=\"600\" height=\"400\" viewBox=\"0 0 2400 1600\">\n",
       "<defs>\n",
       "  <clipPath id=\"clip640\">\n",
       "    <rect x=\"0\" y=\"0\" width=\"2400\" height=\"1600\"/>\n",
       "  </clipPath>\n",
       "</defs>\n",
       "<path clip-path=\"url(#clip640)\" d=\"\n",
       "M0 1600 L2400 1600 L2400 0 L0 0  Z\n",
       "  \" fill=\"#ffffff\" fill-rule=\"evenodd\" fill-opacity=\"1\"/>\n",
       "<defs>\n",
       "  <clipPath id=\"clip641\">\n",
       "    <rect x=\"480\" y=\"0\" width=\"1681\" height=\"1600\"/>\n",
       "  </clipPath>\n",
       "</defs>\n",
       "<path clip-path=\"url(#clip640)\" d=\"\n",
       "M186.274 1486.45 L2352.76 1486.45 L2352.76 123.472 L186.274 123.472  Z\n",
       "  \" fill=\"#ffffff\" fill-rule=\"evenodd\" fill-opacity=\"1\"/>\n",
       "<defs>\n",
       "  <clipPath id=\"clip642\">\n",
       "    <rect x=\"186\" y=\"123\" width=\"2167\" height=\"1364\"/>\n",
       "  </clipPath>\n",
       "</defs>\n",
       "<polyline clip-path=\"url(#clip642)\" style=\"stroke:#000000; stroke-linecap:butt; stroke-linejoin:round; stroke-width:2; stroke-opacity:0.1; fill:none\" points=\"\n",
       "  247.59,1486.45 247.59,123.472 \n",
       "  \"/>\n",
       "<polyline clip-path=\"url(#clip642)\" style=\"stroke:#000000; stroke-linecap:butt; stroke-linejoin:round; stroke-width:2; stroke-opacity:0.1; fill:none\" points=\"\n",
       "  758.552,1486.45 758.552,123.472 \n",
       "  \"/>\n",
       "<polyline clip-path=\"url(#clip642)\" style=\"stroke:#000000; stroke-linecap:butt; stroke-linejoin:round; stroke-width:2; stroke-opacity:0.1; fill:none\" points=\"\n",
       "  1269.51,1486.45 1269.51,123.472 \n",
       "  \"/>\n",
       "<polyline clip-path=\"url(#clip642)\" style=\"stroke:#000000; stroke-linecap:butt; stroke-linejoin:round; stroke-width:2; stroke-opacity:0.1; fill:none\" points=\"\n",
       "  1780.48,1486.45 1780.48,123.472 \n",
       "  \"/>\n",
       "<polyline clip-path=\"url(#clip642)\" style=\"stroke:#000000; stroke-linecap:butt; stroke-linejoin:round; stroke-width:2; stroke-opacity:0.1; fill:none\" points=\"\n",
       "  2291.44,1486.45 2291.44,123.472 \n",
       "  \"/>\n",
       "<polyline clip-path=\"url(#clip640)\" style=\"stroke:#000000; stroke-linecap:butt; stroke-linejoin:round; stroke-width:4; stroke-opacity:1; fill:none\" points=\"\n",
       "  186.274,1486.45 2352.76,1486.45 \n",
       "  \"/>\n",
       "<polyline clip-path=\"url(#clip640)\" style=\"stroke:#000000; stroke-linecap:butt; stroke-linejoin:round; stroke-width:4; stroke-opacity:1; fill:none\" points=\"\n",
       "  247.59,1486.45 247.59,1467.55 \n",
       "  \"/>\n",
       "<polyline clip-path=\"url(#clip640)\" style=\"stroke:#000000; stroke-linecap:butt; stroke-linejoin:round; stroke-width:4; stroke-opacity:1; fill:none\" points=\"\n",
       "  758.552,1486.45 758.552,1467.55 \n",
       "  \"/>\n",
       "<polyline clip-path=\"url(#clip640)\" style=\"stroke:#000000; stroke-linecap:butt; stroke-linejoin:round; stroke-width:4; stroke-opacity:1; fill:none\" points=\"\n",
       "  1269.51,1486.45 1269.51,1467.55 \n",
       "  \"/>\n",
       "<polyline clip-path=\"url(#clip640)\" style=\"stroke:#000000; stroke-linecap:butt; stroke-linejoin:round; stroke-width:4; stroke-opacity:1; fill:none\" points=\"\n",
       "  1780.48,1486.45 1780.48,1467.55 \n",
       "  \"/>\n",
       "<polyline clip-path=\"url(#clip640)\" style=\"stroke:#000000; stroke-linecap:butt; stroke-linejoin:round; stroke-width:4; stroke-opacity:1; fill:none\" points=\"\n",
       "  2291.44,1486.45 2291.44,1467.55 \n",
       "  \"/>\n",
       "<path clip-path=\"url(#clip640)\" d=\"M209.893 1517.37 Q206.282 1517.37 204.453 1520.93 Q202.648 1524.47 202.648 1531.6 Q202.648 1538.71 204.453 1542.27 Q206.282 1545.82 209.893 1545.82 Q213.527 1545.82 215.333 1542.27 Q217.161 1538.71 217.161 1531.6 Q217.161 1524.47 215.333 1520.93 Q213.527 1517.37 209.893 1517.37 M209.893 1513.66 Q215.703 1513.66 218.759 1518.27 Q221.837 1522.85 221.837 1531.6 Q221.837 1540.33 218.759 1544.94 Q215.703 1549.52 209.893 1549.52 Q204.083 1549.52 201.004 1544.94 Q197.949 1540.33 197.949 1531.6 Q197.949 1522.85 201.004 1518.27 Q204.083 1513.66 209.893 1513.66 Z\" fill=\"#000000\" fill-rule=\"evenodd\" fill-opacity=\"1\" /><path clip-path=\"url(#clip640)\" d=\"M230.055 1542.97 L234.939 1542.97 L234.939 1548.85 L230.055 1548.85 L230.055 1542.97 Z\" fill=\"#000000\" fill-rule=\"evenodd\" fill-opacity=\"1\" /><path clip-path=\"url(#clip640)\" d=\"M255.124 1517.37 Q251.513 1517.37 249.684 1520.93 Q247.879 1524.47 247.879 1531.6 Q247.879 1538.71 249.684 1542.27 Q251.513 1545.82 255.124 1545.82 Q258.758 1545.82 260.564 1542.27 Q262.393 1538.71 262.393 1531.6 Q262.393 1524.47 260.564 1520.93 Q258.758 1517.37 255.124 1517.37 M255.124 1513.66 Q260.934 1513.66 263.99 1518.27 Q267.069 1522.85 267.069 1531.6 Q267.069 1540.33 263.99 1544.94 Q260.934 1549.52 255.124 1549.52 Q249.314 1549.52 246.235 1544.94 Q243.18 1540.33 243.18 1531.6 Q243.18 1522.85 246.235 1518.27 Q249.314 1513.66 255.124 1513.66 Z\" fill=\"#000000\" fill-rule=\"evenodd\" fill-opacity=\"1\" /><path clip-path=\"url(#clip640)\" d=\"M285.286 1517.37 Q281.675 1517.37 279.846 1520.93 Q278.041 1524.47 278.041 1531.6 Q278.041 1538.71 279.846 1542.27 Q281.675 1545.82 285.286 1545.82 Q288.92 1545.82 290.726 1542.27 Q292.555 1538.71 292.555 1531.6 Q292.555 1524.47 290.726 1520.93 Q288.92 1517.37 285.286 1517.37 M285.286 1513.66 Q291.096 1513.66 294.152 1518.27 Q297.23 1522.85 297.23 1531.6 Q297.23 1540.33 294.152 1544.94 Q291.096 1549.52 285.286 1549.52 Q279.476 1549.52 276.397 1544.94 Q273.342 1540.33 273.342 1531.6 Q273.342 1522.85 276.397 1518.27 Q279.476 1513.66 285.286 1513.66 Z\" fill=\"#000000\" fill-rule=\"evenodd\" fill-opacity=\"1\" /><path clip-path=\"url(#clip640)\" d=\"M721.353 1517.37 Q717.742 1517.37 715.914 1520.93 Q714.108 1524.47 714.108 1531.6 Q714.108 1538.71 715.914 1542.27 Q717.742 1545.82 721.353 1545.82 Q724.988 1545.82 726.793 1542.27 Q728.622 1538.71 728.622 1531.6 Q728.622 1524.47 726.793 1520.93 Q724.988 1517.37 721.353 1517.37 M721.353 1513.66 Q727.164 1513.66 730.219 1518.27 Q733.298 1522.85 733.298 1531.6 Q733.298 1540.33 730.219 1544.94 Q727.164 1549.52 721.353 1549.52 Q715.543 1549.52 712.465 1544.94 Q709.409 1540.33 709.409 1531.6 Q709.409 1522.85 712.465 1518.27 Q715.543 1513.66 721.353 1513.66 Z\" fill=\"#000000\" fill-rule=\"evenodd\" fill-opacity=\"1\" /><path clip-path=\"url(#clip640)\" d=\"M741.515 1542.97 L746.4 1542.97 L746.4 1548.85 L741.515 1548.85 L741.515 1542.97 Z\" fill=\"#000000\" fill-rule=\"evenodd\" fill-opacity=\"1\" /><path clip-path=\"url(#clip640)\" d=\"M760.612 1544.91 L776.932 1544.91 L776.932 1548.85 L754.987 1548.85 L754.987 1544.91 Q757.649 1542.16 762.233 1537.53 Q766.839 1532.88 768.02 1531.53 Q770.265 1529.01 771.145 1527.27 Q772.048 1525.51 772.048 1523.82 Q772.048 1521.07 770.103 1519.33 Q768.182 1517.6 765.08 1517.6 Q762.881 1517.6 760.427 1518.36 Q757.997 1519.13 755.219 1520.68 L755.219 1515.95 Q758.043 1514.82 760.497 1514.24 Q762.95 1513.66 764.987 1513.66 Q770.358 1513.66 773.552 1516.35 Q776.747 1519.03 776.747 1523.52 Q776.747 1525.65 775.936 1527.57 Q775.149 1529.47 773.043 1532.07 Q772.464 1532.74 769.362 1535.95 Q766.261 1539.15 760.612 1544.91 Z\" fill=\"#000000\" fill-rule=\"evenodd\" fill-opacity=\"1\" /><path clip-path=\"url(#clip640)\" d=\"M786.793 1514.29 L805.149 1514.29 L805.149 1518.22 L791.075 1518.22 L791.075 1526.7 Q792.094 1526.35 793.112 1526.19 Q794.131 1526 795.149 1526 Q800.936 1526 804.316 1529.17 Q807.695 1532.34 807.695 1537.76 Q807.695 1543.34 804.223 1546.44 Q800.751 1549.52 794.432 1549.52 Q792.256 1549.52 789.987 1549.15 Q787.742 1548.78 785.335 1548.04 L785.335 1543.34 Q787.418 1544.47 789.64 1545.03 Q791.862 1545.58 794.339 1545.58 Q798.344 1545.58 800.682 1543.48 Q803.02 1541.37 803.02 1537.76 Q803.02 1534.15 800.682 1532.04 Q798.344 1529.94 794.339 1529.94 Q792.464 1529.94 790.589 1530.35 Q788.737 1530.77 786.793 1531.65 L786.793 1514.29 Z\" fill=\"#000000\" fill-rule=\"evenodd\" fill-opacity=\"1\" /><path clip-path=\"url(#clip640)\" d=\"M1231.82 1517.37 Q1228.21 1517.37 1226.38 1520.93 Q1224.57 1524.47 1224.57 1531.6 Q1224.57 1538.71 1226.38 1542.27 Q1228.21 1545.82 1231.82 1545.82 Q1235.45 1545.82 1237.26 1542.27 Q1239.09 1538.71 1239.09 1531.6 Q1239.09 1524.47 1237.26 1520.93 Q1235.45 1517.37 1231.82 1517.37 M1231.82 1513.66 Q1237.63 1513.66 1240.68 1518.27 Q1243.76 1522.85 1243.76 1531.6 Q1243.76 1540.33 1240.68 1544.94 Q1237.63 1549.52 1231.82 1549.52 Q1226.01 1549.52 1222.93 1544.94 Q1219.87 1540.33 1219.87 1531.6 Q1219.87 1522.85 1222.93 1518.27 Q1226.01 1513.66 1231.82 1513.66 Z\" fill=\"#000000\" fill-rule=\"evenodd\" fill-opacity=\"1\" /><path clip-path=\"url(#clip640)\" d=\"M1251.98 1542.97 L1256.86 1542.97 L1256.86 1548.85 L1251.98 1548.85 L1251.98 1542.97 Z\" fill=\"#000000\" fill-rule=\"evenodd\" fill-opacity=\"1\" /><path clip-path=\"url(#clip640)\" d=\"M1267.1 1514.29 L1285.45 1514.29 L1285.45 1518.22 L1271.38 1518.22 L1271.38 1526.7 Q1272.4 1526.35 1273.42 1526.19 Q1274.43 1526 1275.45 1526 Q1281.24 1526 1284.62 1529.17 Q1288 1532.34 1288 1537.76 Q1288 1543.34 1284.53 1546.44 Q1281.05 1549.52 1274.73 1549.52 Q1272.56 1549.52 1270.29 1549.15 Q1268.05 1548.78 1265.64 1548.04 L1265.64 1543.34 Q1267.72 1544.47 1269.94 1545.03 Q1272.17 1545.58 1274.64 1545.58 Q1278.65 1545.58 1280.98 1543.48 Q1283.32 1541.37 1283.32 1537.76 Q1283.32 1534.15 1280.98 1532.04 Q1278.65 1529.94 1274.64 1529.94 Q1272.77 1529.94 1270.89 1530.35 Q1269.04 1530.77 1267.1 1531.65 L1267.1 1514.29 Z\" fill=\"#000000\" fill-rule=\"evenodd\" fill-opacity=\"1\" /><path clip-path=\"url(#clip640)\" d=\"M1307.21 1517.37 Q1303.6 1517.37 1301.77 1520.93 Q1299.97 1524.47 1299.97 1531.6 Q1299.97 1538.71 1301.77 1542.27 Q1303.6 1545.82 1307.21 1545.82 Q1310.85 1545.82 1312.65 1542.27 Q1314.48 1538.71 1314.48 1531.6 Q1314.48 1524.47 1312.65 1520.93 Q1310.85 1517.37 1307.21 1517.37 M1307.21 1513.66 Q1313.02 1513.66 1316.08 1518.27 Q1319.16 1522.85 1319.16 1531.6 Q1319.16 1540.33 1316.08 1544.94 Q1313.02 1549.52 1307.21 1549.52 Q1301.4 1549.52 1298.32 1544.94 Q1295.27 1540.33 1295.27 1531.6 Q1295.27 1522.85 1298.32 1518.27 Q1301.4 1513.66 1307.21 1513.66 Z\" fill=\"#000000\" fill-rule=\"evenodd\" fill-opacity=\"1\" /><path clip-path=\"url(#clip640)\" d=\"M1743.28 1517.37 Q1739.67 1517.37 1737.84 1520.93 Q1736.03 1524.47 1736.03 1531.6 Q1736.03 1538.71 1737.84 1542.27 Q1739.67 1545.82 1743.28 1545.82 Q1746.91 1545.82 1748.72 1542.27 Q1750.55 1538.71 1750.55 1531.6 Q1750.55 1524.47 1748.72 1520.93 Q1746.91 1517.37 1743.28 1517.37 M1743.28 1513.66 Q1749.09 1513.66 1752.14 1518.27 Q1755.22 1522.85 1755.22 1531.6 Q1755.22 1540.33 1752.14 1544.94 Q1749.09 1549.52 1743.28 1549.52 Q1737.47 1549.52 1734.39 1544.94 Q1731.33 1540.33 1731.33 1531.6 Q1731.33 1522.85 1734.39 1518.27 Q1737.47 1513.66 1743.28 1513.66 Z\" fill=\"#000000\" fill-rule=\"evenodd\" fill-opacity=\"1\" /><path clip-path=\"url(#clip640)\" d=\"M1763.44 1542.97 L1768.32 1542.97 L1768.32 1548.85 L1763.44 1548.85 L1763.44 1542.97 Z\" fill=\"#000000\" fill-rule=\"evenodd\" fill-opacity=\"1\" /><path clip-path=\"url(#clip640)\" d=\"M1777.33 1514.29 L1799.55 1514.29 L1799.55 1516.28 L1787.01 1548.85 L1782.12 1548.85 L1793.93 1518.22 L1777.33 1518.22 L1777.33 1514.29 Z\" fill=\"#000000\" fill-rule=\"evenodd\" fill-opacity=\"1\" /><path clip-path=\"url(#clip640)\" d=\"M1808.72 1514.29 L1827.07 1514.29 L1827.07 1518.22 L1813 1518.22 L1813 1526.7 Q1814.02 1526.35 1815.04 1526.19 Q1816.06 1526 1817.07 1526 Q1822.86 1526 1826.24 1529.17 Q1829.62 1532.34 1829.62 1537.76 Q1829.62 1543.34 1826.15 1546.44 Q1822.68 1549.52 1816.36 1549.52 Q1814.18 1549.52 1811.91 1549.15 Q1809.67 1548.78 1807.26 1548.04 L1807.26 1543.34 Q1809.34 1544.47 1811.57 1545.03 Q1813.79 1545.58 1816.26 1545.58 Q1820.27 1545.58 1822.61 1543.48 Q1824.95 1541.37 1824.95 1537.76 Q1824.95 1534.15 1822.61 1532.04 Q1820.27 1529.94 1816.26 1529.94 Q1814.39 1529.94 1812.51 1530.35 Q1810.66 1530.77 1808.72 1531.65 L1808.72 1514.29 Z\" fill=\"#000000\" fill-rule=\"evenodd\" fill-opacity=\"1\" /><path clip-path=\"url(#clip640)\" d=\"M2243.51 1544.91 L2251.15 1544.91 L2251.15 1518.55 L2242.84 1520.21 L2242.84 1515.95 L2251.1 1514.29 L2255.78 1514.29 L2255.78 1544.91 L2263.42 1544.91 L2263.42 1548.85 L2243.51 1548.85 L2243.51 1544.91 Z\" fill=\"#000000\" fill-rule=\"evenodd\" fill-opacity=\"1\" /><path clip-path=\"url(#clip640)\" d=\"M2272.86 1542.97 L2277.75 1542.97 L2277.75 1548.85 L2272.86 1548.85 L2272.86 1542.97 Z\" fill=\"#000000\" fill-rule=\"evenodd\" fill-opacity=\"1\" /><path clip-path=\"url(#clip640)\" d=\"M2297.93 1517.37 Q2294.32 1517.37 2292.49 1520.93 Q2290.69 1524.47 2290.69 1531.6 Q2290.69 1538.71 2292.49 1542.27 Q2294.32 1545.82 2297.93 1545.82 Q2301.57 1545.82 2303.37 1542.27 Q2305.2 1538.71 2305.2 1531.6 Q2305.2 1524.47 2303.37 1520.93 Q2301.57 1517.37 2297.93 1517.37 M2297.93 1513.66 Q2303.74 1513.66 2306.8 1518.27 Q2309.88 1522.85 2309.88 1531.6 Q2309.88 1540.33 2306.8 1544.94 Q2303.74 1549.52 2297.93 1549.52 Q2292.12 1549.52 2289.04 1544.94 Q2285.99 1540.33 2285.99 1531.6 Q2285.99 1522.85 2289.04 1518.27 Q2292.12 1513.66 2297.93 1513.66 Z\" fill=\"#000000\" fill-rule=\"evenodd\" fill-opacity=\"1\" /><path clip-path=\"url(#clip640)\" d=\"M2328.1 1517.37 Q2324.48 1517.37 2322.66 1520.93 Q2320.85 1524.47 2320.85 1531.6 Q2320.85 1538.71 2322.66 1542.27 Q2324.48 1545.82 2328.1 1545.82 Q2331.73 1545.82 2333.54 1542.27 Q2335.36 1538.71 2335.36 1531.6 Q2335.36 1524.47 2333.54 1520.93 Q2331.73 1517.37 2328.1 1517.37 M2328.1 1513.66 Q2333.91 1513.66 2336.96 1518.27 Q2340.04 1522.85 2340.04 1531.6 Q2340.04 1540.33 2336.96 1544.94 Q2333.91 1549.52 2328.1 1549.52 Q2322.29 1549.52 2319.21 1544.94 Q2316.15 1540.33 2316.15 1531.6 Q2316.15 1522.85 2319.21 1518.27 Q2322.29 1513.66 2328.1 1513.66 Z\" fill=\"#000000\" fill-rule=\"evenodd\" fill-opacity=\"1\" /><polyline clip-path=\"url(#clip642)\" style=\"stroke:#000000; stroke-linecap:butt; stroke-linejoin:round; stroke-width:2; stroke-opacity:0.1; fill:none\" points=\"\n",
       "  186.274,1447.87 2352.76,1447.87 \n",
       "  \"/>\n",
       "<polyline clip-path=\"url(#clip642)\" style=\"stroke:#000000; stroke-linecap:butt; stroke-linejoin:round; stroke-width:2; stroke-opacity:0.1; fill:none\" points=\"\n",
       "  186.274,1126.42 2352.76,1126.42 \n",
       "  \"/>\n",
       "<polyline clip-path=\"url(#clip642)\" style=\"stroke:#000000; stroke-linecap:butt; stroke-linejoin:round; stroke-width:2; stroke-opacity:0.1; fill:none\" points=\"\n",
       "  186.274,804.96 2352.76,804.96 \n",
       "  \"/>\n",
       "<polyline clip-path=\"url(#clip642)\" style=\"stroke:#000000; stroke-linecap:butt; stroke-linejoin:round; stroke-width:2; stroke-opacity:0.1; fill:none\" points=\"\n",
       "  186.274,483.503 2352.76,483.503 \n",
       "  \"/>\n",
       "<polyline clip-path=\"url(#clip642)\" style=\"stroke:#000000; stroke-linecap:butt; stroke-linejoin:round; stroke-width:2; stroke-opacity:0.1; fill:none\" points=\"\n",
       "  186.274,162.047 2352.76,162.047 \n",
       "  \"/>\n",
       "<polyline clip-path=\"url(#clip640)\" style=\"stroke:#000000; stroke-linecap:butt; stroke-linejoin:round; stroke-width:4; stroke-opacity:1; fill:none\" points=\"\n",
       "  186.274,1486.45 186.274,123.472 \n",
       "  \"/>\n",
       "<polyline clip-path=\"url(#clip640)\" style=\"stroke:#000000; stroke-linecap:butt; stroke-linejoin:round; stroke-width:4; stroke-opacity:1; fill:none\" points=\"\n",
       "  186.274,1447.87 205.172,1447.87 \n",
       "  \"/>\n",
       "<polyline clip-path=\"url(#clip640)\" style=\"stroke:#000000; stroke-linecap:butt; stroke-linejoin:round; stroke-width:4; stroke-opacity:1; fill:none\" points=\"\n",
       "  186.274,1126.42 205.172,1126.42 \n",
       "  \"/>\n",
       "<polyline clip-path=\"url(#clip640)\" style=\"stroke:#000000; stroke-linecap:butt; stroke-linejoin:round; stroke-width:4; stroke-opacity:1; fill:none\" points=\"\n",
       "  186.274,804.96 205.172,804.96 \n",
       "  \"/>\n",
       "<polyline clip-path=\"url(#clip640)\" style=\"stroke:#000000; stroke-linecap:butt; stroke-linejoin:round; stroke-width:4; stroke-opacity:1; fill:none\" points=\"\n",
       "  186.274,483.503 205.172,483.503 \n",
       "  \"/>\n",
       "<polyline clip-path=\"url(#clip640)\" style=\"stroke:#000000; stroke-linecap:butt; stroke-linejoin:round; stroke-width:4; stroke-opacity:1; fill:none\" points=\"\n",
       "  186.274,162.047 205.172,162.047 \n",
       "  \"/>\n",
       "<path clip-path=\"url(#clip640)\" d=\"M62.9365 1433.67 Q59.3254 1433.67 57.4967 1437.24 Q55.6912 1440.78 55.6912 1447.91 Q55.6912 1455.01 57.4967 1458.58 Q59.3254 1462.12 62.9365 1462.12 Q66.5707 1462.12 68.3763 1458.58 Q70.205 1455.01 70.205 1447.91 Q70.205 1440.78 68.3763 1437.24 Q66.5707 1433.67 62.9365 1433.67 M62.9365 1429.97 Q68.7467 1429.97 71.8022 1434.57 Q74.8809 1439.16 74.8809 1447.91 Q74.8809 1456.63 71.8022 1461.24 Q68.7467 1465.82 62.9365 1465.82 Q57.1264 1465.82 54.0477 1461.24 Q50.9921 1456.63 50.9921 1447.91 Q50.9921 1439.16 54.0477 1434.57 Q57.1264 1429.97 62.9365 1429.97 Z\" fill=\"#000000\" fill-rule=\"evenodd\" fill-opacity=\"1\" /><path clip-path=\"url(#clip640)\" d=\"M83.0984 1459.27 L87.9827 1459.27 L87.9827 1465.15 L83.0984 1465.15 L83.0984 1459.27 Z\" fill=\"#000000\" fill-rule=\"evenodd\" fill-opacity=\"1\" /><path clip-path=\"url(#clip640)\" d=\"M108.168 1433.67 Q104.557 1433.67 102.728 1437.24 Q100.922 1440.78 100.922 1447.91 Q100.922 1455.01 102.728 1458.58 Q104.557 1462.12 108.168 1462.12 Q111.802 1462.12 113.608 1458.58 Q115.436 1455.01 115.436 1447.91 Q115.436 1440.78 113.608 1437.24 Q111.802 1433.67 108.168 1433.67 M108.168 1429.97 Q113.978 1429.97 117.033 1434.57 Q120.112 1439.16 120.112 1447.91 Q120.112 1456.63 117.033 1461.24 Q113.978 1465.82 108.168 1465.82 Q102.358 1465.82 99.2789 1461.24 Q96.2234 1456.63 96.2234 1447.91 Q96.2234 1439.16 99.2789 1434.57 Q102.358 1429.97 108.168 1429.97 Z\" fill=\"#000000\" fill-rule=\"evenodd\" fill-opacity=\"1\" /><path clip-path=\"url(#clip640)\" d=\"M138.33 1433.67 Q134.719 1433.67 132.89 1437.24 Q131.084 1440.78 131.084 1447.91 Q131.084 1455.01 132.89 1458.58 Q134.719 1462.12 138.33 1462.12 Q141.964 1462.12 143.769 1458.58 Q145.598 1455.01 145.598 1447.91 Q145.598 1440.78 143.769 1437.24 Q141.964 1433.67 138.33 1433.67 M138.33 1429.97 Q144.14 1429.97 147.195 1434.57 Q150.274 1439.16 150.274 1447.91 Q150.274 1456.63 147.195 1461.24 Q144.14 1465.82 138.33 1465.82 Q132.519 1465.82 129.441 1461.24 Q126.385 1456.63 126.385 1447.91 Q126.385 1439.16 129.441 1434.57 Q132.519 1429.97 138.33 1429.97 Z\" fill=\"#000000\" fill-rule=\"evenodd\" fill-opacity=\"1\" /><path clip-path=\"url(#clip640)\" d=\"M63.9319 1112.22 Q60.3208 1112.22 58.4921 1115.78 Q56.6865 1119.32 56.6865 1126.45 Q56.6865 1133.56 58.4921 1137.12 Q60.3208 1140.66 63.9319 1140.66 Q67.5661 1140.66 69.3717 1137.12 Q71.2004 1133.56 71.2004 1126.45 Q71.2004 1119.32 69.3717 1115.78 Q67.5661 1112.22 63.9319 1112.22 M63.9319 1108.51 Q69.742 1108.51 72.7976 1113.12 Q75.8763 1117.7 75.8763 1126.45 Q75.8763 1135.18 72.7976 1139.78 Q69.742 1144.37 63.9319 1144.37 Q58.1217 1144.37 55.043 1139.78 Q51.9875 1135.18 51.9875 1126.45 Q51.9875 1117.7 55.043 1113.12 Q58.1217 1108.51 63.9319 1108.51 Z\" fill=\"#000000\" fill-rule=\"evenodd\" fill-opacity=\"1\" /><path clip-path=\"url(#clip640)\" d=\"M84.0938 1137.82 L88.978 1137.82 L88.978 1143.7 L84.0938 1143.7 L84.0938 1137.82 Z\" fill=\"#000000\" fill-rule=\"evenodd\" fill-opacity=\"1\" /><path clip-path=\"url(#clip640)\" d=\"M103.191 1139.76 L119.51 1139.76 L119.51 1143.7 L97.566 1143.7 L97.566 1139.76 Q100.228 1137.01 104.811 1132.38 Q109.418 1127.72 110.598 1126.38 Q112.844 1123.86 113.723 1122.12 Q114.626 1120.36 114.626 1118.67 Q114.626 1115.92 112.682 1114.18 Q110.76 1112.45 107.658 1112.45 Q105.459 1112.45 103.006 1113.21 Q100.575 1113.97 97.7974 1115.53 L97.7974 1110.8 Q100.621 1109.67 103.075 1109.09 Q105.529 1108.51 107.566 1108.51 Q112.936 1108.51 116.131 1111.2 Q119.325 1113.88 119.325 1118.37 Q119.325 1120.5 118.515 1122.42 Q117.728 1124.32 115.621 1126.91 Q115.043 1127.59 111.941 1130.8 Q108.839 1134 103.191 1139.76 Z\" fill=\"#000000\" fill-rule=\"evenodd\" fill-opacity=\"1\" /><path clip-path=\"url(#clip640)\" d=\"M129.371 1109.14 L147.728 1109.14 L147.728 1113.07 L133.654 1113.07 L133.654 1121.54 Q134.672 1121.2 135.691 1121.03 Q136.709 1120.85 137.728 1120.85 Q143.515 1120.85 146.894 1124.02 Q150.274 1127.19 150.274 1132.61 Q150.274 1138.19 146.802 1141.29 Q143.33 1144.37 137.01 1144.37 Q134.834 1144.37 132.566 1144 Q130.32 1143.63 127.913 1142.89 L127.913 1138.19 Q129.996 1139.32 132.219 1139.88 Q134.441 1140.43 136.918 1140.43 Q140.922 1140.43 143.26 1138.33 Q145.598 1136.22 145.598 1132.61 Q145.598 1129 143.26 1126.89 Q140.922 1124.78 136.918 1124.78 Q135.043 1124.78 133.168 1125.2 Q131.316 1125.62 129.371 1126.5 L129.371 1109.14 Z\" fill=\"#000000\" fill-rule=\"evenodd\" fill-opacity=\"1\" /><path clip-path=\"url(#clip640)\" d=\"M62.9365 790.759 Q59.3254 790.759 57.4967 794.323 Q55.6912 797.865 55.6912 804.995 Q55.6912 812.101 57.4967 815.666 Q59.3254 819.208 62.9365 819.208 Q66.5707 819.208 68.3763 815.666 Q70.205 812.101 70.205 804.995 Q70.205 797.865 68.3763 794.323 Q66.5707 790.759 62.9365 790.759 M62.9365 787.055 Q68.7467 787.055 71.8022 791.661 Q74.8809 796.245 74.8809 804.995 Q74.8809 813.722 71.8022 818.328 Q68.7467 822.911 62.9365 822.911 Q57.1264 822.911 54.0477 818.328 Q50.9921 813.722 50.9921 804.995 Q50.9921 796.245 54.0477 791.661 Q57.1264 787.055 62.9365 787.055 Z\" fill=\"#000000\" fill-rule=\"evenodd\" fill-opacity=\"1\" /><path clip-path=\"url(#clip640)\" d=\"M83.0984 816.36 L87.9827 816.36 L87.9827 822.24 L83.0984 822.24 L83.0984 816.36 Z\" fill=\"#000000\" fill-rule=\"evenodd\" fill-opacity=\"1\" /><path clip-path=\"url(#clip640)\" d=\"M98.2141 787.68 L116.57 787.68 L116.57 791.615 L102.496 791.615 L102.496 800.087 Q103.515 799.74 104.534 799.578 Q105.552 799.393 106.571 799.393 Q112.358 799.393 115.737 802.564 Q119.117 805.735 119.117 811.152 Q119.117 816.731 115.645 819.833 Q112.172 822.911 105.853 822.911 Q103.677 822.911 101.409 822.541 Q99.1632 822.171 96.7558 821.43 L96.7558 816.731 Q98.8391 817.865 101.061 818.421 Q103.284 818.976 105.76 818.976 Q109.765 818.976 112.103 816.87 Q114.441 814.763 114.441 811.152 Q114.441 807.541 112.103 805.435 Q109.765 803.328 105.76 803.328 Q103.885 803.328 102.01 803.745 Q100.159 804.161 98.2141 805.041 L98.2141 787.68 Z\" fill=\"#000000\" fill-rule=\"evenodd\" fill-opacity=\"1\" /><path clip-path=\"url(#clip640)\" d=\"M138.33 790.759 Q134.719 790.759 132.89 794.323 Q131.084 797.865 131.084 804.995 Q131.084 812.101 132.89 815.666 Q134.719 819.208 138.33 819.208 Q141.964 819.208 143.769 815.666 Q145.598 812.101 145.598 804.995 Q145.598 797.865 143.769 794.323 Q141.964 790.759 138.33 790.759 M138.33 787.055 Q144.14 787.055 147.195 791.661 Q150.274 796.245 150.274 804.995 Q150.274 813.722 147.195 818.328 Q144.14 822.911 138.33 822.911 Q132.519 822.911 129.441 818.328 Q126.385 813.722 126.385 804.995 Q126.385 796.245 129.441 791.661 Q132.519 787.055 138.33 787.055 Z\" fill=\"#000000\" fill-rule=\"evenodd\" fill-opacity=\"1\" /><path clip-path=\"url(#clip640)\" d=\"M63.9319 469.302 Q60.3208 469.302 58.4921 472.867 Q56.6865 476.409 56.6865 483.538 Q56.6865 490.645 58.4921 494.209 Q60.3208 497.751 63.9319 497.751 Q67.5661 497.751 69.3717 494.209 Q71.2004 490.645 71.2004 483.538 Q71.2004 476.409 69.3717 472.867 Q67.5661 469.302 63.9319 469.302 M63.9319 465.598 Q69.742 465.598 72.7976 470.205 Q75.8763 474.788 75.8763 483.538 Q75.8763 492.265 72.7976 496.871 Q69.742 501.455 63.9319 501.455 Q58.1217 501.455 55.043 496.871 Q51.9875 492.265 51.9875 483.538 Q51.9875 474.788 55.043 470.205 Q58.1217 465.598 63.9319 465.598 Z\" fill=\"#000000\" fill-rule=\"evenodd\" fill-opacity=\"1\" /><path clip-path=\"url(#clip640)\" d=\"M84.0938 494.904 L88.978 494.904 L88.978 500.783 L84.0938 500.783 L84.0938 494.904 Z\" fill=\"#000000\" fill-rule=\"evenodd\" fill-opacity=\"1\" /><path clip-path=\"url(#clip640)\" d=\"M97.9826 466.223 L120.205 466.223 L120.205 468.214 L107.658 500.783 L102.774 500.783 L114.58 470.159 L97.9826 470.159 L97.9826 466.223 Z\" fill=\"#000000\" fill-rule=\"evenodd\" fill-opacity=\"1\" /><path clip-path=\"url(#clip640)\" d=\"M129.371 466.223 L147.728 466.223 L147.728 470.159 L133.654 470.159 L133.654 478.631 Q134.672 478.284 135.691 478.122 Q136.709 477.936 137.728 477.936 Q143.515 477.936 146.894 481.108 Q150.274 484.279 150.274 489.696 Q150.274 495.274 146.802 498.376 Q143.33 501.455 137.01 501.455 Q134.834 501.455 132.566 501.084 Q130.32 500.714 127.913 499.973 L127.913 495.274 Q129.996 496.408 132.219 496.964 Q134.441 497.52 136.918 497.52 Q140.922 497.52 143.26 495.413 Q145.598 493.307 145.598 489.696 Q145.598 486.084 143.26 483.978 Q140.922 481.872 136.918 481.872 Q135.043 481.872 133.168 482.288 Q131.316 482.705 129.371 483.584 L129.371 466.223 Z\" fill=\"#000000\" fill-rule=\"evenodd\" fill-opacity=\"1\" /><path clip-path=\"url(#clip640)\" d=\"M53.7467 175.392 L61.3856 175.392 L61.3856 149.026 L53.0754 150.693 L53.0754 146.434 L61.3393 144.767 L66.0152 144.767 L66.0152 175.392 L73.654 175.392 L73.654 179.327 L53.7467 179.327 L53.7467 175.392 Z\" fill=\"#000000\" fill-rule=\"evenodd\" fill-opacity=\"1\" /><path clip-path=\"url(#clip640)\" d=\"M83.0984 173.447 L87.9827 173.447 L87.9827 179.327 L83.0984 179.327 L83.0984 173.447 Z\" fill=\"#000000\" fill-rule=\"evenodd\" fill-opacity=\"1\" /><path clip-path=\"url(#clip640)\" d=\"M108.168 147.846 Q104.557 147.846 102.728 151.41 Q100.922 154.952 100.922 162.082 Q100.922 169.188 102.728 172.753 Q104.557 176.295 108.168 176.295 Q111.802 176.295 113.608 172.753 Q115.436 169.188 115.436 162.082 Q115.436 154.952 113.608 151.41 Q111.802 147.846 108.168 147.846 M108.168 144.142 Q113.978 144.142 117.033 148.748 Q120.112 153.332 120.112 162.082 Q120.112 170.808 117.033 175.415 Q113.978 179.998 108.168 179.998 Q102.358 179.998 99.2789 175.415 Q96.2234 170.808 96.2234 162.082 Q96.2234 153.332 99.2789 148.748 Q102.358 144.142 108.168 144.142 Z\" fill=\"#000000\" fill-rule=\"evenodd\" fill-opacity=\"1\" /><path clip-path=\"url(#clip640)\" d=\"M138.33 147.846 Q134.719 147.846 132.89 151.41 Q131.084 154.952 131.084 162.082 Q131.084 169.188 132.89 172.753 Q134.719 176.295 138.33 176.295 Q141.964 176.295 143.769 172.753 Q145.598 169.188 145.598 162.082 Q145.598 154.952 143.769 151.41 Q141.964 147.846 138.33 147.846 M138.33 144.142 Q144.14 144.142 147.195 148.748 Q150.274 153.332 150.274 162.082 Q150.274 170.808 147.195 175.415 Q144.14 179.998 138.33 179.998 Q132.519 179.998 129.441 175.415 Q126.385 170.808 126.385 162.082 Q126.385 153.332 129.441 148.748 Q132.519 144.142 138.33 144.142 Z\" fill=\"#000000\" fill-rule=\"evenodd\" fill-opacity=\"1\" /><path clip-path=\"url(#clip640)\" d=\"M1084.63 44.2197 Q1087.26 45.1109 1089.74 48.0275 Q1092.25 50.9442 1094.76 56.0483 L1103.06 72.576 L1094.27 72.576 L1086.54 57.061 Q1083.54 50.9847 1080.7 48.9997 Q1077.91 47.0148 1073.05 47.0148 L1064.13 47.0148 L1064.13 72.576 L1055.95 72.576 L1055.95 12.096 L1074.42 12.096 Q1084.79 12.096 1089.9 16.4305 Q1095 20.7649 1095 29.5149 Q1095 35.2267 1092.33 38.994 Q1089.7 42.7613 1084.63 44.2197 M1064.13 18.8205 L1064.13 40.2903 L1074.42 40.2903 Q1080.34 40.2903 1083.34 37.5762 Q1086.37 34.8216 1086.37 29.5149 Q1086.37 24.2082 1083.34 21.5346 Q1080.34 18.8205 1074.42 18.8205 L1064.13 18.8205 Z\" fill=\"#000000\" fill-rule=\"evenodd\" fill-opacity=\"1\" /><path clip-path=\"url(#clip640)\" d=\"M1138.14 17.6457 Q1129.23 17.6457 1123.97 24.2892 Q1118.74 30.9327 1118.74 42.3968 Q1118.74 53.8203 1123.97 60.4638 Q1129.23 67.1073 1138.14 67.1073 Q1147.06 67.1073 1152.24 60.4638 Q1157.47 53.8203 1157.47 42.3968 Q1157.47 30.9327 1152.24 24.2892 Q1147.06 17.6457 1138.14 17.6457 M1138.14 11.0023 Q1150.86 11.0023 1158.48 19.5497 Q1166.1 28.0566 1166.1 42.3968 Q1166.1 56.6965 1158.48 65.2439 Q1150.86 73.7508 1138.14 73.7508 Q1125.38 73.7508 1117.73 65.2439 Q1110.11 56.737 1110.11 42.3968 Q1110.11 28.0566 1117.73 19.5497 Q1125.38 11.0023 1138.14 11.0023 Z\" fill=\"#000000\" fill-rule=\"evenodd\" fill-opacity=\"1\" /><path clip-path=\"url(#clip640)\" d=\"M1224.19 16.7545 L1224.19 25.383 Q1220.05 21.5346 1215.35 19.6307 Q1210.7 17.7268 1205.43 17.7268 Q1195.06 17.7268 1189.55 24.0867 Q1184.04 30.4061 1184.04 42.3968 Q1184.04 54.3469 1189.55 60.7069 Q1195.06 67.0263 1205.43 67.0263 Q1210.7 67.0263 1215.35 65.1223 Q1220.05 63.2184 1224.19 59.3701 L1224.19 67.9175 Q1219.89 70.8341 1215.07 72.2924 Q1210.29 73.7508 1204.94 73.7508 Q1191.21 73.7508 1183.31 65.3654 Q1175.41 56.9395 1175.41 42.3968 Q1175.41 27.8135 1183.31 19.4281 Q1191.21 11.0023 1204.94 11.0023 Q1210.37 11.0023 1215.15 12.4606 Q1219.97 13.8784 1224.19 16.7545 Z\" fill=\"#000000\" fill-rule=\"evenodd\" fill-opacity=\"1\" /><path clip-path=\"url(#clip640)\" d=\"M1295.52 28.9478 L1295.52 35.9153 Q1292.36 34.1734 1289.16 33.3227 Q1286 32.4315 1282.76 32.4315 Q1275.51 32.4315 1271.5 37.0496 Q1267.49 41.6271 1267.49 49.9314 Q1267.49 58.2358 1271.5 62.8538 Q1275.51 67.4314 1282.76 67.4314 Q1286 67.4314 1289.16 66.5807 Q1292.36 65.6895 1295.52 63.9476 L1295.52 70.8341 Q1292.4 72.2924 1289.04 73.0216 Q1285.72 73.7508 1281.95 73.7508 Q1271.7 73.7508 1265.67 67.3098 Q1259.63 60.8689 1259.63 49.9314 Q1259.63 38.832 1265.71 32.472 Q1271.82 26.1121 1282.44 26.1121 Q1285.88 26.1121 1289.16 26.8413 Q1292.44 27.5299 1295.52 28.9478 Z\" fill=\"#000000\" fill-rule=\"evenodd\" fill-opacity=\"1\" /><path clip-path=\"url(#clip640)\" d=\"M1307.71 54.671 L1307.71 27.2059 L1315.17 27.2059 L1315.17 54.3874 Q1315.17 60.8284 1317.68 64.0691 Q1320.19 67.2693 1325.21 67.2693 Q1331.25 67.2693 1334.73 63.421 Q1338.26 59.5726 1338.26 52.9291 L1338.26 27.2059 L1345.71 27.2059 L1345.71 72.576 L1338.26 72.576 L1338.26 65.6084 Q1335.54 69.7404 1331.94 71.7658 Q1328.37 73.7508 1323.64 73.7508 Q1315.82 73.7508 1311.77 68.8897 Q1307.71 64.0286 1307.71 54.671 M1326.47 26.1121 L1326.47 26.1121 Z\" fill=\"#000000\" fill-rule=\"evenodd\" fill-opacity=\"1\" /><path clip-path=\"url(#clip640)\" d=\"M1387.36 34.1734 Q1386.1 33.4443 1384.6 33.1202 Q1383.14 32.7556 1381.36 32.7556 Q1375.04 32.7556 1371.64 36.8875 Q1368.28 40.9789 1368.28 48.6757 L1368.28 72.576 L1360.78 72.576 L1360.78 27.2059 L1368.28 27.2059 L1368.28 34.2544 Q1370.63 30.1225 1374.39 28.1376 Q1378.16 26.1121 1383.55 26.1121 Q1384.32 26.1121 1385.25 26.2337 Q1386.18 26.3147 1387.32 26.5172 L1387.36 34.1734 Z\" fill=\"#000000\" fill-rule=\"evenodd\" fill-opacity=\"1\" /><path clip-path=\"url(#clip640)\" d=\"M1389.83 27.2059 L1397.73 27.2059 L1411.9 65.2844 L1426.08 27.2059 L1433.98 27.2059 L1416.97 72.576 L1406.84 72.576 L1389.83 27.2059 Z\" fill=\"#000000\" fill-rule=\"evenodd\" fill-opacity=\"1\" /><path clip-path=\"url(#clip640)\" d=\"M1483.08 48.0275 L1483.08 51.6733 L1448.81 51.6733 Q1449.29 59.3701 1453.43 63.421 Q1457.6 67.4314 1465.01 67.4314 Q1469.31 67.4314 1473.32 66.3781 Q1477.37 65.3249 1481.34 63.2184 L1481.34 70.267 Q1477.33 71.9684 1473.11 72.8596 Q1468.9 73.7508 1464.57 73.7508 Q1453.71 73.7508 1447.35 67.4314 Q1441.03 61.1119 1441.03 50.3365 Q1441.03 39.1965 1447.03 32.6746 Q1453.06 26.1121 1463.27 26.1121 Q1472.42 26.1121 1477.73 32.0264 Q1483.08 37.9003 1483.08 48.0275 M1475.62 45.84 Q1475.54 39.7232 1472.18 36.0774 Q1468.86 32.4315 1463.35 32.4315 Q1457.11 32.4315 1453.34 35.9558 Q1449.62 39.4801 1449.05 45.8805 L1475.62 45.84 Z\" fill=\"#000000\" fill-rule=\"evenodd\" fill-opacity=\"1\" /><polyline clip-path=\"url(#clip642)\" style=\"stroke:#009af9; stroke-linecap:butt; stroke-linejoin:round; stroke-width:4; stroke-opacity:1; fill:none\" points=\"\n",
       "  247.59,1447.87 790.892,295.639 2291.44,162.047 \n",
       "  \"/>\n",
       "<path clip-path=\"url(#clip640)\" d=\"\n",
       "M1987.39 272.585 L2280.54 272.585 L2280.54 168.905 L1987.39 168.905  Z\n",
       "  \" fill=\"#ffffff\" fill-rule=\"evenodd\" fill-opacity=\"1\"/>\n",
       "<polyline clip-path=\"url(#clip640)\" style=\"stroke:#000000; stroke-linecap:butt; stroke-linejoin:round; stroke-width:4; stroke-opacity:1; fill:none\" points=\"\n",
       "  1987.39,272.585 2280.54,272.585 2280.54,168.905 1987.39,168.905 1987.39,272.585 \n",
       "  \"/>\n",
       "<polyline clip-path=\"url(#clip640)\" style=\"stroke:#009af9; stroke-linecap:butt; stroke-linejoin:round; stroke-width:4; stroke-opacity:1; fill:none\" points=\"\n",
       "  2011.46,220.745 2155.89,220.745 \n",
       "  \"/>\n",
       "<path clip-path=\"url(#clip640)\" d=\"M2193.81 240.432 Q2192 245.062 2190.29 246.474 Q2188.58 247.886 2185.71 247.886 L2182.3 247.886 L2182.3 244.321 L2184.8 244.321 Q2186.56 244.321 2187.53 243.488 Q2188.51 242.654 2189.69 239.552 L2190.45 237.608 L2179.97 212.099 L2184.48 212.099 L2192.58 232.377 L2200.68 212.099 L2205.2 212.099 L2193.81 240.432 Z\" fill=\"#000000\" fill-rule=\"evenodd\" fill-opacity=\"1\" /><path clip-path=\"url(#clip640)\" d=\"M2212.49 234.089 L2220.13 234.089 L2220.13 207.724 L2211.82 209.391 L2211.82 205.131 L2220.08 203.465 L2224.76 203.465 L2224.76 234.089 L2232.4 234.089 L2232.4 238.025 L2212.49 238.025 L2212.49 234.089 Z\" fill=\"#000000\" fill-rule=\"evenodd\" fill-opacity=\"1\" /></svg>\n"
      ]
     },
     "execution_count": 24,
     "metadata": {},
     "output_type": "execute_result"
    }
   ],
   "source": [
    "fpr, tpr, thresholds = sklearn.roc_curve(prediccion.Real, prediccion.Prediccion)\n",
    "plot(fpr, tpr)\n",
    "title!(\"ROC curve\")"
   ]
  },
  {
   "cell_type": "code",
   "execution_count": 25,
   "id": "1b63811a",
   "metadata": {},
   "outputs": [
    {
     "name": "stdout",
     "output_type": "stream",
     "text": [
      "AUC: 81.51%\n",
      "Accuracy: 81.41%\n"
     ]
    }
   ],
   "source": [
    "@printf \"AUC: %.2f%%\\n\" auc * 100\n",
    "@printf \"Accuracy: %.2f%%\\n\" mean(prediction_class_test .== test[:, 61]) * 100"
   ]
  },
  {
   "cell_type": "markdown",
   "id": "323096f2",
   "metadata": {},
   "source": [
    "### SVM"
   ]
  },
  {
   "cell_type": "markdown",
   "id": "9c7cb8fc",
   "metadata": {},
   "source": [
    "Este modelo realiza la clasificación de la etiqueta encontrando el hiperplano que maximiza la separación entre grupos minimizando la distancia entre sus puntos. Para encontrar este hiperplano se utilizan todas las variables independientes."
   ]
  },
  {
   "cell_type": "code",
   "execution_count": 26,
   "id": "ac19806b",
   "metadata": {},
   "outputs": [],
   "source": [
    "y_train = ifelse.(train[:, 61] .== 1, \"R\", \"M\");"
   ]
  },
  {
   "cell_type": "code",
   "execution_count": 27,
   "id": "3def2ea7",
   "metadata": {},
   "outputs": [],
   "source": [
    "x_train = Array(train[:, 1:60])';"
   ]
  },
  {
   "cell_type": "code",
   "execution_count": 28,
   "id": "1fcfb73a",
   "metadata": {},
   "outputs": [],
   "source": [
    "x_test = Array(test[:, 1:60])';\n",
    "y_test = ifelse.(test[:, 61] .== 1, \"R\", \"M\");"
   ]
  },
  {
   "cell_type": "code",
   "execution_count": 29,
   "id": "8e248085",
   "metadata": {},
   "outputs": [],
   "source": [
    "model = LIBSVM.svmtrain(x_train, y_train)\n",
    "\n",
    "pred, decision_values = LIBSVM.svmpredict(model, x_test);"
   ]
  },
  {
   "cell_type": "code",
   "execution_count": 30,
   "id": "53dae7e7",
   "metadata": {},
   "outputs": [],
   "source": [
    "prediccion = [Int.(test[:, 61]) [if y == \"R\" 1 else 0 end for y in pred]]\n",
    "prediccion = DataFrame(prediccion, [:Real, :Prediccion]);"
   ]
  },
  {
   "cell_type": "code",
   "execution_count": 31,
   "id": "dac234fb",
   "metadata": {
    "scrolled": true
   },
   "outputs": [
    {
     "data": {
      "text/plain": [
       "ROCNums{Int64}\n",
       "  p = 77\n",
       "  n = 79\n",
       "  tp = 60\n",
       "  tn = 65\n",
       "  fp = 14\n",
       "  fn = 17\n"
      ]
     },
     "execution_count": 31,
     "metadata": {},
     "output_type": "execute_result"
    }
   ],
   "source": [
    "cm = MLBase.roc(prediccion.Real, prediccion.Prediccion)"
   ]
  },
  {
   "cell_type": "code",
   "execution_count": 32,
   "id": "9f3fecc3",
   "metadata": {},
   "outputs": [],
   "source": [
    "sens = 60/(60+17);\n",
    "espe = 65/(65+14);\n",
    "auc = (sens + espe)/2;"
   ]
  },
  {
   "cell_type": "code",
   "execution_count": 33,
   "id": "6ce6422d",
   "metadata": {
    "scrolled": false
   },
   "outputs": [
    {
     "data": {
      "image/svg+xml": [
       "<?xml version=\"1.0\" encoding=\"utf-8\"?>\n",
       "<svg xmlns=\"http://www.w3.org/2000/svg\" xmlns:xlink=\"http://www.w3.org/1999/xlink\" width=\"600\" height=\"400\" viewBox=\"0 0 2400 1600\">\n",
       "<defs>\n",
       "  <clipPath id=\"clip680\">\n",
       "    <rect x=\"0\" y=\"0\" width=\"2400\" height=\"1600\"/>\n",
       "  </clipPath>\n",
       "</defs>\n",
       "<path clip-path=\"url(#clip680)\" d=\"\n",
       "M0 1600 L2400 1600 L2400 0 L0 0  Z\n",
       "  \" fill=\"#ffffff\" fill-rule=\"evenodd\" fill-opacity=\"1\"/>\n",
       "<defs>\n",
       "  <clipPath id=\"clip681\">\n",
       "    <rect x=\"480\" y=\"0\" width=\"1681\" height=\"1600\"/>\n",
       "  </clipPath>\n",
       "</defs>\n",
       "<path clip-path=\"url(#clip680)\" d=\"\n",
       "M186.274 1486.45 L2352.76 1486.45 L2352.76 123.472 L186.274 123.472  Z\n",
       "  \" fill=\"#ffffff\" fill-rule=\"evenodd\" fill-opacity=\"1\"/>\n",
       "<defs>\n",
       "  <clipPath id=\"clip682\">\n",
       "    <rect x=\"186\" y=\"123\" width=\"2167\" height=\"1364\"/>\n",
       "  </clipPath>\n",
       "</defs>\n",
       "<polyline clip-path=\"url(#clip682)\" style=\"stroke:#000000; stroke-linecap:butt; stroke-linejoin:round; stroke-width:2; stroke-opacity:0.1; fill:none\" points=\"\n",
       "  247.59,1486.45 247.59,123.472 \n",
       "  \"/>\n",
       "<polyline clip-path=\"url(#clip682)\" style=\"stroke:#000000; stroke-linecap:butt; stroke-linejoin:round; stroke-width:2; stroke-opacity:0.1; fill:none\" points=\"\n",
       "  758.552,1486.45 758.552,123.472 \n",
       "  \"/>\n",
       "<polyline clip-path=\"url(#clip682)\" style=\"stroke:#000000; stroke-linecap:butt; stroke-linejoin:round; stroke-width:2; stroke-opacity:0.1; fill:none\" points=\"\n",
       "  1269.51,1486.45 1269.51,123.472 \n",
       "  \"/>\n",
       "<polyline clip-path=\"url(#clip682)\" style=\"stroke:#000000; stroke-linecap:butt; stroke-linejoin:round; stroke-width:2; stroke-opacity:0.1; fill:none\" points=\"\n",
       "  1780.48,1486.45 1780.48,123.472 \n",
       "  \"/>\n",
       "<polyline clip-path=\"url(#clip682)\" style=\"stroke:#000000; stroke-linecap:butt; stroke-linejoin:round; stroke-width:2; stroke-opacity:0.1; fill:none\" points=\"\n",
       "  2291.44,1486.45 2291.44,123.472 \n",
       "  \"/>\n",
       "<polyline clip-path=\"url(#clip680)\" style=\"stroke:#000000; stroke-linecap:butt; stroke-linejoin:round; stroke-width:4; stroke-opacity:1; fill:none\" points=\"\n",
       "  186.274,1486.45 2352.76,1486.45 \n",
       "  \"/>\n",
       "<polyline clip-path=\"url(#clip680)\" style=\"stroke:#000000; stroke-linecap:butt; stroke-linejoin:round; stroke-width:4; stroke-opacity:1; fill:none\" points=\"\n",
       "  247.59,1486.45 247.59,1467.55 \n",
       "  \"/>\n",
       "<polyline clip-path=\"url(#clip680)\" style=\"stroke:#000000; stroke-linecap:butt; stroke-linejoin:round; stroke-width:4; stroke-opacity:1; fill:none\" points=\"\n",
       "  758.552,1486.45 758.552,1467.55 \n",
       "  \"/>\n",
       "<polyline clip-path=\"url(#clip680)\" style=\"stroke:#000000; stroke-linecap:butt; stroke-linejoin:round; stroke-width:4; stroke-opacity:1; fill:none\" points=\"\n",
       "  1269.51,1486.45 1269.51,1467.55 \n",
       "  \"/>\n",
       "<polyline clip-path=\"url(#clip680)\" style=\"stroke:#000000; stroke-linecap:butt; stroke-linejoin:round; stroke-width:4; stroke-opacity:1; fill:none\" points=\"\n",
       "  1780.48,1486.45 1780.48,1467.55 \n",
       "  \"/>\n",
       "<polyline clip-path=\"url(#clip680)\" style=\"stroke:#000000; stroke-linecap:butt; stroke-linejoin:round; stroke-width:4; stroke-opacity:1; fill:none\" points=\"\n",
       "  2291.44,1486.45 2291.44,1467.55 \n",
       "  \"/>\n",
       "<path clip-path=\"url(#clip680)\" d=\"M209.893 1517.37 Q206.282 1517.37 204.453 1520.93 Q202.648 1524.47 202.648 1531.6 Q202.648 1538.71 204.453 1542.27 Q206.282 1545.82 209.893 1545.82 Q213.527 1545.82 215.333 1542.27 Q217.161 1538.71 217.161 1531.6 Q217.161 1524.47 215.333 1520.93 Q213.527 1517.37 209.893 1517.37 M209.893 1513.66 Q215.703 1513.66 218.759 1518.27 Q221.837 1522.85 221.837 1531.6 Q221.837 1540.33 218.759 1544.94 Q215.703 1549.52 209.893 1549.52 Q204.083 1549.52 201.004 1544.94 Q197.949 1540.33 197.949 1531.6 Q197.949 1522.85 201.004 1518.27 Q204.083 1513.66 209.893 1513.66 Z\" fill=\"#000000\" fill-rule=\"evenodd\" fill-opacity=\"1\" /><path clip-path=\"url(#clip680)\" d=\"M230.055 1542.97 L234.939 1542.97 L234.939 1548.85 L230.055 1548.85 L230.055 1542.97 Z\" fill=\"#000000\" fill-rule=\"evenodd\" fill-opacity=\"1\" /><path clip-path=\"url(#clip680)\" d=\"M255.124 1517.37 Q251.513 1517.37 249.684 1520.93 Q247.879 1524.47 247.879 1531.6 Q247.879 1538.71 249.684 1542.27 Q251.513 1545.82 255.124 1545.82 Q258.758 1545.82 260.564 1542.27 Q262.393 1538.71 262.393 1531.6 Q262.393 1524.47 260.564 1520.93 Q258.758 1517.37 255.124 1517.37 M255.124 1513.66 Q260.934 1513.66 263.99 1518.27 Q267.069 1522.85 267.069 1531.6 Q267.069 1540.33 263.99 1544.94 Q260.934 1549.52 255.124 1549.52 Q249.314 1549.52 246.235 1544.94 Q243.18 1540.33 243.18 1531.6 Q243.18 1522.85 246.235 1518.27 Q249.314 1513.66 255.124 1513.66 Z\" fill=\"#000000\" fill-rule=\"evenodd\" fill-opacity=\"1\" /><path clip-path=\"url(#clip680)\" d=\"M285.286 1517.37 Q281.675 1517.37 279.846 1520.93 Q278.041 1524.47 278.041 1531.6 Q278.041 1538.71 279.846 1542.27 Q281.675 1545.82 285.286 1545.82 Q288.92 1545.82 290.726 1542.27 Q292.555 1538.71 292.555 1531.6 Q292.555 1524.47 290.726 1520.93 Q288.92 1517.37 285.286 1517.37 M285.286 1513.66 Q291.096 1513.66 294.152 1518.27 Q297.23 1522.85 297.23 1531.6 Q297.23 1540.33 294.152 1544.94 Q291.096 1549.52 285.286 1549.52 Q279.476 1549.52 276.397 1544.94 Q273.342 1540.33 273.342 1531.6 Q273.342 1522.85 276.397 1518.27 Q279.476 1513.66 285.286 1513.66 Z\" fill=\"#000000\" fill-rule=\"evenodd\" fill-opacity=\"1\" /><path clip-path=\"url(#clip680)\" d=\"M721.353 1517.37 Q717.742 1517.37 715.914 1520.93 Q714.108 1524.47 714.108 1531.6 Q714.108 1538.71 715.914 1542.27 Q717.742 1545.82 721.353 1545.82 Q724.988 1545.82 726.793 1542.27 Q728.622 1538.71 728.622 1531.6 Q728.622 1524.47 726.793 1520.93 Q724.988 1517.37 721.353 1517.37 M721.353 1513.66 Q727.164 1513.66 730.219 1518.27 Q733.298 1522.85 733.298 1531.6 Q733.298 1540.33 730.219 1544.94 Q727.164 1549.52 721.353 1549.52 Q715.543 1549.52 712.465 1544.94 Q709.409 1540.33 709.409 1531.6 Q709.409 1522.85 712.465 1518.27 Q715.543 1513.66 721.353 1513.66 Z\" fill=\"#000000\" fill-rule=\"evenodd\" fill-opacity=\"1\" /><path clip-path=\"url(#clip680)\" d=\"M741.515 1542.97 L746.4 1542.97 L746.4 1548.85 L741.515 1548.85 L741.515 1542.97 Z\" fill=\"#000000\" fill-rule=\"evenodd\" fill-opacity=\"1\" /><path clip-path=\"url(#clip680)\" d=\"M760.612 1544.91 L776.932 1544.91 L776.932 1548.85 L754.987 1548.85 L754.987 1544.91 Q757.649 1542.16 762.233 1537.53 Q766.839 1532.88 768.02 1531.53 Q770.265 1529.01 771.145 1527.27 Q772.048 1525.51 772.048 1523.82 Q772.048 1521.07 770.103 1519.33 Q768.182 1517.6 765.08 1517.6 Q762.881 1517.6 760.427 1518.36 Q757.997 1519.13 755.219 1520.68 L755.219 1515.95 Q758.043 1514.82 760.497 1514.24 Q762.95 1513.66 764.987 1513.66 Q770.358 1513.66 773.552 1516.35 Q776.747 1519.03 776.747 1523.52 Q776.747 1525.65 775.936 1527.57 Q775.149 1529.47 773.043 1532.07 Q772.464 1532.74 769.362 1535.95 Q766.261 1539.15 760.612 1544.91 Z\" fill=\"#000000\" fill-rule=\"evenodd\" fill-opacity=\"1\" /><path clip-path=\"url(#clip680)\" d=\"M786.793 1514.29 L805.149 1514.29 L805.149 1518.22 L791.075 1518.22 L791.075 1526.7 Q792.094 1526.35 793.112 1526.19 Q794.131 1526 795.149 1526 Q800.936 1526 804.316 1529.17 Q807.695 1532.34 807.695 1537.76 Q807.695 1543.34 804.223 1546.44 Q800.751 1549.52 794.432 1549.52 Q792.256 1549.52 789.987 1549.15 Q787.742 1548.78 785.335 1548.04 L785.335 1543.34 Q787.418 1544.47 789.64 1545.03 Q791.862 1545.58 794.339 1545.58 Q798.344 1545.58 800.682 1543.48 Q803.02 1541.37 803.02 1537.76 Q803.02 1534.15 800.682 1532.04 Q798.344 1529.94 794.339 1529.94 Q792.464 1529.94 790.589 1530.35 Q788.737 1530.77 786.793 1531.65 L786.793 1514.29 Z\" fill=\"#000000\" fill-rule=\"evenodd\" fill-opacity=\"1\" /><path clip-path=\"url(#clip680)\" d=\"M1231.82 1517.37 Q1228.21 1517.37 1226.38 1520.93 Q1224.57 1524.47 1224.57 1531.6 Q1224.57 1538.71 1226.38 1542.27 Q1228.21 1545.82 1231.82 1545.82 Q1235.45 1545.82 1237.26 1542.27 Q1239.09 1538.71 1239.09 1531.6 Q1239.09 1524.47 1237.26 1520.93 Q1235.45 1517.37 1231.82 1517.37 M1231.82 1513.66 Q1237.63 1513.66 1240.68 1518.27 Q1243.76 1522.85 1243.76 1531.6 Q1243.76 1540.33 1240.68 1544.94 Q1237.63 1549.52 1231.82 1549.52 Q1226.01 1549.52 1222.93 1544.94 Q1219.87 1540.33 1219.87 1531.6 Q1219.87 1522.85 1222.93 1518.27 Q1226.01 1513.66 1231.82 1513.66 Z\" fill=\"#000000\" fill-rule=\"evenodd\" fill-opacity=\"1\" /><path clip-path=\"url(#clip680)\" d=\"M1251.98 1542.97 L1256.86 1542.97 L1256.86 1548.85 L1251.98 1548.85 L1251.98 1542.97 Z\" fill=\"#000000\" fill-rule=\"evenodd\" fill-opacity=\"1\" /><path clip-path=\"url(#clip680)\" d=\"M1267.1 1514.29 L1285.45 1514.29 L1285.45 1518.22 L1271.38 1518.22 L1271.38 1526.7 Q1272.4 1526.35 1273.42 1526.19 Q1274.43 1526 1275.45 1526 Q1281.24 1526 1284.62 1529.17 Q1288 1532.34 1288 1537.76 Q1288 1543.34 1284.53 1546.44 Q1281.05 1549.52 1274.73 1549.52 Q1272.56 1549.52 1270.29 1549.15 Q1268.05 1548.78 1265.64 1548.04 L1265.64 1543.34 Q1267.72 1544.47 1269.94 1545.03 Q1272.17 1545.58 1274.64 1545.58 Q1278.65 1545.58 1280.98 1543.48 Q1283.32 1541.37 1283.32 1537.76 Q1283.32 1534.15 1280.98 1532.04 Q1278.65 1529.94 1274.64 1529.94 Q1272.77 1529.94 1270.89 1530.35 Q1269.04 1530.77 1267.1 1531.65 L1267.1 1514.29 Z\" fill=\"#000000\" fill-rule=\"evenodd\" fill-opacity=\"1\" /><path clip-path=\"url(#clip680)\" d=\"M1307.21 1517.37 Q1303.6 1517.37 1301.77 1520.93 Q1299.97 1524.47 1299.97 1531.6 Q1299.97 1538.71 1301.77 1542.27 Q1303.6 1545.82 1307.21 1545.82 Q1310.85 1545.82 1312.65 1542.27 Q1314.48 1538.71 1314.48 1531.6 Q1314.48 1524.47 1312.65 1520.93 Q1310.85 1517.37 1307.21 1517.37 M1307.21 1513.66 Q1313.02 1513.66 1316.08 1518.27 Q1319.16 1522.85 1319.16 1531.6 Q1319.16 1540.33 1316.08 1544.94 Q1313.02 1549.52 1307.21 1549.52 Q1301.4 1549.52 1298.32 1544.94 Q1295.27 1540.33 1295.27 1531.6 Q1295.27 1522.85 1298.32 1518.27 Q1301.4 1513.66 1307.21 1513.66 Z\" fill=\"#000000\" fill-rule=\"evenodd\" fill-opacity=\"1\" /><path clip-path=\"url(#clip680)\" d=\"M1743.28 1517.37 Q1739.67 1517.37 1737.84 1520.93 Q1736.03 1524.47 1736.03 1531.6 Q1736.03 1538.71 1737.84 1542.27 Q1739.67 1545.82 1743.28 1545.82 Q1746.91 1545.82 1748.72 1542.27 Q1750.55 1538.71 1750.55 1531.6 Q1750.55 1524.47 1748.72 1520.93 Q1746.91 1517.37 1743.28 1517.37 M1743.28 1513.66 Q1749.09 1513.66 1752.14 1518.27 Q1755.22 1522.85 1755.22 1531.6 Q1755.22 1540.33 1752.14 1544.94 Q1749.09 1549.52 1743.28 1549.52 Q1737.47 1549.52 1734.39 1544.94 Q1731.33 1540.33 1731.33 1531.6 Q1731.33 1522.85 1734.39 1518.27 Q1737.47 1513.66 1743.28 1513.66 Z\" fill=\"#000000\" fill-rule=\"evenodd\" fill-opacity=\"1\" /><path clip-path=\"url(#clip680)\" d=\"M1763.44 1542.97 L1768.32 1542.97 L1768.32 1548.85 L1763.44 1548.85 L1763.44 1542.97 Z\" fill=\"#000000\" fill-rule=\"evenodd\" fill-opacity=\"1\" /><path clip-path=\"url(#clip680)\" d=\"M1777.33 1514.29 L1799.55 1514.29 L1799.55 1516.28 L1787.01 1548.85 L1782.12 1548.85 L1793.93 1518.22 L1777.33 1518.22 L1777.33 1514.29 Z\" fill=\"#000000\" fill-rule=\"evenodd\" fill-opacity=\"1\" /><path clip-path=\"url(#clip680)\" d=\"M1808.72 1514.29 L1827.07 1514.29 L1827.07 1518.22 L1813 1518.22 L1813 1526.7 Q1814.02 1526.35 1815.04 1526.19 Q1816.06 1526 1817.07 1526 Q1822.86 1526 1826.24 1529.17 Q1829.62 1532.34 1829.62 1537.76 Q1829.62 1543.34 1826.15 1546.44 Q1822.68 1549.52 1816.36 1549.52 Q1814.18 1549.52 1811.91 1549.15 Q1809.67 1548.78 1807.26 1548.04 L1807.26 1543.34 Q1809.34 1544.47 1811.57 1545.03 Q1813.79 1545.58 1816.26 1545.58 Q1820.27 1545.58 1822.61 1543.48 Q1824.95 1541.37 1824.95 1537.76 Q1824.95 1534.15 1822.61 1532.04 Q1820.27 1529.94 1816.26 1529.94 Q1814.39 1529.94 1812.51 1530.35 Q1810.66 1530.77 1808.72 1531.65 L1808.72 1514.29 Z\" fill=\"#000000\" fill-rule=\"evenodd\" fill-opacity=\"1\" /><path clip-path=\"url(#clip680)\" d=\"M2243.51 1544.91 L2251.15 1544.91 L2251.15 1518.55 L2242.84 1520.21 L2242.84 1515.95 L2251.1 1514.29 L2255.78 1514.29 L2255.78 1544.91 L2263.42 1544.91 L2263.42 1548.85 L2243.51 1548.85 L2243.51 1544.91 Z\" fill=\"#000000\" fill-rule=\"evenodd\" fill-opacity=\"1\" /><path clip-path=\"url(#clip680)\" d=\"M2272.86 1542.97 L2277.75 1542.97 L2277.75 1548.85 L2272.86 1548.85 L2272.86 1542.97 Z\" fill=\"#000000\" fill-rule=\"evenodd\" fill-opacity=\"1\" /><path clip-path=\"url(#clip680)\" d=\"M2297.93 1517.37 Q2294.32 1517.37 2292.49 1520.93 Q2290.69 1524.47 2290.69 1531.6 Q2290.69 1538.71 2292.49 1542.27 Q2294.32 1545.82 2297.93 1545.82 Q2301.57 1545.82 2303.37 1542.27 Q2305.2 1538.71 2305.2 1531.6 Q2305.2 1524.47 2303.37 1520.93 Q2301.57 1517.37 2297.93 1517.37 M2297.93 1513.66 Q2303.74 1513.66 2306.8 1518.27 Q2309.88 1522.85 2309.88 1531.6 Q2309.88 1540.33 2306.8 1544.94 Q2303.74 1549.52 2297.93 1549.52 Q2292.12 1549.52 2289.04 1544.94 Q2285.99 1540.33 2285.99 1531.6 Q2285.99 1522.85 2289.04 1518.27 Q2292.12 1513.66 2297.93 1513.66 Z\" fill=\"#000000\" fill-rule=\"evenodd\" fill-opacity=\"1\" /><path clip-path=\"url(#clip680)\" d=\"M2328.1 1517.37 Q2324.48 1517.37 2322.66 1520.93 Q2320.85 1524.47 2320.85 1531.6 Q2320.85 1538.71 2322.66 1542.27 Q2324.48 1545.82 2328.1 1545.82 Q2331.73 1545.82 2333.54 1542.27 Q2335.36 1538.71 2335.36 1531.6 Q2335.36 1524.47 2333.54 1520.93 Q2331.73 1517.37 2328.1 1517.37 M2328.1 1513.66 Q2333.91 1513.66 2336.96 1518.27 Q2340.04 1522.85 2340.04 1531.6 Q2340.04 1540.33 2336.96 1544.94 Q2333.91 1549.52 2328.1 1549.52 Q2322.29 1549.52 2319.21 1544.94 Q2316.15 1540.33 2316.15 1531.6 Q2316.15 1522.85 2319.21 1518.27 Q2322.29 1513.66 2328.1 1513.66 Z\" fill=\"#000000\" fill-rule=\"evenodd\" fill-opacity=\"1\" /><polyline clip-path=\"url(#clip682)\" style=\"stroke:#000000; stroke-linecap:butt; stroke-linejoin:round; stroke-width:2; stroke-opacity:0.1; fill:none\" points=\"\n",
       "  186.274,1447.87 2352.76,1447.87 \n",
       "  \"/>\n",
       "<polyline clip-path=\"url(#clip682)\" style=\"stroke:#000000; stroke-linecap:butt; stroke-linejoin:round; stroke-width:2; stroke-opacity:0.1; fill:none\" points=\"\n",
       "  186.274,1126.42 2352.76,1126.42 \n",
       "  \"/>\n",
       "<polyline clip-path=\"url(#clip682)\" style=\"stroke:#000000; stroke-linecap:butt; stroke-linejoin:round; stroke-width:2; stroke-opacity:0.1; fill:none\" points=\"\n",
       "  186.274,804.96 2352.76,804.96 \n",
       "  \"/>\n",
       "<polyline clip-path=\"url(#clip682)\" style=\"stroke:#000000; stroke-linecap:butt; stroke-linejoin:round; stroke-width:2; stroke-opacity:0.1; fill:none\" points=\"\n",
       "  186.274,483.503 2352.76,483.503 \n",
       "  \"/>\n",
       "<polyline clip-path=\"url(#clip682)\" style=\"stroke:#000000; stroke-linecap:butt; stroke-linejoin:round; stroke-width:2; stroke-opacity:0.1; fill:none\" points=\"\n",
       "  186.274,162.047 2352.76,162.047 \n",
       "  \"/>\n",
       "<polyline clip-path=\"url(#clip680)\" style=\"stroke:#000000; stroke-linecap:butt; stroke-linejoin:round; stroke-width:4; stroke-opacity:1; fill:none\" points=\"\n",
       "  186.274,1486.45 186.274,123.472 \n",
       "  \"/>\n",
       "<polyline clip-path=\"url(#clip680)\" style=\"stroke:#000000; stroke-linecap:butt; stroke-linejoin:round; stroke-width:4; stroke-opacity:1; fill:none\" points=\"\n",
       "  186.274,1447.87 205.172,1447.87 \n",
       "  \"/>\n",
       "<polyline clip-path=\"url(#clip680)\" style=\"stroke:#000000; stroke-linecap:butt; stroke-linejoin:round; stroke-width:4; stroke-opacity:1; fill:none\" points=\"\n",
       "  186.274,1126.42 205.172,1126.42 \n",
       "  \"/>\n",
       "<polyline clip-path=\"url(#clip680)\" style=\"stroke:#000000; stroke-linecap:butt; stroke-linejoin:round; stroke-width:4; stroke-opacity:1; fill:none\" points=\"\n",
       "  186.274,804.96 205.172,804.96 \n",
       "  \"/>\n",
       "<polyline clip-path=\"url(#clip680)\" style=\"stroke:#000000; stroke-linecap:butt; stroke-linejoin:round; stroke-width:4; stroke-opacity:1; fill:none\" points=\"\n",
       "  186.274,483.503 205.172,483.503 \n",
       "  \"/>\n",
       "<polyline clip-path=\"url(#clip680)\" style=\"stroke:#000000; stroke-linecap:butt; stroke-linejoin:round; stroke-width:4; stroke-opacity:1; fill:none\" points=\"\n",
       "  186.274,162.047 205.172,162.047 \n",
       "  \"/>\n",
       "<path clip-path=\"url(#clip680)\" d=\"M62.9365 1433.67 Q59.3254 1433.67 57.4967 1437.24 Q55.6912 1440.78 55.6912 1447.91 Q55.6912 1455.01 57.4967 1458.58 Q59.3254 1462.12 62.9365 1462.12 Q66.5707 1462.12 68.3763 1458.58 Q70.205 1455.01 70.205 1447.91 Q70.205 1440.78 68.3763 1437.24 Q66.5707 1433.67 62.9365 1433.67 M62.9365 1429.97 Q68.7467 1429.97 71.8022 1434.57 Q74.8809 1439.16 74.8809 1447.91 Q74.8809 1456.63 71.8022 1461.24 Q68.7467 1465.82 62.9365 1465.82 Q57.1264 1465.82 54.0477 1461.24 Q50.9921 1456.63 50.9921 1447.91 Q50.9921 1439.16 54.0477 1434.57 Q57.1264 1429.97 62.9365 1429.97 Z\" fill=\"#000000\" fill-rule=\"evenodd\" fill-opacity=\"1\" /><path clip-path=\"url(#clip680)\" d=\"M83.0984 1459.27 L87.9827 1459.27 L87.9827 1465.15 L83.0984 1465.15 L83.0984 1459.27 Z\" fill=\"#000000\" fill-rule=\"evenodd\" fill-opacity=\"1\" /><path clip-path=\"url(#clip680)\" d=\"M108.168 1433.67 Q104.557 1433.67 102.728 1437.24 Q100.922 1440.78 100.922 1447.91 Q100.922 1455.01 102.728 1458.58 Q104.557 1462.12 108.168 1462.12 Q111.802 1462.12 113.608 1458.58 Q115.436 1455.01 115.436 1447.91 Q115.436 1440.78 113.608 1437.24 Q111.802 1433.67 108.168 1433.67 M108.168 1429.97 Q113.978 1429.97 117.033 1434.57 Q120.112 1439.16 120.112 1447.91 Q120.112 1456.63 117.033 1461.24 Q113.978 1465.82 108.168 1465.82 Q102.358 1465.82 99.2789 1461.24 Q96.2234 1456.63 96.2234 1447.91 Q96.2234 1439.16 99.2789 1434.57 Q102.358 1429.97 108.168 1429.97 Z\" fill=\"#000000\" fill-rule=\"evenodd\" fill-opacity=\"1\" /><path clip-path=\"url(#clip680)\" d=\"M138.33 1433.67 Q134.719 1433.67 132.89 1437.24 Q131.084 1440.78 131.084 1447.91 Q131.084 1455.01 132.89 1458.58 Q134.719 1462.12 138.33 1462.12 Q141.964 1462.12 143.769 1458.58 Q145.598 1455.01 145.598 1447.91 Q145.598 1440.78 143.769 1437.24 Q141.964 1433.67 138.33 1433.67 M138.33 1429.97 Q144.14 1429.97 147.195 1434.57 Q150.274 1439.16 150.274 1447.91 Q150.274 1456.63 147.195 1461.24 Q144.14 1465.82 138.33 1465.82 Q132.519 1465.82 129.441 1461.24 Q126.385 1456.63 126.385 1447.91 Q126.385 1439.16 129.441 1434.57 Q132.519 1429.97 138.33 1429.97 Z\" fill=\"#000000\" fill-rule=\"evenodd\" fill-opacity=\"1\" /><path clip-path=\"url(#clip680)\" d=\"M63.9319 1112.22 Q60.3208 1112.22 58.4921 1115.78 Q56.6865 1119.32 56.6865 1126.45 Q56.6865 1133.56 58.4921 1137.12 Q60.3208 1140.66 63.9319 1140.66 Q67.5661 1140.66 69.3717 1137.12 Q71.2004 1133.56 71.2004 1126.45 Q71.2004 1119.32 69.3717 1115.78 Q67.5661 1112.22 63.9319 1112.22 M63.9319 1108.51 Q69.742 1108.51 72.7976 1113.12 Q75.8763 1117.7 75.8763 1126.45 Q75.8763 1135.18 72.7976 1139.78 Q69.742 1144.37 63.9319 1144.37 Q58.1217 1144.37 55.043 1139.78 Q51.9875 1135.18 51.9875 1126.45 Q51.9875 1117.7 55.043 1113.12 Q58.1217 1108.51 63.9319 1108.51 Z\" fill=\"#000000\" fill-rule=\"evenodd\" fill-opacity=\"1\" /><path clip-path=\"url(#clip680)\" d=\"M84.0938 1137.82 L88.978 1137.82 L88.978 1143.7 L84.0938 1143.7 L84.0938 1137.82 Z\" fill=\"#000000\" fill-rule=\"evenodd\" fill-opacity=\"1\" /><path clip-path=\"url(#clip680)\" d=\"M103.191 1139.76 L119.51 1139.76 L119.51 1143.7 L97.566 1143.7 L97.566 1139.76 Q100.228 1137.01 104.811 1132.38 Q109.418 1127.72 110.598 1126.38 Q112.844 1123.86 113.723 1122.12 Q114.626 1120.36 114.626 1118.67 Q114.626 1115.92 112.682 1114.18 Q110.76 1112.45 107.658 1112.45 Q105.459 1112.45 103.006 1113.21 Q100.575 1113.97 97.7974 1115.53 L97.7974 1110.8 Q100.621 1109.67 103.075 1109.09 Q105.529 1108.51 107.566 1108.51 Q112.936 1108.51 116.131 1111.2 Q119.325 1113.88 119.325 1118.37 Q119.325 1120.5 118.515 1122.42 Q117.728 1124.32 115.621 1126.91 Q115.043 1127.59 111.941 1130.8 Q108.839 1134 103.191 1139.76 Z\" fill=\"#000000\" fill-rule=\"evenodd\" fill-opacity=\"1\" /><path clip-path=\"url(#clip680)\" d=\"M129.371 1109.14 L147.728 1109.14 L147.728 1113.07 L133.654 1113.07 L133.654 1121.54 Q134.672 1121.2 135.691 1121.03 Q136.709 1120.85 137.728 1120.85 Q143.515 1120.85 146.894 1124.02 Q150.274 1127.19 150.274 1132.61 Q150.274 1138.19 146.802 1141.29 Q143.33 1144.37 137.01 1144.37 Q134.834 1144.37 132.566 1144 Q130.32 1143.63 127.913 1142.89 L127.913 1138.19 Q129.996 1139.32 132.219 1139.88 Q134.441 1140.43 136.918 1140.43 Q140.922 1140.43 143.26 1138.33 Q145.598 1136.22 145.598 1132.61 Q145.598 1129 143.26 1126.89 Q140.922 1124.78 136.918 1124.78 Q135.043 1124.78 133.168 1125.2 Q131.316 1125.62 129.371 1126.5 L129.371 1109.14 Z\" fill=\"#000000\" fill-rule=\"evenodd\" fill-opacity=\"1\" /><path clip-path=\"url(#clip680)\" d=\"M62.9365 790.759 Q59.3254 790.759 57.4967 794.323 Q55.6912 797.865 55.6912 804.995 Q55.6912 812.101 57.4967 815.666 Q59.3254 819.208 62.9365 819.208 Q66.5707 819.208 68.3763 815.666 Q70.205 812.101 70.205 804.995 Q70.205 797.865 68.3763 794.323 Q66.5707 790.759 62.9365 790.759 M62.9365 787.055 Q68.7467 787.055 71.8022 791.661 Q74.8809 796.245 74.8809 804.995 Q74.8809 813.722 71.8022 818.328 Q68.7467 822.911 62.9365 822.911 Q57.1264 822.911 54.0477 818.328 Q50.9921 813.722 50.9921 804.995 Q50.9921 796.245 54.0477 791.661 Q57.1264 787.055 62.9365 787.055 Z\" fill=\"#000000\" fill-rule=\"evenodd\" fill-opacity=\"1\" /><path clip-path=\"url(#clip680)\" d=\"M83.0984 816.36 L87.9827 816.36 L87.9827 822.24 L83.0984 822.24 L83.0984 816.36 Z\" fill=\"#000000\" fill-rule=\"evenodd\" fill-opacity=\"1\" /><path clip-path=\"url(#clip680)\" d=\"M98.2141 787.68 L116.57 787.68 L116.57 791.615 L102.496 791.615 L102.496 800.087 Q103.515 799.74 104.534 799.578 Q105.552 799.393 106.571 799.393 Q112.358 799.393 115.737 802.564 Q119.117 805.735 119.117 811.152 Q119.117 816.731 115.645 819.833 Q112.172 822.911 105.853 822.911 Q103.677 822.911 101.409 822.541 Q99.1632 822.171 96.7558 821.43 L96.7558 816.731 Q98.8391 817.865 101.061 818.421 Q103.284 818.976 105.76 818.976 Q109.765 818.976 112.103 816.87 Q114.441 814.763 114.441 811.152 Q114.441 807.541 112.103 805.435 Q109.765 803.328 105.76 803.328 Q103.885 803.328 102.01 803.745 Q100.159 804.161 98.2141 805.041 L98.2141 787.68 Z\" fill=\"#000000\" fill-rule=\"evenodd\" fill-opacity=\"1\" /><path clip-path=\"url(#clip680)\" d=\"M138.33 790.759 Q134.719 790.759 132.89 794.323 Q131.084 797.865 131.084 804.995 Q131.084 812.101 132.89 815.666 Q134.719 819.208 138.33 819.208 Q141.964 819.208 143.769 815.666 Q145.598 812.101 145.598 804.995 Q145.598 797.865 143.769 794.323 Q141.964 790.759 138.33 790.759 M138.33 787.055 Q144.14 787.055 147.195 791.661 Q150.274 796.245 150.274 804.995 Q150.274 813.722 147.195 818.328 Q144.14 822.911 138.33 822.911 Q132.519 822.911 129.441 818.328 Q126.385 813.722 126.385 804.995 Q126.385 796.245 129.441 791.661 Q132.519 787.055 138.33 787.055 Z\" fill=\"#000000\" fill-rule=\"evenodd\" fill-opacity=\"1\" /><path clip-path=\"url(#clip680)\" d=\"M63.9319 469.302 Q60.3208 469.302 58.4921 472.867 Q56.6865 476.409 56.6865 483.538 Q56.6865 490.645 58.4921 494.209 Q60.3208 497.751 63.9319 497.751 Q67.5661 497.751 69.3717 494.209 Q71.2004 490.645 71.2004 483.538 Q71.2004 476.409 69.3717 472.867 Q67.5661 469.302 63.9319 469.302 M63.9319 465.598 Q69.742 465.598 72.7976 470.205 Q75.8763 474.788 75.8763 483.538 Q75.8763 492.265 72.7976 496.871 Q69.742 501.455 63.9319 501.455 Q58.1217 501.455 55.043 496.871 Q51.9875 492.265 51.9875 483.538 Q51.9875 474.788 55.043 470.205 Q58.1217 465.598 63.9319 465.598 Z\" fill=\"#000000\" fill-rule=\"evenodd\" fill-opacity=\"1\" /><path clip-path=\"url(#clip680)\" d=\"M84.0938 494.904 L88.978 494.904 L88.978 500.783 L84.0938 500.783 L84.0938 494.904 Z\" fill=\"#000000\" fill-rule=\"evenodd\" fill-opacity=\"1\" /><path clip-path=\"url(#clip680)\" d=\"M97.9826 466.223 L120.205 466.223 L120.205 468.214 L107.658 500.783 L102.774 500.783 L114.58 470.159 L97.9826 470.159 L97.9826 466.223 Z\" fill=\"#000000\" fill-rule=\"evenodd\" fill-opacity=\"1\" /><path clip-path=\"url(#clip680)\" d=\"M129.371 466.223 L147.728 466.223 L147.728 470.159 L133.654 470.159 L133.654 478.631 Q134.672 478.284 135.691 478.122 Q136.709 477.936 137.728 477.936 Q143.515 477.936 146.894 481.108 Q150.274 484.279 150.274 489.696 Q150.274 495.274 146.802 498.376 Q143.33 501.455 137.01 501.455 Q134.834 501.455 132.566 501.084 Q130.32 500.714 127.913 499.973 L127.913 495.274 Q129.996 496.408 132.219 496.964 Q134.441 497.52 136.918 497.52 Q140.922 497.52 143.26 495.413 Q145.598 493.307 145.598 489.696 Q145.598 486.084 143.26 483.978 Q140.922 481.872 136.918 481.872 Q135.043 481.872 133.168 482.288 Q131.316 482.705 129.371 483.584 L129.371 466.223 Z\" fill=\"#000000\" fill-rule=\"evenodd\" fill-opacity=\"1\" /><path clip-path=\"url(#clip680)\" d=\"M53.7467 175.392 L61.3856 175.392 L61.3856 149.026 L53.0754 150.693 L53.0754 146.434 L61.3393 144.767 L66.0152 144.767 L66.0152 175.392 L73.654 175.392 L73.654 179.327 L53.7467 179.327 L53.7467 175.392 Z\" fill=\"#000000\" fill-rule=\"evenodd\" fill-opacity=\"1\" /><path clip-path=\"url(#clip680)\" d=\"M83.0984 173.447 L87.9827 173.447 L87.9827 179.327 L83.0984 179.327 L83.0984 173.447 Z\" fill=\"#000000\" fill-rule=\"evenodd\" fill-opacity=\"1\" /><path clip-path=\"url(#clip680)\" d=\"M108.168 147.846 Q104.557 147.846 102.728 151.41 Q100.922 154.952 100.922 162.082 Q100.922 169.188 102.728 172.753 Q104.557 176.295 108.168 176.295 Q111.802 176.295 113.608 172.753 Q115.436 169.188 115.436 162.082 Q115.436 154.952 113.608 151.41 Q111.802 147.846 108.168 147.846 M108.168 144.142 Q113.978 144.142 117.033 148.748 Q120.112 153.332 120.112 162.082 Q120.112 170.808 117.033 175.415 Q113.978 179.998 108.168 179.998 Q102.358 179.998 99.2789 175.415 Q96.2234 170.808 96.2234 162.082 Q96.2234 153.332 99.2789 148.748 Q102.358 144.142 108.168 144.142 Z\" fill=\"#000000\" fill-rule=\"evenodd\" fill-opacity=\"1\" /><path clip-path=\"url(#clip680)\" d=\"M138.33 147.846 Q134.719 147.846 132.89 151.41 Q131.084 154.952 131.084 162.082 Q131.084 169.188 132.89 172.753 Q134.719 176.295 138.33 176.295 Q141.964 176.295 143.769 172.753 Q145.598 169.188 145.598 162.082 Q145.598 154.952 143.769 151.41 Q141.964 147.846 138.33 147.846 M138.33 144.142 Q144.14 144.142 147.195 148.748 Q150.274 153.332 150.274 162.082 Q150.274 170.808 147.195 175.415 Q144.14 179.998 138.33 179.998 Q132.519 179.998 129.441 175.415 Q126.385 170.808 126.385 162.082 Q126.385 153.332 129.441 148.748 Q132.519 144.142 138.33 144.142 Z\" fill=\"#000000\" fill-rule=\"evenodd\" fill-opacity=\"1\" /><path clip-path=\"url(#clip680)\" d=\"M1084.63 44.2197 Q1087.26 45.1109 1089.74 48.0275 Q1092.25 50.9442 1094.76 56.0483 L1103.06 72.576 L1094.27 72.576 L1086.54 57.061 Q1083.54 50.9847 1080.7 48.9997 Q1077.91 47.0148 1073.05 47.0148 L1064.13 47.0148 L1064.13 72.576 L1055.95 72.576 L1055.95 12.096 L1074.42 12.096 Q1084.79 12.096 1089.9 16.4305 Q1095 20.7649 1095 29.5149 Q1095 35.2267 1092.33 38.994 Q1089.7 42.7613 1084.63 44.2197 M1064.13 18.8205 L1064.13 40.2903 L1074.42 40.2903 Q1080.34 40.2903 1083.34 37.5762 Q1086.37 34.8216 1086.37 29.5149 Q1086.37 24.2082 1083.34 21.5346 Q1080.34 18.8205 1074.42 18.8205 L1064.13 18.8205 Z\" fill=\"#000000\" fill-rule=\"evenodd\" fill-opacity=\"1\" /><path clip-path=\"url(#clip680)\" d=\"M1138.14 17.6457 Q1129.23 17.6457 1123.97 24.2892 Q1118.74 30.9327 1118.74 42.3968 Q1118.74 53.8203 1123.97 60.4638 Q1129.23 67.1073 1138.14 67.1073 Q1147.06 67.1073 1152.24 60.4638 Q1157.47 53.8203 1157.47 42.3968 Q1157.47 30.9327 1152.24 24.2892 Q1147.06 17.6457 1138.14 17.6457 M1138.14 11.0023 Q1150.86 11.0023 1158.48 19.5497 Q1166.1 28.0566 1166.1 42.3968 Q1166.1 56.6965 1158.48 65.2439 Q1150.86 73.7508 1138.14 73.7508 Q1125.38 73.7508 1117.73 65.2439 Q1110.11 56.737 1110.11 42.3968 Q1110.11 28.0566 1117.73 19.5497 Q1125.38 11.0023 1138.14 11.0023 Z\" fill=\"#000000\" fill-rule=\"evenodd\" fill-opacity=\"1\" /><path clip-path=\"url(#clip680)\" d=\"M1224.19 16.7545 L1224.19 25.383 Q1220.05 21.5346 1215.35 19.6307 Q1210.7 17.7268 1205.43 17.7268 Q1195.06 17.7268 1189.55 24.0867 Q1184.04 30.4061 1184.04 42.3968 Q1184.04 54.3469 1189.55 60.7069 Q1195.06 67.0263 1205.43 67.0263 Q1210.7 67.0263 1215.35 65.1223 Q1220.05 63.2184 1224.19 59.3701 L1224.19 67.9175 Q1219.89 70.8341 1215.07 72.2924 Q1210.29 73.7508 1204.94 73.7508 Q1191.21 73.7508 1183.31 65.3654 Q1175.41 56.9395 1175.41 42.3968 Q1175.41 27.8135 1183.31 19.4281 Q1191.21 11.0023 1204.94 11.0023 Q1210.37 11.0023 1215.15 12.4606 Q1219.97 13.8784 1224.19 16.7545 Z\" fill=\"#000000\" fill-rule=\"evenodd\" fill-opacity=\"1\" /><path clip-path=\"url(#clip680)\" d=\"M1295.52 28.9478 L1295.52 35.9153 Q1292.36 34.1734 1289.16 33.3227 Q1286 32.4315 1282.76 32.4315 Q1275.51 32.4315 1271.5 37.0496 Q1267.49 41.6271 1267.49 49.9314 Q1267.49 58.2358 1271.5 62.8538 Q1275.51 67.4314 1282.76 67.4314 Q1286 67.4314 1289.16 66.5807 Q1292.36 65.6895 1295.52 63.9476 L1295.52 70.8341 Q1292.4 72.2924 1289.04 73.0216 Q1285.72 73.7508 1281.95 73.7508 Q1271.7 73.7508 1265.67 67.3098 Q1259.63 60.8689 1259.63 49.9314 Q1259.63 38.832 1265.71 32.472 Q1271.82 26.1121 1282.44 26.1121 Q1285.88 26.1121 1289.16 26.8413 Q1292.44 27.5299 1295.52 28.9478 Z\" fill=\"#000000\" fill-rule=\"evenodd\" fill-opacity=\"1\" /><path clip-path=\"url(#clip680)\" d=\"M1307.71 54.671 L1307.71 27.2059 L1315.17 27.2059 L1315.17 54.3874 Q1315.17 60.8284 1317.68 64.0691 Q1320.19 67.2693 1325.21 67.2693 Q1331.25 67.2693 1334.73 63.421 Q1338.26 59.5726 1338.26 52.9291 L1338.26 27.2059 L1345.71 27.2059 L1345.71 72.576 L1338.26 72.576 L1338.26 65.6084 Q1335.54 69.7404 1331.94 71.7658 Q1328.37 73.7508 1323.64 73.7508 Q1315.82 73.7508 1311.77 68.8897 Q1307.71 64.0286 1307.71 54.671 M1326.47 26.1121 L1326.47 26.1121 Z\" fill=\"#000000\" fill-rule=\"evenodd\" fill-opacity=\"1\" /><path clip-path=\"url(#clip680)\" d=\"M1387.36 34.1734 Q1386.1 33.4443 1384.6 33.1202 Q1383.14 32.7556 1381.36 32.7556 Q1375.04 32.7556 1371.64 36.8875 Q1368.28 40.9789 1368.28 48.6757 L1368.28 72.576 L1360.78 72.576 L1360.78 27.2059 L1368.28 27.2059 L1368.28 34.2544 Q1370.63 30.1225 1374.39 28.1376 Q1378.16 26.1121 1383.55 26.1121 Q1384.32 26.1121 1385.25 26.2337 Q1386.18 26.3147 1387.32 26.5172 L1387.36 34.1734 Z\" fill=\"#000000\" fill-rule=\"evenodd\" fill-opacity=\"1\" /><path clip-path=\"url(#clip680)\" d=\"M1389.83 27.2059 L1397.73 27.2059 L1411.9 65.2844 L1426.08 27.2059 L1433.98 27.2059 L1416.97 72.576 L1406.84 72.576 L1389.83 27.2059 Z\" fill=\"#000000\" fill-rule=\"evenodd\" fill-opacity=\"1\" /><path clip-path=\"url(#clip680)\" d=\"M1483.08 48.0275 L1483.08 51.6733 L1448.81 51.6733 Q1449.29 59.3701 1453.43 63.421 Q1457.6 67.4314 1465.01 67.4314 Q1469.31 67.4314 1473.32 66.3781 Q1477.37 65.3249 1481.34 63.2184 L1481.34 70.267 Q1477.33 71.9684 1473.11 72.8596 Q1468.9 73.7508 1464.57 73.7508 Q1453.71 73.7508 1447.35 67.4314 Q1441.03 61.1119 1441.03 50.3365 Q1441.03 39.1965 1447.03 32.6746 Q1453.06 26.1121 1463.27 26.1121 Q1472.42 26.1121 1477.73 32.0264 Q1483.08 37.9003 1483.08 48.0275 M1475.62 45.84 Q1475.54 39.7232 1472.18 36.0774 Q1468.86 32.4315 1463.35 32.4315 Q1457.11 32.4315 1453.34 35.9558 Q1449.62 39.4801 1449.05 45.8805 L1475.62 45.84 Z\" fill=\"#000000\" fill-rule=\"evenodd\" fill-opacity=\"1\" /><polyline clip-path=\"url(#clip682)\" style=\"stroke:#009af9; stroke-linecap:butt; stroke-linejoin:round; stroke-width:4; stroke-opacity:1; fill:none\" points=\"\n",
       "  247.59,1447.87 609.791,445.931 2291.44,162.047 \n",
       "  \"/>\n",
       "<path clip-path=\"url(#clip680)\" d=\"\n",
       "M1987.39 272.585 L2280.54 272.585 L2280.54 168.905 L1987.39 168.905  Z\n",
       "  \" fill=\"#ffffff\" fill-rule=\"evenodd\" fill-opacity=\"1\"/>\n",
       "<polyline clip-path=\"url(#clip680)\" style=\"stroke:#000000; stroke-linecap:butt; stroke-linejoin:round; stroke-width:4; stroke-opacity:1; fill:none\" points=\"\n",
       "  1987.39,272.585 2280.54,272.585 2280.54,168.905 1987.39,168.905 1987.39,272.585 \n",
       "  \"/>\n",
       "<polyline clip-path=\"url(#clip680)\" style=\"stroke:#009af9; stroke-linecap:butt; stroke-linejoin:round; stroke-width:4; stroke-opacity:1; fill:none\" points=\"\n",
       "  2011.46,220.745 2155.89,220.745 \n",
       "  \"/>\n",
       "<path clip-path=\"url(#clip680)\" d=\"M2193.81 240.432 Q2192 245.062 2190.29 246.474 Q2188.58 247.886 2185.71 247.886 L2182.3 247.886 L2182.3 244.321 L2184.8 244.321 Q2186.56 244.321 2187.53 243.488 Q2188.51 242.654 2189.69 239.552 L2190.45 237.608 L2179.97 212.099 L2184.48 212.099 L2192.58 232.377 L2200.68 212.099 L2205.2 212.099 L2193.81 240.432 Z\" fill=\"#000000\" fill-rule=\"evenodd\" fill-opacity=\"1\" /><path clip-path=\"url(#clip680)\" d=\"M2212.49 234.089 L2220.13 234.089 L2220.13 207.724 L2211.82 209.391 L2211.82 205.131 L2220.08 203.465 L2224.76 203.465 L2224.76 234.089 L2232.4 234.089 L2232.4 238.025 L2212.49 238.025 L2212.49 234.089 Z\" fill=\"#000000\" fill-rule=\"evenodd\" fill-opacity=\"1\" /></svg>\n"
      ]
     },
     "execution_count": 33,
     "metadata": {},
     "output_type": "execute_result"
    }
   ],
   "source": [
    "fpr, tpr, thresholds = sklearn.roc_curve(prediccion.Real, prediccion.Prediccion)\n",
    "plot(fpr, tpr)\n",
    "title!(\"ROC curve\")"
   ]
  },
  {
   "cell_type": "code",
   "execution_count": 34,
   "id": "967abcb2",
   "metadata": {},
   "outputs": [
    {
     "name": "stdout",
     "output_type": "stream",
     "text": [
      "AUC: 80.10%\n",
      "Accuracy: 80.13%\n"
     ]
    }
   ],
   "source": [
    "@printf \"AUC: %.2f%%\\n\" auc * 100\n",
    "@printf \"Accuracy: %.2f%%\\n\" mean(pred .== y_test) * 100"
   ]
  },
  {
   "cell_type": "markdown",
   "id": "e7ef0db6",
   "metadata": {},
   "source": [
    "### Árbol de decisión"
   ]
  },
  {
   "cell_type": "markdown",
   "id": "337c1f97",
   "metadata": {},
   "source": [
    "El árbol de decisión realiza particiones recursivas determinando un punto de corte para cada variable que evalúa hasta alcanzar un nivel de profundidad del árbol. En este caso, se realizarán máximo 15 particiones. "
   ]
  },
  {
   "cell_type": "code",
   "execution_count": 35,
   "id": "d2080918",
   "metadata": {},
   "outputs": [],
   "source": [
    "x_train = Array(train[:, 1:60]);\n",
    "x_test = Array(test[:, 1:60]);"
   ]
  },
  {
   "cell_type": "code",
   "execution_count": 36,
   "id": "4769a818",
   "metadata": {},
   "outputs": [
    {
     "data": {
      "text/plain": [
       "DecisionTreeClassifier\n",
       "max_depth:                15\n",
       "min_samples_leaf:         1\n",
       "min_samples_split:        2\n",
       "min_purity_increase:      0.0\n",
       "pruning_purity_threshold: 1.0\n",
       "n_subfeatures:            0\n",
       "classes:                  [\"M\", \"R\"]\n",
       "root:                     Decision Tree\n",
       "Leaves: 20\n",
       "Depth:  8"
      ]
     },
     "execution_count": 36,
     "metadata": {},
     "output_type": "execute_result"
    }
   ],
   "source": [
    "model = DecisionTreeClassifier(max_depth=15)\n",
    "DecisionTree.fit!(model, x_train, y_train)"
   ]
  },
  {
   "cell_type": "code",
   "execution_count": 37,
   "id": "9c1cac2f",
   "metadata": {
    "scrolled": true
   },
   "outputs": [],
   "source": [
    "pred = DecisionTree.predict(model, x_test);"
   ]
  },
  {
   "cell_type": "code",
   "execution_count": 38,
   "id": "d615f5ba",
   "metadata": {},
   "outputs": [],
   "source": [
    "prediccion = [Int.(test[:, 61]) [if y == \"R\" 1 else 0 end for y in pred]]\n",
    "prediccion = DataFrame(prediccion, [:Real, :Prediccion]);"
   ]
  },
  {
   "cell_type": "code",
   "execution_count": 39,
   "id": "2102aff0",
   "metadata": {
    "scrolled": true
   },
   "outputs": [
    {
     "data": {
      "text/plain": [
       "ROCNums{Int64}\n",
       "  p = 77\n",
       "  n = 79\n",
       "  tp = 71\n",
       "  tn = 76\n",
       "  fp = 3\n",
       "  fn = 6\n"
      ]
     },
     "execution_count": 39,
     "metadata": {},
     "output_type": "execute_result"
    }
   ],
   "source": [
    "cm = MLBase.roc(prediccion.Real, prediccion.Prediccion)"
   ]
  },
  {
   "cell_type": "code",
   "execution_count": 40,
   "id": "26f140c4",
   "metadata": {},
   "outputs": [],
   "source": [
    "sens = 71/(71+6);\n",
    "espe = 76/(76+3);\n",
    "auc = (sens + espe)/2;"
   ]
  },
  {
   "cell_type": "code",
   "execution_count": 41,
   "id": "ab756f30",
   "metadata": {
    "scrolled": false
   },
   "outputs": [
    {
     "data": {
      "image/svg+xml": [
       "<?xml version=\"1.0\" encoding=\"utf-8\"?>\n",
       "<svg xmlns=\"http://www.w3.org/2000/svg\" xmlns:xlink=\"http://www.w3.org/1999/xlink\" width=\"600\" height=\"400\" viewBox=\"0 0 2400 1600\">\n",
       "<defs>\n",
       "  <clipPath id=\"clip720\">\n",
       "    <rect x=\"0\" y=\"0\" width=\"2400\" height=\"1600\"/>\n",
       "  </clipPath>\n",
       "</defs>\n",
       "<path clip-path=\"url(#clip720)\" d=\"\n",
       "M0 1600 L2400 1600 L2400 0 L0 0  Z\n",
       "  \" fill=\"#ffffff\" fill-rule=\"evenodd\" fill-opacity=\"1\"/>\n",
       "<defs>\n",
       "  <clipPath id=\"clip721\">\n",
       "    <rect x=\"480\" y=\"0\" width=\"1681\" height=\"1600\"/>\n",
       "  </clipPath>\n",
       "</defs>\n",
       "<path clip-path=\"url(#clip720)\" d=\"\n",
       "M186.274 1486.45 L2352.76 1486.45 L2352.76 123.472 L186.274 123.472  Z\n",
       "  \" fill=\"#ffffff\" fill-rule=\"evenodd\" fill-opacity=\"1\"/>\n",
       "<defs>\n",
       "  <clipPath id=\"clip722\">\n",
       "    <rect x=\"186\" y=\"123\" width=\"2167\" height=\"1364\"/>\n",
       "  </clipPath>\n",
       "</defs>\n",
       "<polyline clip-path=\"url(#clip722)\" style=\"stroke:#000000; stroke-linecap:butt; stroke-linejoin:round; stroke-width:2; stroke-opacity:0.1; fill:none\" points=\"\n",
       "  247.59,1486.45 247.59,123.472 \n",
       "  \"/>\n",
       "<polyline clip-path=\"url(#clip722)\" style=\"stroke:#000000; stroke-linecap:butt; stroke-linejoin:round; stroke-width:2; stroke-opacity:0.1; fill:none\" points=\"\n",
       "  758.552,1486.45 758.552,123.472 \n",
       "  \"/>\n",
       "<polyline clip-path=\"url(#clip722)\" style=\"stroke:#000000; stroke-linecap:butt; stroke-linejoin:round; stroke-width:2; stroke-opacity:0.1; fill:none\" points=\"\n",
       "  1269.51,1486.45 1269.51,123.472 \n",
       "  \"/>\n",
       "<polyline clip-path=\"url(#clip722)\" style=\"stroke:#000000; stroke-linecap:butt; stroke-linejoin:round; stroke-width:2; stroke-opacity:0.1; fill:none\" points=\"\n",
       "  1780.48,1486.45 1780.48,123.472 \n",
       "  \"/>\n",
       "<polyline clip-path=\"url(#clip722)\" style=\"stroke:#000000; stroke-linecap:butt; stroke-linejoin:round; stroke-width:2; stroke-opacity:0.1; fill:none\" points=\"\n",
       "  2291.44,1486.45 2291.44,123.472 \n",
       "  \"/>\n",
       "<polyline clip-path=\"url(#clip720)\" style=\"stroke:#000000; stroke-linecap:butt; stroke-linejoin:round; stroke-width:4; stroke-opacity:1; fill:none\" points=\"\n",
       "  186.274,1486.45 2352.76,1486.45 \n",
       "  \"/>\n",
       "<polyline clip-path=\"url(#clip720)\" style=\"stroke:#000000; stroke-linecap:butt; stroke-linejoin:round; stroke-width:4; stroke-opacity:1; fill:none\" points=\"\n",
       "  247.59,1486.45 247.59,1467.55 \n",
       "  \"/>\n",
       "<polyline clip-path=\"url(#clip720)\" style=\"stroke:#000000; stroke-linecap:butt; stroke-linejoin:round; stroke-width:4; stroke-opacity:1; fill:none\" points=\"\n",
       "  758.552,1486.45 758.552,1467.55 \n",
       "  \"/>\n",
       "<polyline clip-path=\"url(#clip720)\" style=\"stroke:#000000; stroke-linecap:butt; stroke-linejoin:round; stroke-width:4; stroke-opacity:1; fill:none\" points=\"\n",
       "  1269.51,1486.45 1269.51,1467.55 \n",
       "  \"/>\n",
       "<polyline clip-path=\"url(#clip720)\" style=\"stroke:#000000; stroke-linecap:butt; stroke-linejoin:round; stroke-width:4; stroke-opacity:1; fill:none\" points=\"\n",
       "  1780.48,1486.45 1780.48,1467.55 \n",
       "  \"/>\n",
       "<polyline clip-path=\"url(#clip720)\" style=\"stroke:#000000; stroke-linecap:butt; stroke-linejoin:round; stroke-width:4; stroke-opacity:1; fill:none\" points=\"\n",
       "  2291.44,1486.45 2291.44,1467.55 \n",
       "  \"/>\n",
       "<path clip-path=\"url(#clip720)\" d=\"M209.893 1517.37 Q206.282 1517.37 204.453 1520.93 Q202.648 1524.47 202.648 1531.6 Q202.648 1538.71 204.453 1542.27 Q206.282 1545.82 209.893 1545.82 Q213.527 1545.82 215.333 1542.27 Q217.161 1538.71 217.161 1531.6 Q217.161 1524.47 215.333 1520.93 Q213.527 1517.37 209.893 1517.37 M209.893 1513.66 Q215.703 1513.66 218.759 1518.27 Q221.837 1522.85 221.837 1531.6 Q221.837 1540.33 218.759 1544.94 Q215.703 1549.52 209.893 1549.52 Q204.083 1549.52 201.004 1544.94 Q197.949 1540.33 197.949 1531.6 Q197.949 1522.85 201.004 1518.27 Q204.083 1513.66 209.893 1513.66 Z\" fill=\"#000000\" fill-rule=\"evenodd\" fill-opacity=\"1\" /><path clip-path=\"url(#clip720)\" d=\"M230.055 1542.97 L234.939 1542.97 L234.939 1548.85 L230.055 1548.85 L230.055 1542.97 Z\" fill=\"#000000\" fill-rule=\"evenodd\" fill-opacity=\"1\" /><path clip-path=\"url(#clip720)\" d=\"M255.124 1517.37 Q251.513 1517.37 249.684 1520.93 Q247.879 1524.47 247.879 1531.6 Q247.879 1538.71 249.684 1542.27 Q251.513 1545.82 255.124 1545.82 Q258.758 1545.82 260.564 1542.27 Q262.393 1538.71 262.393 1531.6 Q262.393 1524.47 260.564 1520.93 Q258.758 1517.37 255.124 1517.37 M255.124 1513.66 Q260.934 1513.66 263.99 1518.27 Q267.069 1522.85 267.069 1531.6 Q267.069 1540.33 263.99 1544.94 Q260.934 1549.52 255.124 1549.52 Q249.314 1549.52 246.235 1544.94 Q243.18 1540.33 243.18 1531.6 Q243.18 1522.85 246.235 1518.27 Q249.314 1513.66 255.124 1513.66 Z\" fill=\"#000000\" fill-rule=\"evenodd\" fill-opacity=\"1\" /><path clip-path=\"url(#clip720)\" d=\"M285.286 1517.37 Q281.675 1517.37 279.846 1520.93 Q278.041 1524.47 278.041 1531.6 Q278.041 1538.71 279.846 1542.27 Q281.675 1545.82 285.286 1545.82 Q288.92 1545.82 290.726 1542.27 Q292.555 1538.71 292.555 1531.6 Q292.555 1524.47 290.726 1520.93 Q288.92 1517.37 285.286 1517.37 M285.286 1513.66 Q291.096 1513.66 294.152 1518.27 Q297.23 1522.85 297.23 1531.6 Q297.23 1540.33 294.152 1544.94 Q291.096 1549.52 285.286 1549.52 Q279.476 1549.52 276.397 1544.94 Q273.342 1540.33 273.342 1531.6 Q273.342 1522.85 276.397 1518.27 Q279.476 1513.66 285.286 1513.66 Z\" fill=\"#000000\" fill-rule=\"evenodd\" fill-opacity=\"1\" /><path clip-path=\"url(#clip720)\" d=\"M721.353 1517.37 Q717.742 1517.37 715.914 1520.93 Q714.108 1524.47 714.108 1531.6 Q714.108 1538.71 715.914 1542.27 Q717.742 1545.82 721.353 1545.82 Q724.988 1545.82 726.793 1542.27 Q728.622 1538.71 728.622 1531.6 Q728.622 1524.47 726.793 1520.93 Q724.988 1517.37 721.353 1517.37 M721.353 1513.66 Q727.164 1513.66 730.219 1518.27 Q733.298 1522.85 733.298 1531.6 Q733.298 1540.33 730.219 1544.94 Q727.164 1549.52 721.353 1549.52 Q715.543 1549.52 712.465 1544.94 Q709.409 1540.33 709.409 1531.6 Q709.409 1522.85 712.465 1518.27 Q715.543 1513.66 721.353 1513.66 Z\" fill=\"#000000\" fill-rule=\"evenodd\" fill-opacity=\"1\" /><path clip-path=\"url(#clip720)\" d=\"M741.515 1542.97 L746.4 1542.97 L746.4 1548.85 L741.515 1548.85 L741.515 1542.97 Z\" fill=\"#000000\" fill-rule=\"evenodd\" fill-opacity=\"1\" /><path clip-path=\"url(#clip720)\" d=\"M760.612 1544.91 L776.932 1544.91 L776.932 1548.85 L754.987 1548.85 L754.987 1544.91 Q757.649 1542.16 762.233 1537.53 Q766.839 1532.88 768.02 1531.53 Q770.265 1529.01 771.145 1527.27 Q772.048 1525.51 772.048 1523.82 Q772.048 1521.07 770.103 1519.33 Q768.182 1517.6 765.08 1517.6 Q762.881 1517.6 760.427 1518.36 Q757.997 1519.13 755.219 1520.68 L755.219 1515.95 Q758.043 1514.82 760.497 1514.24 Q762.95 1513.66 764.987 1513.66 Q770.358 1513.66 773.552 1516.35 Q776.747 1519.03 776.747 1523.52 Q776.747 1525.65 775.936 1527.57 Q775.149 1529.47 773.043 1532.07 Q772.464 1532.74 769.362 1535.95 Q766.261 1539.15 760.612 1544.91 Z\" fill=\"#000000\" fill-rule=\"evenodd\" fill-opacity=\"1\" /><path clip-path=\"url(#clip720)\" d=\"M786.793 1514.29 L805.149 1514.29 L805.149 1518.22 L791.075 1518.22 L791.075 1526.7 Q792.094 1526.35 793.112 1526.19 Q794.131 1526 795.149 1526 Q800.936 1526 804.316 1529.17 Q807.695 1532.34 807.695 1537.76 Q807.695 1543.34 804.223 1546.44 Q800.751 1549.52 794.432 1549.52 Q792.256 1549.52 789.987 1549.15 Q787.742 1548.78 785.335 1548.04 L785.335 1543.34 Q787.418 1544.47 789.64 1545.03 Q791.862 1545.58 794.339 1545.58 Q798.344 1545.58 800.682 1543.48 Q803.02 1541.37 803.02 1537.76 Q803.02 1534.15 800.682 1532.04 Q798.344 1529.94 794.339 1529.94 Q792.464 1529.94 790.589 1530.35 Q788.737 1530.77 786.793 1531.65 L786.793 1514.29 Z\" fill=\"#000000\" fill-rule=\"evenodd\" fill-opacity=\"1\" /><path clip-path=\"url(#clip720)\" d=\"M1231.82 1517.37 Q1228.21 1517.37 1226.38 1520.93 Q1224.57 1524.47 1224.57 1531.6 Q1224.57 1538.71 1226.38 1542.27 Q1228.21 1545.82 1231.82 1545.82 Q1235.45 1545.82 1237.26 1542.27 Q1239.09 1538.71 1239.09 1531.6 Q1239.09 1524.47 1237.26 1520.93 Q1235.45 1517.37 1231.82 1517.37 M1231.82 1513.66 Q1237.63 1513.66 1240.68 1518.27 Q1243.76 1522.85 1243.76 1531.6 Q1243.76 1540.33 1240.68 1544.94 Q1237.63 1549.52 1231.82 1549.52 Q1226.01 1549.52 1222.93 1544.94 Q1219.87 1540.33 1219.87 1531.6 Q1219.87 1522.85 1222.93 1518.27 Q1226.01 1513.66 1231.82 1513.66 Z\" fill=\"#000000\" fill-rule=\"evenodd\" fill-opacity=\"1\" /><path clip-path=\"url(#clip720)\" d=\"M1251.98 1542.97 L1256.86 1542.97 L1256.86 1548.85 L1251.98 1548.85 L1251.98 1542.97 Z\" fill=\"#000000\" fill-rule=\"evenodd\" fill-opacity=\"1\" /><path clip-path=\"url(#clip720)\" d=\"M1267.1 1514.29 L1285.45 1514.29 L1285.45 1518.22 L1271.38 1518.22 L1271.38 1526.7 Q1272.4 1526.35 1273.42 1526.19 Q1274.43 1526 1275.45 1526 Q1281.24 1526 1284.62 1529.17 Q1288 1532.34 1288 1537.76 Q1288 1543.34 1284.53 1546.44 Q1281.05 1549.52 1274.73 1549.52 Q1272.56 1549.52 1270.29 1549.15 Q1268.05 1548.78 1265.64 1548.04 L1265.64 1543.34 Q1267.72 1544.47 1269.94 1545.03 Q1272.17 1545.58 1274.64 1545.58 Q1278.65 1545.58 1280.98 1543.48 Q1283.32 1541.37 1283.32 1537.76 Q1283.32 1534.15 1280.98 1532.04 Q1278.65 1529.94 1274.64 1529.94 Q1272.77 1529.94 1270.89 1530.35 Q1269.04 1530.77 1267.1 1531.65 L1267.1 1514.29 Z\" fill=\"#000000\" fill-rule=\"evenodd\" fill-opacity=\"1\" /><path clip-path=\"url(#clip720)\" d=\"M1307.21 1517.37 Q1303.6 1517.37 1301.77 1520.93 Q1299.97 1524.47 1299.97 1531.6 Q1299.97 1538.71 1301.77 1542.27 Q1303.6 1545.82 1307.21 1545.82 Q1310.85 1545.82 1312.65 1542.27 Q1314.48 1538.71 1314.48 1531.6 Q1314.48 1524.47 1312.65 1520.93 Q1310.85 1517.37 1307.21 1517.37 M1307.21 1513.66 Q1313.02 1513.66 1316.08 1518.27 Q1319.16 1522.85 1319.16 1531.6 Q1319.16 1540.33 1316.08 1544.94 Q1313.02 1549.52 1307.21 1549.52 Q1301.4 1549.52 1298.32 1544.94 Q1295.27 1540.33 1295.27 1531.6 Q1295.27 1522.85 1298.32 1518.27 Q1301.4 1513.66 1307.21 1513.66 Z\" fill=\"#000000\" fill-rule=\"evenodd\" fill-opacity=\"1\" /><path clip-path=\"url(#clip720)\" d=\"M1743.28 1517.37 Q1739.67 1517.37 1737.84 1520.93 Q1736.03 1524.47 1736.03 1531.6 Q1736.03 1538.71 1737.84 1542.27 Q1739.67 1545.82 1743.28 1545.82 Q1746.91 1545.82 1748.72 1542.27 Q1750.55 1538.71 1750.55 1531.6 Q1750.55 1524.47 1748.72 1520.93 Q1746.91 1517.37 1743.28 1517.37 M1743.28 1513.66 Q1749.09 1513.66 1752.14 1518.27 Q1755.22 1522.85 1755.22 1531.6 Q1755.22 1540.33 1752.14 1544.94 Q1749.09 1549.52 1743.28 1549.52 Q1737.47 1549.52 1734.39 1544.94 Q1731.33 1540.33 1731.33 1531.6 Q1731.33 1522.85 1734.39 1518.27 Q1737.47 1513.66 1743.28 1513.66 Z\" fill=\"#000000\" fill-rule=\"evenodd\" fill-opacity=\"1\" /><path clip-path=\"url(#clip720)\" d=\"M1763.44 1542.97 L1768.32 1542.97 L1768.32 1548.85 L1763.44 1548.85 L1763.44 1542.97 Z\" fill=\"#000000\" fill-rule=\"evenodd\" fill-opacity=\"1\" /><path clip-path=\"url(#clip720)\" d=\"M1777.33 1514.29 L1799.55 1514.29 L1799.55 1516.28 L1787.01 1548.85 L1782.12 1548.85 L1793.93 1518.22 L1777.33 1518.22 L1777.33 1514.29 Z\" fill=\"#000000\" fill-rule=\"evenodd\" fill-opacity=\"1\" /><path clip-path=\"url(#clip720)\" d=\"M1808.72 1514.29 L1827.07 1514.29 L1827.07 1518.22 L1813 1518.22 L1813 1526.7 Q1814.02 1526.35 1815.04 1526.19 Q1816.06 1526 1817.07 1526 Q1822.86 1526 1826.24 1529.17 Q1829.62 1532.34 1829.62 1537.76 Q1829.62 1543.34 1826.15 1546.44 Q1822.68 1549.52 1816.36 1549.52 Q1814.18 1549.52 1811.91 1549.15 Q1809.67 1548.78 1807.26 1548.04 L1807.26 1543.34 Q1809.34 1544.47 1811.57 1545.03 Q1813.79 1545.58 1816.26 1545.58 Q1820.27 1545.58 1822.61 1543.48 Q1824.95 1541.37 1824.95 1537.76 Q1824.95 1534.15 1822.61 1532.04 Q1820.27 1529.94 1816.26 1529.94 Q1814.39 1529.94 1812.51 1530.35 Q1810.66 1530.77 1808.72 1531.65 L1808.72 1514.29 Z\" fill=\"#000000\" fill-rule=\"evenodd\" fill-opacity=\"1\" /><path clip-path=\"url(#clip720)\" d=\"M2243.51 1544.91 L2251.15 1544.91 L2251.15 1518.55 L2242.84 1520.21 L2242.84 1515.95 L2251.1 1514.29 L2255.78 1514.29 L2255.78 1544.91 L2263.42 1544.91 L2263.42 1548.85 L2243.51 1548.85 L2243.51 1544.91 Z\" fill=\"#000000\" fill-rule=\"evenodd\" fill-opacity=\"1\" /><path clip-path=\"url(#clip720)\" d=\"M2272.86 1542.97 L2277.75 1542.97 L2277.75 1548.85 L2272.86 1548.85 L2272.86 1542.97 Z\" fill=\"#000000\" fill-rule=\"evenodd\" fill-opacity=\"1\" /><path clip-path=\"url(#clip720)\" d=\"M2297.93 1517.37 Q2294.32 1517.37 2292.49 1520.93 Q2290.69 1524.47 2290.69 1531.6 Q2290.69 1538.71 2292.49 1542.27 Q2294.32 1545.82 2297.93 1545.82 Q2301.57 1545.82 2303.37 1542.27 Q2305.2 1538.71 2305.2 1531.6 Q2305.2 1524.47 2303.37 1520.93 Q2301.57 1517.37 2297.93 1517.37 M2297.93 1513.66 Q2303.74 1513.66 2306.8 1518.27 Q2309.88 1522.85 2309.88 1531.6 Q2309.88 1540.33 2306.8 1544.94 Q2303.74 1549.52 2297.93 1549.52 Q2292.12 1549.52 2289.04 1544.94 Q2285.99 1540.33 2285.99 1531.6 Q2285.99 1522.85 2289.04 1518.27 Q2292.12 1513.66 2297.93 1513.66 Z\" fill=\"#000000\" fill-rule=\"evenodd\" fill-opacity=\"1\" /><path clip-path=\"url(#clip720)\" d=\"M2328.1 1517.37 Q2324.48 1517.37 2322.66 1520.93 Q2320.85 1524.47 2320.85 1531.6 Q2320.85 1538.71 2322.66 1542.27 Q2324.48 1545.82 2328.1 1545.82 Q2331.73 1545.82 2333.54 1542.27 Q2335.36 1538.71 2335.36 1531.6 Q2335.36 1524.47 2333.54 1520.93 Q2331.73 1517.37 2328.1 1517.37 M2328.1 1513.66 Q2333.91 1513.66 2336.96 1518.27 Q2340.04 1522.85 2340.04 1531.6 Q2340.04 1540.33 2336.96 1544.94 Q2333.91 1549.52 2328.1 1549.52 Q2322.29 1549.52 2319.21 1544.94 Q2316.15 1540.33 2316.15 1531.6 Q2316.15 1522.85 2319.21 1518.27 Q2322.29 1513.66 2328.1 1513.66 Z\" fill=\"#000000\" fill-rule=\"evenodd\" fill-opacity=\"1\" /><polyline clip-path=\"url(#clip722)\" style=\"stroke:#000000; stroke-linecap:butt; stroke-linejoin:round; stroke-width:2; stroke-opacity:0.1; fill:none\" points=\"\n",
       "  186.274,1447.87 2352.76,1447.87 \n",
       "  \"/>\n",
       "<polyline clip-path=\"url(#clip722)\" style=\"stroke:#000000; stroke-linecap:butt; stroke-linejoin:round; stroke-width:2; stroke-opacity:0.1; fill:none\" points=\"\n",
       "  186.274,1126.42 2352.76,1126.42 \n",
       "  \"/>\n",
       "<polyline clip-path=\"url(#clip722)\" style=\"stroke:#000000; stroke-linecap:butt; stroke-linejoin:round; stroke-width:2; stroke-opacity:0.1; fill:none\" points=\"\n",
       "  186.274,804.96 2352.76,804.96 \n",
       "  \"/>\n",
       "<polyline clip-path=\"url(#clip722)\" style=\"stroke:#000000; stroke-linecap:butt; stroke-linejoin:round; stroke-width:2; stroke-opacity:0.1; fill:none\" points=\"\n",
       "  186.274,483.503 2352.76,483.503 \n",
       "  \"/>\n",
       "<polyline clip-path=\"url(#clip722)\" style=\"stroke:#000000; stroke-linecap:butt; stroke-linejoin:round; stroke-width:2; stroke-opacity:0.1; fill:none\" points=\"\n",
       "  186.274,162.047 2352.76,162.047 \n",
       "  \"/>\n",
       "<polyline clip-path=\"url(#clip720)\" style=\"stroke:#000000; stroke-linecap:butt; stroke-linejoin:round; stroke-width:4; stroke-opacity:1; fill:none\" points=\"\n",
       "  186.274,1486.45 186.274,123.472 \n",
       "  \"/>\n",
       "<polyline clip-path=\"url(#clip720)\" style=\"stroke:#000000; stroke-linecap:butt; stroke-linejoin:round; stroke-width:4; stroke-opacity:1; fill:none\" points=\"\n",
       "  186.274,1447.87 205.172,1447.87 \n",
       "  \"/>\n",
       "<polyline clip-path=\"url(#clip720)\" style=\"stroke:#000000; stroke-linecap:butt; stroke-linejoin:round; stroke-width:4; stroke-opacity:1; fill:none\" points=\"\n",
       "  186.274,1126.42 205.172,1126.42 \n",
       "  \"/>\n",
       "<polyline clip-path=\"url(#clip720)\" style=\"stroke:#000000; stroke-linecap:butt; stroke-linejoin:round; stroke-width:4; stroke-opacity:1; fill:none\" points=\"\n",
       "  186.274,804.96 205.172,804.96 \n",
       "  \"/>\n",
       "<polyline clip-path=\"url(#clip720)\" style=\"stroke:#000000; stroke-linecap:butt; stroke-linejoin:round; stroke-width:4; stroke-opacity:1; fill:none\" points=\"\n",
       "  186.274,483.503 205.172,483.503 \n",
       "  \"/>\n",
       "<polyline clip-path=\"url(#clip720)\" style=\"stroke:#000000; stroke-linecap:butt; stroke-linejoin:round; stroke-width:4; stroke-opacity:1; fill:none\" points=\"\n",
       "  186.274,162.047 205.172,162.047 \n",
       "  \"/>\n",
       "<path clip-path=\"url(#clip720)\" d=\"M62.9365 1433.67 Q59.3254 1433.67 57.4967 1437.24 Q55.6912 1440.78 55.6912 1447.91 Q55.6912 1455.01 57.4967 1458.58 Q59.3254 1462.12 62.9365 1462.12 Q66.5707 1462.12 68.3763 1458.58 Q70.205 1455.01 70.205 1447.91 Q70.205 1440.78 68.3763 1437.24 Q66.5707 1433.67 62.9365 1433.67 M62.9365 1429.97 Q68.7467 1429.97 71.8022 1434.57 Q74.8809 1439.16 74.8809 1447.91 Q74.8809 1456.63 71.8022 1461.24 Q68.7467 1465.82 62.9365 1465.82 Q57.1264 1465.82 54.0477 1461.24 Q50.9921 1456.63 50.9921 1447.91 Q50.9921 1439.16 54.0477 1434.57 Q57.1264 1429.97 62.9365 1429.97 Z\" fill=\"#000000\" fill-rule=\"evenodd\" fill-opacity=\"1\" /><path clip-path=\"url(#clip720)\" d=\"M83.0984 1459.27 L87.9827 1459.27 L87.9827 1465.15 L83.0984 1465.15 L83.0984 1459.27 Z\" fill=\"#000000\" fill-rule=\"evenodd\" fill-opacity=\"1\" /><path clip-path=\"url(#clip720)\" d=\"M108.168 1433.67 Q104.557 1433.67 102.728 1437.24 Q100.922 1440.78 100.922 1447.91 Q100.922 1455.01 102.728 1458.58 Q104.557 1462.12 108.168 1462.12 Q111.802 1462.12 113.608 1458.58 Q115.436 1455.01 115.436 1447.91 Q115.436 1440.78 113.608 1437.24 Q111.802 1433.67 108.168 1433.67 M108.168 1429.97 Q113.978 1429.97 117.033 1434.57 Q120.112 1439.16 120.112 1447.91 Q120.112 1456.63 117.033 1461.24 Q113.978 1465.82 108.168 1465.82 Q102.358 1465.82 99.2789 1461.24 Q96.2234 1456.63 96.2234 1447.91 Q96.2234 1439.16 99.2789 1434.57 Q102.358 1429.97 108.168 1429.97 Z\" fill=\"#000000\" fill-rule=\"evenodd\" fill-opacity=\"1\" /><path clip-path=\"url(#clip720)\" d=\"M138.33 1433.67 Q134.719 1433.67 132.89 1437.24 Q131.084 1440.78 131.084 1447.91 Q131.084 1455.01 132.89 1458.58 Q134.719 1462.12 138.33 1462.12 Q141.964 1462.12 143.769 1458.58 Q145.598 1455.01 145.598 1447.91 Q145.598 1440.78 143.769 1437.24 Q141.964 1433.67 138.33 1433.67 M138.33 1429.97 Q144.14 1429.97 147.195 1434.57 Q150.274 1439.16 150.274 1447.91 Q150.274 1456.63 147.195 1461.24 Q144.14 1465.82 138.33 1465.82 Q132.519 1465.82 129.441 1461.24 Q126.385 1456.63 126.385 1447.91 Q126.385 1439.16 129.441 1434.57 Q132.519 1429.97 138.33 1429.97 Z\" fill=\"#000000\" fill-rule=\"evenodd\" fill-opacity=\"1\" /><path clip-path=\"url(#clip720)\" d=\"M63.9319 1112.22 Q60.3208 1112.22 58.4921 1115.78 Q56.6865 1119.32 56.6865 1126.45 Q56.6865 1133.56 58.4921 1137.12 Q60.3208 1140.66 63.9319 1140.66 Q67.5661 1140.66 69.3717 1137.12 Q71.2004 1133.56 71.2004 1126.45 Q71.2004 1119.32 69.3717 1115.78 Q67.5661 1112.22 63.9319 1112.22 M63.9319 1108.51 Q69.742 1108.51 72.7976 1113.12 Q75.8763 1117.7 75.8763 1126.45 Q75.8763 1135.18 72.7976 1139.78 Q69.742 1144.37 63.9319 1144.37 Q58.1217 1144.37 55.043 1139.78 Q51.9875 1135.18 51.9875 1126.45 Q51.9875 1117.7 55.043 1113.12 Q58.1217 1108.51 63.9319 1108.51 Z\" fill=\"#000000\" fill-rule=\"evenodd\" fill-opacity=\"1\" /><path clip-path=\"url(#clip720)\" d=\"M84.0938 1137.82 L88.978 1137.82 L88.978 1143.7 L84.0938 1143.7 L84.0938 1137.82 Z\" fill=\"#000000\" fill-rule=\"evenodd\" fill-opacity=\"1\" /><path clip-path=\"url(#clip720)\" d=\"M103.191 1139.76 L119.51 1139.76 L119.51 1143.7 L97.566 1143.7 L97.566 1139.76 Q100.228 1137.01 104.811 1132.38 Q109.418 1127.72 110.598 1126.38 Q112.844 1123.86 113.723 1122.12 Q114.626 1120.36 114.626 1118.67 Q114.626 1115.92 112.682 1114.18 Q110.76 1112.45 107.658 1112.45 Q105.459 1112.45 103.006 1113.21 Q100.575 1113.97 97.7974 1115.53 L97.7974 1110.8 Q100.621 1109.67 103.075 1109.09 Q105.529 1108.51 107.566 1108.51 Q112.936 1108.51 116.131 1111.2 Q119.325 1113.88 119.325 1118.37 Q119.325 1120.5 118.515 1122.42 Q117.728 1124.32 115.621 1126.91 Q115.043 1127.59 111.941 1130.8 Q108.839 1134 103.191 1139.76 Z\" fill=\"#000000\" fill-rule=\"evenodd\" fill-opacity=\"1\" /><path clip-path=\"url(#clip720)\" d=\"M129.371 1109.14 L147.728 1109.14 L147.728 1113.07 L133.654 1113.07 L133.654 1121.54 Q134.672 1121.2 135.691 1121.03 Q136.709 1120.85 137.728 1120.85 Q143.515 1120.85 146.894 1124.02 Q150.274 1127.19 150.274 1132.61 Q150.274 1138.19 146.802 1141.29 Q143.33 1144.37 137.01 1144.37 Q134.834 1144.37 132.566 1144 Q130.32 1143.63 127.913 1142.89 L127.913 1138.19 Q129.996 1139.32 132.219 1139.88 Q134.441 1140.43 136.918 1140.43 Q140.922 1140.43 143.26 1138.33 Q145.598 1136.22 145.598 1132.61 Q145.598 1129 143.26 1126.89 Q140.922 1124.78 136.918 1124.78 Q135.043 1124.78 133.168 1125.2 Q131.316 1125.62 129.371 1126.5 L129.371 1109.14 Z\" fill=\"#000000\" fill-rule=\"evenodd\" fill-opacity=\"1\" /><path clip-path=\"url(#clip720)\" d=\"M62.9365 790.759 Q59.3254 790.759 57.4967 794.323 Q55.6912 797.865 55.6912 804.995 Q55.6912 812.101 57.4967 815.666 Q59.3254 819.208 62.9365 819.208 Q66.5707 819.208 68.3763 815.666 Q70.205 812.101 70.205 804.995 Q70.205 797.865 68.3763 794.323 Q66.5707 790.759 62.9365 790.759 M62.9365 787.055 Q68.7467 787.055 71.8022 791.661 Q74.8809 796.245 74.8809 804.995 Q74.8809 813.722 71.8022 818.328 Q68.7467 822.911 62.9365 822.911 Q57.1264 822.911 54.0477 818.328 Q50.9921 813.722 50.9921 804.995 Q50.9921 796.245 54.0477 791.661 Q57.1264 787.055 62.9365 787.055 Z\" fill=\"#000000\" fill-rule=\"evenodd\" fill-opacity=\"1\" /><path clip-path=\"url(#clip720)\" d=\"M83.0984 816.36 L87.9827 816.36 L87.9827 822.24 L83.0984 822.24 L83.0984 816.36 Z\" fill=\"#000000\" fill-rule=\"evenodd\" fill-opacity=\"1\" /><path clip-path=\"url(#clip720)\" d=\"M98.2141 787.68 L116.57 787.68 L116.57 791.615 L102.496 791.615 L102.496 800.087 Q103.515 799.74 104.534 799.578 Q105.552 799.393 106.571 799.393 Q112.358 799.393 115.737 802.564 Q119.117 805.735 119.117 811.152 Q119.117 816.731 115.645 819.833 Q112.172 822.911 105.853 822.911 Q103.677 822.911 101.409 822.541 Q99.1632 822.171 96.7558 821.43 L96.7558 816.731 Q98.8391 817.865 101.061 818.421 Q103.284 818.976 105.76 818.976 Q109.765 818.976 112.103 816.87 Q114.441 814.763 114.441 811.152 Q114.441 807.541 112.103 805.435 Q109.765 803.328 105.76 803.328 Q103.885 803.328 102.01 803.745 Q100.159 804.161 98.2141 805.041 L98.2141 787.68 Z\" fill=\"#000000\" fill-rule=\"evenodd\" fill-opacity=\"1\" /><path clip-path=\"url(#clip720)\" d=\"M138.33 790.759 Q134.719 790.759 132.89 794.323 Q131.084 797.865 131.084 804.995 Q131.084 812.101 132.89 815.666 Q134.719 819.208 138.33 819.208 Q141.964 819.208 143.769 815.666 Q145.598 812.101 145.598 804.995 Q145.598 797.865 143.769 794.323 Q141.964 790.759 138.33 790.759 M138.33 787.055 Q144.14 787.055 147.195 791.661 Q150.274 796.245 150.274 804.995 Q150.274 813.722 147.195 818.328 Q144.14 822.911 138.33 822.911 Q132.519 822.911 129.441 818.328 Q126.385 813.722 126.385 804.995 Q126.385 796.245 129.441 791.661 Q132.519 787.055 138.33 787.055 Z\" fill=\"#000000\" fill-rule=\"evenodd\" fill-opacity=\"1\" /><path clip-path=\"url(#clip720)\" d=\"M63.9319 469.302 Q60.3208 469.302 58.4921 472.867 Q56.6865 476.409 56.6865 483.538 Q56.6865 490.645 58.4921 494.209 Q60.3208 497.751 63.9319 497.751 Q67.5661 497.751 69.3717 494.209 Q71.2004 490.645 71.2004 483.538 Q71.2004 476.409 69.3717 472.867 Q67.5661 469.302 63.9319 469.302 M63.9319 465.598 Q69.742 465.598 72.7976 470.205 Q75.8763 474.788 75.8763 483.538 Q75.8763 492.265 72.7976 496.871 Q69.742 501.455 63.9319 501.455 Q58.1217 501.455 55.043 496.871 Q51.9875 492.265 51.9875 483.538 Q51.9875 474.788 55.043 470.205 Q58.1217 465.598 63.9319 465.598 Z\" fill=\"#000000\" fill-rule=\"evenodd\" fill-opacity=\"1\" /><path clip-path=\"url(#clip720)\" d=\"M84.0938 494.904 L88.978 494.904 L88.978 500.783 L84.0938 500.783 L84.0938 494.904 Z\" fill=\"#000000\" fill-rule=\"evenodd\" fill-opacity=\"1\" /><path clip-path=\"url(#clip720)\" d=\"M97.9826 466.223 L120.205 466.223 L120.205 468.214 L107.658 500.783 L102.774 500.783 L114.58 470.159 L97.9826 470.159 L97.9826 466.223 Z\" fill=\"#000000\" fill-rule=\"evenodd\" fill-opacity=\"1\" /><path clip-path=\"url(#clip720)\" d=\"M129.371 466.223 L147.728 466.223 L147.728 470.159 L133.654 470.159 L133.654 478.631 Q134.672 478.284 135.691 478.122 Q136.709 477.936 137.728 477.936 Q143.515 477.936 146.894 481.108 Q150.274 484.279 150.274 489.696 Q150.274 495.274 146.802 498.376 Q143.33 501.455 137.01 501.455 Q134.834 501.455 132.566 501.084 Q130.32 500.714 127.913 499.973 L127.913 495.274 Q129.996 496.408 132.219 496.964 Q134.441 497.52 136.918 497.52 Q140.922 497.52 143.26 495.413 Q145.598 493.307 145.598 489.696 Q145.598 486.084 143.26 483.978 Q140.922 481.872 136.918 481.872 Q135.043 481.872 133.168 482.288 Q131.316 482.705 129.371 483.584 L129.371 466.223 Z\" fill=\"#000000\" fill-rule=\"evenodd\" fill-opacity=\"1\" /><path clip-path=\"url(#clip720)\" d=\"M53.7467 175.392 L61.3856 175.392 L61.3856 149.026 L53.0754 150.693 L53.0754 146.434 L61.3393 144.767 L66.0152 144.767 L66.0152 175.392 L73.654 175.392 L73.654 179.327 L53.7467 179.327 L53.7467 175.392 Z\" fill=\"#000000\" fill-rule=\"evenodd\" fill-opacity=\"1\" /><path clip-path=\"url(#clip720)\" d=\"M83.0984 173.447 L87.9827 173.447 L87.9827 179.327 L83.0984 179.327 L83.0984 173.447 Z\" fill=\"#000000\" fill-rule=\"evenodd\" fill-opacity=\"1\" /><path clip-path=\"url(#clip720)\" d=\"M108.168 147.846 Q104.557 147.846 102.728 151.41 Q100.922 154.952 100.922 162.082 Q100.922 169.188 102.728 172.753 Q104.557 176.295 108.168 176.295 Q111.802 176.295 113.608 172.753 Q115.436 169.188 115.436 162.082 Q115.436 154.952 113.608 151.41 Q111.802 147.846 108.168 147.846 M108.168 144.142 Q113.978 144.142 117.033 148.748 Q120.112 153.332 120.112 162.082 Q120.112 170.808 117.033 175.415 Q113.978 179.998 108.168 179.998 Q102.358 179.998 99.2789 175.415 Q96.2234 170.808 96.2234 162.082 Q96.2234 153.332 99.2789 148.748 Q102.358 144.142 108.168 144.142 Z\" fill=\"#000000\" fill-rule=\"evenodd\" fill-opacity=\"1\" /><path clip-path=\"url(#clip720)\" d=\"M138.33 147.846 Q134.719 147.846 132.89 151.41 Q131.084 154.952 131.084 162.082 Q131.084 169.188 132.89 172.753 Q134.719 176.295 138.33 176.295 Q141.964 176.295 143.769 172.753 Q145.598 169.188 145.598 162.082 Q145.598 154.952 143.769 151.41 Q141.964 147.846 138.33 147.846 M138.33 144.142 Q144.14 144.142 147.195 148.748 Q150.274 153.332 150.274 162.082 Q150.274 170.808 147.195 175.415 Q144.14 179.998 138.33 179.998 Q132.519 179.998 129.441 175.415 Q126.385 170.808 126.385 162.082 Q126.385 153.332 129.441 148.748 Q132.519 144.142 138.33 144.142 Z\" fill=\"#000000\" fill-rule=\"evenodd\" fill-opacity=\"1\" /><path clip-path=\"url(#clip720)\" d=\"M1084.63 44.2197 Q1087.26 45.1109 1089.74 48.0275 Q1092.25 50.9442 1094.76 56.0483 L1103.06 72.576 L1094.27 72.576 L1086.54 57.061 Q1083.54 50.9847 1080.7 48.9997 Q1077.91 47.0148 1073.05 47.0148 L1064.13 47.0148 L1064.13 72.576 L1055.95 72.576 L1055.95 12.096 L1074.42 12.096 Q1084.79 12.096 1089.9 16.4305 Q1095 20.7649 1095 29.5149 Q1095 35.2267 1092.33 38.994 Q1089.7 42.7613 1084.63 44.2197 M1064.13 18.8205 L1064.13 40.2903 L1074.42 40.2903 Q1080.34 40.2903 1083.34 37.5762 Q1086.37 34.8216 1086.37 29.5149 Q1086.37 24.2082 1083.34 21.5346 Q1080.34 18.8205 1074.42 18.8205 L1064.13 18.8205 Z\" fill=\"#000000\" fill-rule=\"evenodd\" fill-opacity=\"1\" /><path clip-path=\"url(#clip720)\" d=\"M1138.14 17.6457 Q1129.23 17.6457 1123.97 24.2892 Q1118.74 30.9327 1118.74 42.3968 Q1118.74 53.8203 1123.97 60.4638 Q1129.23 67.1073 1138.14 67.1073 Q1147.06 67.1073 1152.24 60.4638 Q1157.47 53.8203 1157.47 42.3968 Q1157.47 30.9327 1152.24 24.2892 Q1147.06 17.6457 1138.14 17.6457 M1138.14 11.0023 Q1150.86 11.0023 1158.48 19.5497 Q1166.1 28.0566 1166.1 42.3968 Q1166.1 56.6965 1158.48 65.2439 Q1150.86 73.7508 1138.14 73.7508 Q1125.38 73.7508 1117.73 65.2439 Q1110.11 56.737 1110.11 42.3968 Q1110.11 28.0566 1117.73 19.5497 Q1125.38 11.0023 1138.14 11.0023 Z\" fill=\"#000000\" fill-rule=\"evenodd\" fill-opacity=\"1\" /><path clip-path=\"url(#clip720)\" d=\"M1224.19 16.7545 L1224.19 25.383 Q1220.05 21.5346 1215.35 19.6307 Q1210.7 17.7268 1205.43 17.7268 Q1195.06 17.7268 1189.55 24.0867 Q1184.04 30.4061 1184.04 42.3968 Q1184.04 54.3469 1189.55 60.7069 Q1195.06 67.0263 1205.43 67.0263 Q1210.7 67.0263 1215.35 65.1223 Q1220.05 63.2184 1224.19 59.3701 L1224.19 67.9175 Q1219.89 70.8341 1215.07 72.2924 Q1210.29 73.7508 1204.94 73.7508 Q1191.21 73.7508 1183.31 65.3654 Q1175.41 56.9395 1175.41 42.3968 Q1175.41 27.8135 1183.31 19.4281 Q1191.21 11.0023 1204.94 11.0023 Q1210.37 11.0023 1215.15 12.4606 Q1219.97 13.8784 1224.19 16.7545 Z\" fill=\"#000000\" fill-rule=\"evenodd\" fill-opacity=\"1\" /><path clip-path=\"url(#clip720)\" d=\"M1295.52 28.9478 L1295.52 35.9153 Q1292.36 34.1734 1289.16 33.3227 Q1286 32.4315 1282.76 32.4315 Q1275.51 32.4315 1271.5 37.0496 Q1267.49 41.6271 1267.49 49.9314 Q1267.49 58.2358 1271.5 62.8538 Q1275.51 67.4314 1282.76 67.4314 Q1286 67.4314 1289.16 66.5807 Q1292.36 65.6895 1295.52 63.9476 L1295.52 70.8341 Q1292.4 72.2924 1289.04 73.0216 Q1285.72 73.7508 1281.95 73.7508 Q1271.7 73.7508 1265.67 67.3098 Q1259.63 60.8689 1259.63 49.9314 Q1259.63 38.832 1265.71 32.472 Q1271.82 26.1121 1282.44 26.1121 Q1285.88 26.1121 1289.16 26.8413 Q1292.44 27.5299 1295.52 28.9478 Z\" fill=\"#000000\" fill-rule=\"evenodd\" fill-opacity=\"1\" /><path clip-path=\"url(#clip720)\" d=\"M1307.71 54.671 L1307.71 27.2059 L1315.17 27.2059 L1315.17 54.3874 Q1315.17 60.8284 1317.68 64.0691 Q1320.19 67.2693 1325.21 67.2693 Q1331.25 67.2693 1334.73 63.421 Q1338.26 59.5726 1338.26 52.9291 L1338.26 27.2059 L1345.71 27.2059 L1345.71 72.576 L1338.26 72.576 L1338.26 65.6084 Q1335.54 69.7404 1331.94 71.7658 Q1328.37 73.7508 1323.64 73.7508 Q1315.82 73.7508 1311.77 68.8897 Q1307.71 64.0286 1307.71 54.671 M1326.47 26.1121 L1326.47 26.1121 Z\" fill=\"#000000\" fill-rule=\"evenodd\" fill-opacity=\"1\" /><path clip-path=\"url(#clip720)\" d=\"M1387.36 34.1734 Q1386.1 33.4443 1384.6 33.1202 Q1383.14 32.7556 1381.36 32.7556 Q1375.04 32.7556 1371.64 36.8875 Q1368.28 40.9789 1368.28 48.6757 L1368.28 72.576 L1360.78 72.576 L1360.78 27.2059 L1368.28 27.2059 L1368.28 34.2544 Q1370.63 30.1225 1374.39 28.1376 Q1378.16 26.1121 1383.55 26.1121 Q1384.32 26.1121 1385.25 26.2337 Q1386.18 26.3147 1387.32 26.5172 L1387.36 34.1734 Z\" fill=\"#000000\" fill-rule=\"evenodd\" fill-opacity=\"1\" /><path clip-path=\"url(#clip720)\" d=\"M1389.83 27.2059 L1397.73 27.2059 L1411.9 65.2844 L1426.08 27.2059 L1433.98 27.2059 L1416.97 72.576 L1406.84 72.576 L1389.83 27.2059 Z\" fill=\"#000000\" fill-rule=\"evenodd\" fill-opacity=\"1\" /><path clip-path=\"url(#clip720)\" d=\"M1483.08 48.0275 L1483.08 51.6733 L1448.81 51.6733 Q1449.29 59.3701 1453.43 63.421 Q1457.6 67.4314 1465.01 67.4314 Q1469.31 67.4314 1473.32 66.3781 Q1477.37 65.3249 1481.34 63.2184 L1481.34 70.267 Q1477.33 71.9684 1473.11 72.8596 Q1468.9 73.7508 1464.57 73.7508 Q1453.71 73.7508 1447.35 67.4314 Q1441.03 61.1119 1441.03 50.3365 Q1441.03 39.1965 1447.03 32.6746 Q1453.06 26.1121 1463.27 26.1121 Q1472.42 26.1121 1477.73 32.0264 Q1483.08 37.9003 1483.08 48.0275 M1475.62 45.84 Q1475.54 39.7232 1472.18 36.0774 Q1468.86 32.4315 1463.35 32.4315 Q1457.11 32.4315 1453.34 35.9558 Q1449.62 39.4801 1449.05 45.8805 L1475.62 45.84 Z\" fill=\"#000000\" fill-rule=\"evenodd\" fill-opacity=\"1\" /><polyline clip-path=\"url(#clip722)\" style=\"stroke:#009af9; stroke-linecap:butt; stroke-linejoin:round; stroke-width:4; stroke-opacity:1; fill:none\" points=\"\n",
       "  247.59,1447.87 325.204,262.241 2291.44,162.047 \n",
       "  \"/>\n",
       "<path clip-path=\"url(#clip720)\" d=\"\n",
       "M1987.39 272.585 L2280.54 272.585 L2280.54 168.905 L1987.39 168.905  Z\n",
       "  \" fill=\"#ffffff\" fill-rule=\"evenodd\" fill-opacity=\"1\"/>\n",
       "<polyline clip-path=\"url(#clip720)\" style=\"stroke:#000000; stroke-linecap:butt; stroke-linejoin:round; stroke-width:4; stroke-opacity:1; fill:none\" points=\"\n",
       "  1987.39,272.585 2280.54,272.585 2280.54,168.905 1987.39,168.905 1987.39,272.585 \n",
       "  \"/>\n",
       "<polyline clip-path=\"url(#clip720)\" style=\"stroke:#009af9; stroke-linecap:butt; stroke-linejoin:round; stroke-width:4; stroke-opacity:1; fill:none\" points=\"\n",
       "  2011.46,220.745 2155.89,220.745 \n",
       "  \"/>\n",
       "<path clip-path=\"url(#clip720)\" d=\"M2193.81 240.432 Q2192 245.062 2190.29 246.474 Q2188.58 247.886 2185.71 247.886 L2182.3 247.886 L2182.3 244.321 L2184.8 244.321 Q2186.56 244.321 2187.53 243.488 Q2188.51 242.654 2189.69 239.552 L2190.45 237.608 L2179.97 212.099 L2184.48 212.099 L2192.58 232.377 L2200.68 212.099 L2205.2 212.099 L2193.81 240.432 Z\" fill=\"#000000\" fill-rule=\"evenodd\" fill-opacity=\"1\" /><path clip-path=\"url(#clip720)\" d=\"M2212.49 234.089 L2220.13 234.089 L2220.13 207.724 L2211.82 209.391 L2211.82 205.131 L2220.08 203.465 L2224.76 203.465 L2224.76 234.089 L2232.4 234.089 L2232.4 238.025 L2212.49 238.025 L2212.49 234.089 Z\" fill=\"#000000\" fill-rule=\"evenodd\" fill-opacity=\"1\" /></svg>\n"
      ]
     },
     "execution_count": 41,
     "metadata": {},
     "output_type": "execute_result"
    }
   ],
   "source": [
    "fpr, tpr, thresholds = sklearn.roc_curve(prediccion.Real, prediccion.Prediccion)\n",
    "plot(fpr, tpr)\n",
    "title!(\"ROC curve\")"
   ]
  },
  {
   "cell_type": "code",
   "execution_count": 42,
   "id": "2650e9a7",
   "metadata": {},
   "outputs": [
    {
     "name": "stdout",
     "output_type": "stream",
     "text": [
      "AUC: 94.21%\n",
      "Accuracy: 94.23%\n"
     ]
    }
   ],
   "source": [
    "@printf \"AUC: %.2f%%\\n\" auc * 100\n",
    "@printf \"Accuracy: %.2f%%\\n\" mean(pred .== y_test) * 100"
   ]
  },
  {
   "cell_type": "markdown",
   "id": "9d15cac1",
   "metadata": {},
   "source": [
    "### KNN"
   ]
  },
  {
   "cell_type": "markdown",
   "id": "aa9bc256",
   "metadata": {},
   "source": [
    "Este algoritmo clasifica un elemento con base en la etiqueta predominante entre los K elementos más cercanos a este. Se calculan las distancias del elemento nuevo con respecto a los elementos existentes y se asigna la etiqueta con base en los elementos que tengan las menores distancias. En este caso se usa la distancia euclidiana y K = 5. "
   ]
  },
  {
   "cell_type": "code",
   "execution_count": 43,
   "id": "6d65aa8f",
   "metadata": {},
   "outputs": [],
   "source": [
    "train2 = [x_train y_train];\n",
    "train2 = DataFrame(train2);"
   ]
  },
  {
   "cell_type": "code",
   "execution_count": 44,
   "id": "c3323e43",
   "metadata": {},
   "outputs": [
    {
     "data": {
      "text/plain": [
       "PyObject KNeighborsClassifier()"
      ]
     },
     "execution_count": 44,
     "metadata": {},
     "output_type": "execute_result"
    }
   ],
   "source": [
    "@sk_import neighbors: KNeighborsClassifier\n",
    "model = KNeighborsClassifier()"
   ]
  },
  {
   "cell_type": "code",
   "execution_count": 45,
   "id": "1fbb4674",
   "metadata": {},
   "outputs": [
    {
     "data": {
      "text/plain": [
       "PyObject KNeighborsClassifier()"
      ]
     },
     "execution_count": 45,
     "metadata": {},
     "output_type": "execute_result"
    }
   ],
   "source": [
    "ScikitLearn.fit!(model, x_train, y_train)"
   ]
  },
  {
   "cell_type": "code",
   "execution_count": 46,
   "id": "e5cd498d",
   "metadata": {},
   "outputs": [],
   "source": [
    "pred_test = ScikitLearn.predict(model, x_test);"
   ]
  },
  {
   "cell_type": "code",
   "execution_count": 47,
   "id": "5d9f8dfd",
   "metadata": {},
   "outputs": [],
   "source": [
    "prediccion = [Int.(test[:, 61]) [if y == \"R\" 1 else 0 end for y in pred_test]]\n",
    "prediccion = DataFrame(prediccion, [:Real, :Prediccion]);"
   ]
  },
  {
   "cell_type": "code",
   "execution_count": 48,
   "id": "284a574f",
   "metadata": {
    "scrolled": true
   },
   "outputs": [
    {
     "data": {
      "text/plain": [
       "ROCNums{Int64}\n",
       "  p = 77\n",
       "  n = 79\n",
       "  tp = 72\n",
       "  tn = 64\n",
       "  fp = 15\n",
       "  fn = 5\n"
      ]
     },
     "execution_count": 48,
     "metadata": {},
     "output_type": "execute_result"
    }
   ],
   "source": [
    "cm = MLBase.roc(prediccion.Real, prediccion.Prediccion)"
   ]
  },
  {
   "cell_type": "code",
   "execution_count": 49,
   "id": "2d73ade1",
   "metadata": {},
   "outputs": [],
   "source": [
    "sens = 72/(72+5);\n",
    "espe = 64/(64+15);\n",
    "auc = (sens + espe)/2;"
   ]
  },
  {
   "cell_type": "code",
   "execution_count": 50,
   "id": "ed61690a",
   "metadata": {
    "scrolled": false
   },
   "outputs": [
    {
     "data": {
      "image/svg+xml": [
       "<?xml version=\"1.0\" encoding=\"utf-8\"?>\n",
       "<svg xmlns=\"http://www.w3.org/2000/svg\" xmlns:xlink=\"http://www.w3.org/1999/xlink\" width=\"600\" height=\"400\" viewBox=\"0 0 2400 1600\">\n",
       "<defs>\n",
       "  <clipPath id=\"clip760\">\n",
       "    <rect x=\"0\" y=\"0\" width=\"2400\" height=\"1600\"/>\n",
       "  </clipPath>\n",
       "</defs>\n",
       "<path clip-path=\"url(#clip760)\" d=\"\n",
       "M0 1600 L2400 1600 L2400 0 L0 0  Z\n",
       "  \" fill=\"#ffffff\" fill-rule=\"evenodd\" fill-opacity=\"1\"/>\n",
       "<defs>\n",
       "  <clipPath id=\"clip761\">\n",
       "    <rect x=\"480\" y=\"0\" width=\"1681\" height=\"1600\"/>\n",
       "  </clipPath>\n",
       "</defs>\n",
       "<path clip-path=\"url(#clip760)\" d=\"\n",
       "M186.274 1486.45 L2352.76 1486.45 L2352.76 123.472 L186.274 123.472  Z\n",
       "  \" fill=\"#ffffff\" fill-rule=\"evenodd\" fill-opacity=\"1\"/>\n",
       "<defs>\n",
       "  <clipPath id=\"clip762\">\n",
       "    <rect x=\"186\" y=\"123\" width=\"2167\" height=\"1364\"/>\n",
       "  </clipPath>\n",
       "</defs>\n",
       "<polyline clip-path=\"url(#clip762)\" style=\"stroke:#000000; stroke-linecap:butt; stroke-linejoin:round; stroke-width:2; stroke-opacity:0.1; fill:none\" points=\"\n",
       "  247.59,1486.45 247.59,123.472 \n",
       "  \"/>\n",
       "<polyline clip-path=\"url(#clip762)\" style=\"stroke:#000000; stroke-linecap:butt; stroke-linejoin:round; stroke-width:2; stroke-opacity:0.1; fill:none\" points=\"\n",
       "  758.552,1486.45 758.552,123.472 \n",
       "  \"/>\n",
       "<polyline clip-path=\"url(#clip762)\" style=\"stroke:#000000; stroke-linecap:butt; stroke-linejoin:round; stroke-width:2; stroke-opacity:0.1; fill:none\" points=\"\n",
       "  1269.51,1486.45 1269.51,123.472 \n",
       "  \"/>\n",
       "<polyline clip-path=\"url(#clip762)\" style=\"stroke:#000000; stroke-linecap:butt; stroke-linejoin:round; stroke-width:2; stroke-opacity:0.1; fill:none\" points=\"\n",
       "  1780.48,1486.45 1780.48,123.472 \n",
       "  \"/>\n",
       "<polyline clip-path=\"url(#clip762)\" style=\"stroke:#000000; stroke-linecap:butt; stroke-linejoin:round; stroke-width:2; stroke-opacity:0.1; fill:none\" points=\"\n",
       "  2291.44,1486.45 2291.44,123.472 \n",
       "  \"/>\n",
       "<polyline clip-path=\"url(#clip760)\" style=\"stroke:#000000; stroke-linecap:butt; stroke-linejoin:round; stroke-width:4; stroke-opacity:1; fill:none\" points=\"\n",
       "  186.274,1486.45 2352.76,1486.45 \n",
       "  \"/>\n",
       "<polyline clip-path=\"url(#clip760)\" style=\"stroke:#000000; stroke-linecap:butt; stroke-linejoin:round; stroke-width:4; stroke-opacity:1; fill:none\" points=\"\n",
       "  247.59,1486.45 247.59,1467.55 \n",
       "  \"/>\n",
       "<polyline clip-path=\"url(#clip760)\" style=\"stroke:#000000; stroke-linecap:butt; stroke-linejoin:round; stroke-width:4; stroke-opacity:1; fill:none\" points=\"\n",
       "  758.552,1486.45 758.552,1467.55 \n",
       "  \"/>\n",
       "<polyline clip-path=\"url(#clip760)\" style=\"stroke:#000000; stroke-linecap:butt; stroke-linejoin:round; stroke-width:4; stroke-opacity:1; fill:none\" points=\"\n",
       "  1269.51,1486.45 1269.51,1467.55 \n",
       "  \"/>\n",
       "<polyline clip-path=\"url(#clip760)\" style=\"stroke:#000000; stroke-linecap:butt; stroke-linejoin:round; stroke-width:4; stroke-opacity:1; fill:none\" points=\"\n",
       "  1780.48,1486.45 1780.48,1467.55 \n",
       "  \"/>\n",
       "<polyline clip-path=\"url(#clip760)\" style=\"stroke:#000000; stroke-linecap:butt; stroke-linejoin:round; stroke-width:4; stroke-opacity:1; fill:none\" points=\"\n",
       "  2291.44,1486.45 2291.44,1467.55 \n",
       "  \"/>\n",
       "<path clip-path=\"url(#clip760)\" d=\"M209.893 1517.37 Q206.282 1517.37 204.453 1520.93 Q202.648 1524.47 202.648 1531.6 Q202.648 1538.71 204.453 1542.27 Q206.282 1545.82 209.893 1545.82 Q213.527 1545.82 215.333 1542.27 Q217.161 1538.71 217.161 1531.6 Q217.161 1524.47 215.333 1520.93 Q213.527 1517.37 209.893 1517.37 M209.893 1513.66 Q215.703 1513.66 218.759 1518.27 Q221.837 1522.85 221.837 1531.6 Q221.837 1540.33 218.759 1544.94 Q215.703 1549.52 209.893 1549.52 Q204.083 1549.52 201.004 1544.94 Q197.949 1540.33 197.949 1531.6 Q197.949 1522.85 201.004 1518.27 Q204.083 1513.66 209.893 1513.66 Z\" fill=\"#000000\" fill-rule=\"evenodd\" fill-opacity=\"1\" /><path clip-path=\"url(#clip760)\" d=\"M230.055 1542.97 L234.939 1542.97 L234.939 1548.85 L230.055 1548.85 L230.055 1542.97 Z\" fill=\"#000000\" fill-rule=\"evenodd\" fill-opacity=\"1\" /><path clip-path=\"url(#clip760)\" d=\"M255.124 1517.37 Q251.513 1517.37 249.684 1520.93 Q247.879 1524.47 247.879 1531.6 Q247.879 1538.71 249.684 1542.27 Q251.513 1545.82 255.124 1545.82 Q258.758 1545.82 260.564 1542.27 Q262.393 1538.71 262.393 1531.6 Q262.393 1524.47 260.564 1520.93 Q258.758 1517.37 255.124 1517.37 M255.124 1513.66 Q260.934 1513.66 263.99 1518.27 Q267.069 1522.85 267.069 1531.6 Q267.069 1540.33 263.99 1544.94 Q260.934 1549.52 255.124 1549.52 Q249.314 1549.52 246.235 1544.94 Q243.18 1540.33 243.18 1531.6 Q243.18 1522.85 246.235 1518.27 Q249.314 1513.66 255.124 1513.66 Z\" fill=\"#000000\" fill-rule=\"evenodd\" fill-opacity=\"1\" /><path clip-path=\"url(#clip760)\" d=\"M285.286 1517.37 Q281.675 1517.37 279.846 1520.93 Q278.041 1524.47 278.041 1531.6 Q278.041 1538.71 279.846 1542.27 Q281.675 1545.82 285.286 1545.82 Q288.92 1545.82 290.726 1542.27 Q292.555 1538.71 292.555 1531.6 Q292.555 1524.47 290.726 1520.93 Q288.92 1517.37 285.286 1517.37 M285.286 1513.66 Q291.096 1513.66 294.152 1518.27 Q297.23 1522.85 297.23 1531.6 Q297.23 1540.33 294.152 1544.94 Q291.096 1549.52 285.286 1549.52 Q279.476 1549.52 276.397 1544.94 Q273.342 1540.33 273.342 1531.6 Q273.342 1522.85 276.397 1518.27 Q279.476 1513.66 285.286 1513.66 Z\" fill=\"#000000\" fill-rule=\"evenodd\" fill-opacity=\"1\" /><path clip-path=\"url(#clip760)\" d=\"M721.353 1517.37 Q717.742 1517.37 715.914 1520.93 Q714.108 1524.47 714.108 1531.6 Q714.108 1538.71 715.914 1542.27 Q717.742 1545.82 721.353 1545.82 Q724.988 1545.82 726.793 1542.27 Q728.622 1538.71 728.622 1531.6 Q728.622 1524.47 726.793 1520.93 Q724.988 1517.37 721.353 1517.37 M721.353 1513.66 Q727.164 1513.66 730.219 1518.27 Q733.298 1522.85 733.298 1531.6 Q733.298 1540.33 730.219 1544.94 Q727.164 1549.52 721.353 1549.52 Q715.543 1549.52 712.465 1544.94 Q709.409 1540.33 709.409 1531.6 Q709.409 1522.85 712.465 1518.27 Q715.543 1513.66 721.353 1513.66 Z\" fill=\"#000000\" fill-rule=\"evenodd\" fill-opacity=\"1\" /><path clip-path=\"url(#clip760)\" d=\"M741.515 1542.97 L746.4 1542.97 L746.4 1548.85 L741.515 1548.85 L741.515 1542.97 Z\" fill=\"#000000\" fill-rule=\"evenodd\" fill-opacity=\"1\" /><path clip-path=\"url(#clip760)\" d=\"M760.612 1544.91 L776.932 1544.91 L776.932 1548.85 L754.987 1548.85 L754.987 1544.91 Q757.649 1542.16 762.233 1537.53 Q766.839 1532.88 768.02 1531.53 Q770.265 1529.01 771.145 1527.27 Q772.048 1525.51 772.048 1523.82 Q772.048 1521.07 770.103 1519.33 Q768.182 1517.6 765.08 1517.6 Q762.881 1517.6 760.427 1518.36 Q757.997 1519.13 755.219 1520.68 L755.219 1515.95 Q758.043 1514.82 760.497 1514.24 Q762.95 1513.66 764.987 1513.66 Q770.358 1513.66 773.552 1516.35 Q776.747 1519.03 776.747 1523.52 Q776.747 1525.65 775.936 1527.57 Q775.149 1529.47 773.043 1532.07 Q772.464 1532.74 769.362 1535.95 Q766.261 1539.15 760.612 1544.91 Z\" fill=\"#000000\" fill-rule=\"evenodd\" fill-opacity=\"1\" /><path clip-path=\"url(#clip760)\" d=\"M786.793 1514.29 L805.149 1514.29 L805.149 1518.22 L791.075 1518.22 L791.075 1526.7 Q792.094 1526.35 793.112 1526.19 Q794.131 1526 795.149 1526 Q800.936 1526 804.316 1529.17 Q807.695 1532.34 807.695 1537.76 Q807.695 1543.34 804.223 1546.44 Q800.751 1549.52 794.432 1549.52 Q792.256 1549.52 789.987 1549.15 Q787.742 1548.78 785.335 1548.04 L785.335 1543.34 Q787.418 1544.47 789.64 1545.03 Q791.862 1545.58 794.339 1545.58 Q798.344 1545.58 800.682 1543.48 Q803.02 1541.37 803.02 1537.76 Q803.02 1534.15 800.682 1532.04 Q798.344 1529.94 794.339 1529.94 Q792.464 1529.94 790.589 1530.35 Q788.737 1530.77 786.793 1531.65 L786.793 1514.29 Z\" fill=\"#000000\" fill-rule=\"evenodd\" fill-opacity=\"1\" /><path clip-path=\"url(#clip760)\" d=\"M1231.82 1517.37 Q1228.21 1517.37 1226.38 1520.93 Q1224.57 1524.47 1224.57 1531.6 Q1224.57 1538.71 1226.38 1542.27 Q1228.21 1545.82 1231.82 1545.82 Q1235.45 1545.82 1237.26 1542.27 Q1239.09 1538.71 1239.09 1531.6 Q1239.09 1524.47 1237.26 1520.93 Q1235.45 1517.37 1231.82 1517.37 M1231.82 1513.66 Q1237.63 1513.66 1240.68 1518.27 Q1243.76 1522.85 1243.76 1531.6 Q1243.76 1540.33 1240.68 1544.94 Q1237.63 1549.52 1231.82 1549.52 Q1226.01 1549.52 1222.93 1544.94 Q1219.87 1540.33 1219.87 1531.6 Q1219.87 1522.85 1222.93 1518.27 Q1226.01 1513.66 1231.82 1513.66 Z\" fill=\"#000000\" fill-rule=\"evenodd\" fill-opacity=\"1\" /><path clip-path=\"url(#clip760)\" d=\"M1251.98 1542.97 L1256.86 1542.97 L1256.86 1548.85 L1251.98 1548.85 L1251.98 1542.97 Z\" fill=\"#000000\" fill-rule=\"evenodd\" fill-opacity=\"1\" /><path clip-path=\"url(#clip760)\" d=\"M1267.1 1514.29 L1285.45 1514.29 L1285.45 1518.22 L1271.38 1518.22 L1271.38 1526.7 Q1272.4 1526.35 1273.42 1526.19 Q1274.43 1526 1275.45 1526 Q1281.24 1526 1284.62 1529.17 Q1288 1532.34 1288 1537.76 Q1288 1543.34 1284.53 1546.44 Q1281.05 1549.52 1274.73 1549.52 Q1272.56 1549.52 1270.29 1549.15 Q1268.05 1548.78 1265.64 1548.04 L1265.64 1543.34 Q1267.72 1544.47 1269.94 1545.03 Q1272.17 1545.58 1274.64 1545.58 Q1278.65 1545.58 1280.98 1543.48 Q1283.32 1541.37 1283.32 1537.76 Q1283.32 1534.15 1280.98 1532.04 Q1278.65 1529.94 1274.64 1529.94 Q1272.77 1529.94 1270.89 1530.35 Q1269.04 1530.77 1267.1 1531.65 L1267.1 1514.29 Z\" fill=\"#000000\" fill-rule=\"evenodd\" fill-opacity=\"1\" /><path clip-path=\"url(#clip760)\" d=\"M1307.21 1517.37 Q1303.6 1517.37 1301.77 1520.93 Q1299.97 1524.47 1299.97 1531.6 Q1299.97 1538.71 1301.77 1542.27 Q1303.6 1545.82 1307.21 1545.82 Q1310.85 1545.82 1312.65 1542.27 Q1314.48 1538.71 1314.48 1531.6 Q1314.48 1524.47 1312.65 1520.93 Q1310.85 1517.37 1307.21 1517.37 M1307.21 1513.66 Q1313.02 1513.66 1316.08 1518.27 Q1319.16 1522.85 1319.16 1531.6 Q1319.16 1540.33 1316.08 1544.94 Q1313.02 1549.52 1307.21 1549.52 Q1301.4 1549.52 1298.32 1544.94 Q1295.27 1540.33 1295.27 1531.6 Q1295.27 1522.85 1298.32 1518.27 Q1301.4 1513.66 1307.21 1513.66 Z\" fill=\"#000000\" fill-rule=\"evenodd\" fill-opacity=\"1\" /><path clip-path=\"url(#clip760)\" d=\"M1743.28 1517.37 Q1739.67 1517.37 1737.84 1520.93 Q1736.03 1524.47 1736.03 1531.6 Q1736.03 1538.71 1737.84 1542.27 Q1739.67 1545.82 1743.28 1545.82 Q1746.91 1545.82 1748.72 1542.27 Q1750.55 1538.71 1750.55 1531.6 Q1750.55 1524.47 1748.72 1520.93 Q1746.91 1517.37 1743.28 1517.37 M1743.28 1513.66 Q1749.09 1513.66 1752.14 1518.27 Q1755.22 1522.85 1755.22 1531.6 Q1755.22 1540.33 1752.14 1544.94 Q1749.09 1549.52 1743.28 1549.52 Q1737.47 1549.52 1734.39 1544.94 Q1731.33 1540.33 1731.33 1531.6 Q1731.33 1522.85 1734.39 1518.27 Q1737.47 1513.66 1743.28 1513.66 Z\" fill=\"#000000\" fill-rule=\"evenodd\" fill-opacity=\"1\" /><path clip-path=\"url(#clip760)\" d=\"M1763.44 1542.97 L1768.32 1542.97 L1768.32 1548.85 L1763.44 1548.85 L1763.44 1542.97 Z\" fill=\"#000000\" fill-rule=\"evenodd\" fill-opacity=\"1\" /><path clip-path=\"url(#clip760)\" d=\"M1777.33 1514.29 L1799.55 1514.29 L1799.55 1516.28 L1787.01 1548.85 L1782.12 1548.85 L1793.93 1518.22 L1777.33 1518.22 L1777.33 1514.29 Z\" fill=\"#000000\" fill-rule=\"evenodd\" fill-opacity=\"1\" /><path clip-path=\"url(#clip760)\" d=\"M1808.72 1514.29 L1827.07 1514.29 L1827.07 1518.22 L1813 1518.22 L1813 1526.7 Q1814.02 1526.35 1815.04 1526.19 Q1816.06 1526 1817.07 1526 Q1822.86 1526 1826.24 1529.17 Q1829.62 1532.34 1829.62 1537.76 Q1829.62 1543.34 1826.15 1546.44 Q1822.68 1549.52 1816.36 1549.52 Q1814.18 1549.52 1811.91 1549.15 Q1809.67 1548.78 1807.26 1548.04 L1807.26 1543.34 Q1809.34 1544.47 1811.57 1545.03 Q1813.79 1545.58 1816.26 1545.58 Q1820.27 1545.58 1822.61 1543.48 Q1824.95 1541.37 1824.95 1537.76 Q1824.95 1534.15 1822.61 1532.04 Q1820.27 1529.94 1816.26 1529.94 Q1814.39 1529.94 1812.51 1530.35 Q1810.66 1530.77 1808.72 1531.65 L1808.72 1514.29 Z\" fill=\"#000000\" fill-rule=\"evenodd\" fill-opacity=\"1\" /><path clip-path=\"url(#clip760)\" d=\"M2243.51 1544.91 L2251.15 1544.91 L2251.15 1518.55 L2242.84 1520.21 L2242.84 1515.95 L2251.1 1514.29 L2255.78 1514.29 L2255.78 1544.91 L2263.42 1544.91 L2263.42 1548.85 L2243.51 1548.85 L2243.51 1544.91 Z\" fill=\"#000000\" fill-rule=\"evenodd\" fill-opacity=\"1\" /><path clip-path=\"url(#clip760)\" d=\"M2272.86 1542.97 L2277.75 1542.97 L2277.75 1548.85 L2272.86 1548.85 L2272.86 1542.97 Z\" fill=\"#000000\" fill-rule=\"evenodd\" fill-opacity=\"1\" /><path clip-path=\"url(#clip760)\" d=\"M2297.93 1517.37 Q2294.32 1517.37 2292.49 1520.93 Q2290.69 1524.47 2290.69 1531.6 Q2290.69 1538.71 2292.49 1542.27 Q2294.32 1545.82 2297.93 1545.82 Q2301.57 1545.82 2303.37 1542.27 Q2305.2 1538.71 2305.2 1531.6 Q2305.2 1524.47 2303.37 1520.93 Q2301.57 1517.37 2297.93 1517.37 M2297.93 1513.66 Q2303.74 1513.66 2306.8 1518.27 Q2309.88 1522.85 2309.88 1531.6 Q2309.88 1540.33 2306.8 1544.94 Q2303.74 1549.52 2297.93 1549.52 Q2292.12 1549.52 2289.04 1544.94 Q2285.99 1540.33 2285.99 1531.6 Q2285.99 1522.85 2289.04 1518.27 Q2292.12 1513.66 2297.93 1513.66 Z\" fill=\"#000000\" fill-rule=\"evenodd\" fill-opacity=\"1\" /><path clip-path=\"url(#clip760)\" d=\"M2328.1 1517.37 Q2324.48 1517.37 2322.66 1520.93 Q2320.85 1524.47 2320.85 1531.6 Q2320.85 1538.71 2322.66 1542.27 Q2324.48 1545.82 2328.1 1545.82 Q2331.73 1545.82 2333.54 1542.27 Q2335.36 1538.71 2335.36 1531.6 Q2335.36 1524.47 2333.54 1520.93 Q2331.73 1517.37 2328.1 1517.37 M2328.1 1513.66 Q2333.91 1513.66 2336.96 1518.27 Q2340.04 1522.85 2340.04 1531.6 Q2340.04 1540.33 2336.96 1544.94 Q2333.91 1549.52 2328.1 1549.52 Q2322.29 1549.52 2319.21 1544.94 Q2316.15 1540.33 2316.15 1531.6 Q2316.15 1522.85 2319.21 1518.27 Q2322.29 1513.66 2328.1 1513.66 Z\" fill=\"#000000\" fill-rule=\"evenodd\" fill-opacity=\"1\" /><polyline clip-path=\"url(#clip762)\" style=\"stroke:#000000; stroke-linecap:butt; stroke-linejoin:round; stroke-width:2; stroke-opacity:0.1; fill:none\" points=\"\n",
       "  186.274,1447.87 2352.76,1447.87 \n",
       "  \"/>\n",
       "<polyline clip-path=\"url(#clip762)\" style=\"stroke:#000000; stroke-linecap:butt; stroke-linejoin:round; stroke-width:2; stroke-opacity:0.1; fill:none\" points=\"\n",
       "  186.274,1126.42 2352.76,1126.42 \n",
       "  \"/>\n",
       "<polyline clip-path=\"url(#clip762)\" style=\"stroke:#000000; stroke-linecap:butt; stroke-linejoin:round; stroke-width:2; stroke-opacity:0.1; fill:none\" points=\"\n",
       "  186.274,804.96 2352.76,804.96 \n",
       "  \"/>\n",
       "<polyline clip-path=\"url(#clip762)\" style=\"stroke:#000000; stroke-linecap:butt; stroke-linejoin:round; stroke-width:2; stroke-opacity:0.1; fill:none\" points=\"\n",
       "  186.274,483.503 2352.76,483.503 \n",
       "  \"/>\n",
       "<polyline clip-path=\"url(#clip762)\" style=\"stroke:#000000; stroke-linecap:butt; stroke-linejoin:round; stroke-width:2; stroke-opacity:0.1; fill:none\" points=\"\n",
       "  186.274,162.047 2352.76,162.047 \n",
       "  \"/>\n",
       "<polyline clip-path=\"url(#clip760)\" style=\"stroke:#000000; stroke-linecap:butt; stroke-linejoin:round; stroke-width:4; stroke-opacity:1; fill:none\" points=\"\n",
       "  186.274,1486.45 186.274,123.472 \n",
       "  \"/>\n",
       "<polyline clip-path=\"url(#clip760)\" style=\"stroke:#000000; stroke-linecap:butt; stroke-linejoin:round; stroke-width:4; stroke-opacity:1; fill:none\" points=\"\n",
       "  186.274,1447.87 205.172,1447.87 \n",
       "  \"/>\n",
       "<polyline clip-path=\"url(#clip760)\" style=\"stroke:#000000; stroke-linecap:butt; stroke-linejoin:round; stroke-width:4; stroke-opacity:1; fill:none\" points=\"\n",
       "  186.274,1126.42 205.172,1126.42 \n",
       "  \"/>\n",
       "<polyline clip-path=\"url(#clip760)\" style=\"stroke:#000000; stroke-linecap:butt; stroke-linejoin:round; stroke-width:4; stroke-opacity:1; fill:none\" points=\"\n",
       "  186.274,804.96 205.172,804.96 \n",
       "  \"/>\n",
       "<polyline clip-path=\"url(#clip760)\" style=\"stroke:#000000; stroke-linecap:butt; stroke-linejoin:round; stroke-width:4; stroke-opacity:1; fill:none\" points=\"\n",
       "  186.274,483.503 205.172,483.503 \n",
       "  \"/>\n",
       "<polyline clip-path=\"url(#clip760)\" style=\"stroke:#000000; stroke-linecap:butt; stroke-linejoin:round; stroke-width:4; stroke-opacity:1; fill:none\" points=\"\n",
       "  186.274,162.047 205.172,162.047 \n",
       "  \"/>\n",
       "<path clip-path=\"url(#clip760)\" d=\"M62.9365 1433.67 Q59.3254 1433.67 57.4967 1437.24 Q55.6912 1440.78 55.6912 1447.91 Q55.6912 1455.01 57.4967 1458.58 Q59.3254 1462.12 62.9365 1462.12 Q66.5707 1462.12 68.3763 1458.58 Q70.205 1455.01 70.205 1447.91 Q70.205 1440.78 68.3763 1437.24 Q66.5707 1433.67 62.9365 1433.67 M62.9365 1429.97 Q68.7467 1429.97 71.8022 1434.57 Q74.8809 1439.16 74.8809 1447.91 Q74.8809 1456.63 71.8022 1461.24 Q68.7467 1465.82 62.9365 1465.82 Q57.1264 1465.82 54.0477 1461.24 Q50.9921 1456.63 50.9921 1447.91 Q50.9921 1439.16 54.0477 1434.57 Q57.1264 1429.97 62.9365 1429.97 Z\" fill=\"#000000\" fill-rule=\"evenodd\" fill-opacity=\"1\" /><path clip-path=\"url(#clip760)\" d=\"M83.0984 1459.27 L87.9827 1459.27 L87.9827 1465.15 L83.0984 1465.15 L83.0984 1459.27 Z\" fill=\"#000000\" fill-rule=\"evenodd\" fill-opacity=\"1\" /><path clip-path=\"url(#clip760)\" d=\"M108.168 1433.67 Q104.557 1433.67 102.728 1437.24 Q100.922 1440.78 100.922 1447.91 Q100.922 1455.01 102.728 1458.58 Q104.557 1462.12 108.168 1462.12 Q111.802 1462.12 113.608 1458.58 Q115.436 1455.01 115.436 1447.91 Q115.436 1440.78 113.608 1437.24 Q111.802 1433.67 108.168 1433.67 M108.168 1429.97 Q113.978 1429.97 117.033 1434.57 Q120.112 1439.16 120.112 1447.91 Q120.112 1456.63 117.033 1461.24 Q113.978 1465.82 108.168 1465.82 Q102.358 1465.82 99.2789 1461.24 Q96.2234 1456.63 96.2234 1447.91 Q96.2234 1439.16 99.2789 1434.57 Q102.358 1429.97 108.168 1429.97 Z\" fill=\"#000000\" fill-rule=\"evenodd\" fill-opacity=\"1\" /><path clip-path=\"url(#clip760)\" d=\"M138.33 1433.67 Q134.719 1433.67 132.89 1437.24 Q131.084 1440.78 131.084 1447.91 Q131.084 1455.01 132.89 1458.58 Q134.719 1462.12 138.33 1462.12 Q141.964 1462.12 143.769 1458.58 Q145.598 1455.01 145.598 1447.91 Q145.598 1440.78 143.769 1437.24 Q141.964 1433.67 138.33 1433.67 M138.33 1429.97 Q144.14 1429.97 147.195 1434.57 Q150.274 1439.16 150.274 1447.91 Q150.274 1456.63 147.195 1461.24 Q144.14 1465.82 138.33 1465.82 Q132.519 1465.82 129.441 1461.24 Q126.385 1456.63 126.385 1447.91 Q126.385 1439.16 129.441 1434.57 Q132.519 1429.97 138.33 1429.97 Z\" fill=\"#000000\" fill-rule=\"evenodd\" fill-opacity=\"1\" /><path clip-path=\"url(#clip760)\" d=\"M63.9319 1112.22 Q60.3208 1112.22 58.4921 1115.78 Q56.6865 1119.32 56.6865 1126.45 Q56.6865 1133.56 58.4921 1137.12 Q60.3208 1140.66 63.9319 1140.66 Q67.5661 1140.66 69.3717 1137.12 Q71.2004 1133.56 71.2004 1126.45 Q71.2004 1119.32 69.3717 1115.78 Q67.5661 1112.22 63.9319 1112.22 M63.9319 1108.51 Q69.742 1108.51 72.7976 1113.12 Q75.8763 1117.7 75.8763 1126.45 Q75.8763 1135.18 72.7976 1139.78 Q69.742 1144.37 63.9319 1144.37 Q58.1217 1144.37 55.043 1139.78 Q51.9875 1135.18 51.9875 1126.45 Q51.9875 1117.7 55.043 1113.12 Q58.1217 1108.51 63.9319 1108.51 Z\" fill=\"#000000\" fill-rule=\"evenodd\" fill-opacity=\"1\" /><path clip-path=\"url(#clip760)\" d=\"M84.0938 1137.82 L88.978 1137.82 L88.978 1143.7 L84.0938 1143.7 L84.0938 1137.82 Z\" fill=\"#000000\" fill-rule=\"evenodd\" fill-opacity=\"1\" /><path clip-path=\"url(#clip760)\" d=\"M103.191 1139.76 L119.51 1139.76 L119.51 1143.7 L97.566 1143.7 L97.566 1139.76 Q100.228 1137.01 104.811 1132.38 Q109.418 1127.72 110.598 1126.38 Q112.844 1123.86 113.723 1122.12 Q114.626 1120.36 114.626 1118.67 Q114.626 1115.92 112.682 1114.18 Q110.76 1112.45 107.658 1112.45 Q105.459 1112.45 103.006 1113.21 Q100.575 1113.97 97.7974 1115.53 L97.7974 1110.8 Q100.621 1109.67 103.075 1109.09 Q105.529 1108.51 107.566 1108.51 Q112.936 1108.51 116.131 1111.2 Q119.325 1113.88 119.325 1118.37 Q119.325 1120.5 118.515 1122.42 Q117.728 1124.32 115.621 1126.91 Q115.043 1127.59 111.941 1130.8 Q108.839 1134 103.191 1139.76 Z\" fill=\"#000000\" fill-rule=\"evenodd\" fill-opacity=\"1\" /><path clip-path=\"url(#clip760)\" d=\"M129.371 1109.14 L147.728 1109.14 L147.728 1113.07 L133.654 1113.07 L133.654 1121.54 Q134.672 1121.2 135.691 1121.03 Q136.709 1120.85 137.728 1120.85 Q143.515 1120.85 146.894 1124.02 Q150.274 1127.19 150.274 1132.61 Q150.274 1138.19 146.802 1141.29 Q143.33 1144.37 137.01 1144.37 Q134.834 1144.37 132.566 1144 Q130.32 1143.63 127.913 1142.89 L127.913 1138.19 Q129.996 1139.32 132.219 1139.88 Q134.441 1140.43 136.918 1140.43 Q140.922 1140.43 143.26 1138.33 Q145.598 1136.22 145.598 1132.61 Q145.598 1129 143.26 1126.89 Q140.922 1124.78 136.918 1124.78 Q135.043 1124.78 133.168 1125.2 Q131.316 1125.62 129.371 1126.5 L129.371 1109.14 Z\" fill=\"#000000\" fill-rule=\"evenodd\" fill-opacity=\"1\" /><path clip-path=\"url(#clip760)\" d=\"M62.9365 790.759 Q59.3254 790.759 57.4967 794.323 Q55.6912 797.865 55.6912 804.995 Q55.6912 812.101 57.4967 815.666 Q59.3254 819.208 62.9365 819.208 Q66.5707 819.208 68.3763 815.666 Q70.205 812.101 70.205 804.995 Q70.205 797.865 68.3763 794.323 Q66.5707 790.759 62.9365 790.759 M62.9365 787.055 Q68.7467 787.055 71.8022 791.661 Q74.8809 796.245 74.8809 804.995 Q74.8809 813.722 71.8022 818.328 Q68.7467 822.911 62.9365 822.911 Q57.1264 822.911 54.0477 818.328 Q50.9921 813.722 50.9921 804.995 Q50.9921 796.245 54.0477 791.661 Q57.1264 787.055 62.9365 787.055 Z\" fill=\"#000000\" fill-rule=\"evenodd\" fill-opacity=\"1\" /><path clip-path=\"url(#clip760)\" d=\"M83.0984 816.36 L87.9827 816.36 L87.9827 822.24 L83.0984 822.24 L83.0984 816.36 Z\" fill=\"#000000\" fill-rule=\"evenodd\" fill-opacity=\"1\" /><path clip-path=\"url(#clip760)\" d=\"M98.2141 787.68 L116.57 787.68 L116.57 791.615 L102.496 791.615 L102.496 800.087 Q103.515 799.74 104.534 799.578 Q105.552 799.393 106.571 799.393 Q112.358 799.393 115.737 802.564 Q119.117 805.735 119.117 811.152 Q119.117 816.731 115.645 819.833 Q112.172 822.911 105.853 822.911 Q103.677 822.911 101.409 822.541 Q99.1632 822.171 96.7558 821.43 L96.7558 816.731 Q98.8391 817.865 101.061 818.421 Q103.284 818.976 105.76 818.976 Q109.765 818.976 112.103 816.87 Q114.441 814.763 114.441 811.152 Q114.441 807.541 112.103 805.435 Q109.765 803.328 105.76 803.328 Q103.885 803.328 102.01 803.745 Q100.159 804.161 98.2141 805.041 L98.2141 787.68 Z\" fill=\"#000000\" fill-rule=\"evenodd\" fill-opacity=\"1\" /><path clip-path=\"url(#clip760)\" d=\"M138.33 790.759 Q134.719 790.759 132.89 794.323 Q131.084 797.865 131.084 804.995 Q131.084 812.101 132.89 815.666 Q134.719 819.208 138.33 819.208 Q141.964 819.208 143.769 815.666 Q145.598 812.101 145.598 804.995 Q145.598 797.865 143.769 794.323 Q141.964 790.759 138.33 790.759 M138.33 787.055 Q144.14 787.055 147.195 791.661 Q150.274 796.245 150.274 804.995 Q150.274 813.722 147.195 818.328 Q144.14 822.911 138.33 822.911 Q132.519 822.911 129.441 818.328 Q126.385 813.722 126.385 804.995 Q126.385 796.245 129.441 791.661 Q132.519 787.055 138.33 787.055 Z\" fill=\"#000000\" fill-rule=\"evenodd\" fill-opacity=\"1\" /><path clip-path=\"url(#clip760)\" d=\"M63.9319 469.302 Q60.3208 469.302 58.4921 472.867 Q56.6865 476.409 56.6865 483.538 Q56.6865 490.645 58.4921 494.209 Q60.3208 497.751 63.9319 497.751 Q67.5661 497.751 69.3717 494.209 Q71.2004 490.645 71.2004 483.538 Q71.2004 476.409 69.3717 472.867 Q67.5661 469.302 63.9319 469.302 M63.9319 465.598 Q69.742 465.598 72.7976 470.205 Q75.8763 474.788 75.8763 483.538 Q75.8763 492.265 72.7976 496.871 Q69.742 501.455 63.9319 501.455 Q58.1217 501.455 55.043 496.871 Q51.9875 492.265 51.9875 483.538 Q51.9875 474.788 55.043 470.205 Q58.1217 465.598 63.9319 465.598 Z\" fill=\"#000000\" fill-rule=\"evenodd\" fill-opacity=\"1\" /><path clip-path=\"url(#clip760)\" d=\"M84.0938 494.904 L88.978 494.904 L88.978 500.783 L84.0938 500.783 L84.0938 494.904 Z\" fill=\"#000000\" fill-rule=\"evenodd\" fill-opacity=\"1\" /><path clip-path=\"url(#clip760)\" d=\"M97.9826 466.223 L120.205 466.223 L120.205 468.214 L107.658 500.783 L102.774 500.783 L114.58 470.159 L97.9826 470.159 L97.9826 466.223 Z\" fill=\"#000000\" fill-rule=\"evenodd\" fill-opacity=\"1\" /><path clip-path=\"url(#clip760)\" d=\"M129.371 466.223 L147.728 466.223 L147.728 470.159 L133.654 470.159 L133.654 478.631 Q134.672 478.284 135.691 478.122 Q136.709 477.936 137.728 477.936 Q143.515 477.936 146.894 481.108 Q150.274 484.279 150.274 489.696 Q150.274 495.274 146.802 498.376 Q143.33 501.455 137.01 501.455 Q134.834 501.455 132.566 501.084 Q130.32 500.714 127.913 499.973 L127.913 495.274 Q129.996 496.408 132.219 496.964 Q134.441 497.52 136.918 497.52 Q140.922 497.52 143.26 495.413 Q145.598 493.307 145.598 489.696 Q145.598 486.084 143.26 483.978 Q140.922 481.872 136.918 481.872 Q135.043 481.872 133.168 482.288 Q131.316 482.705 129.371 483.584 L129.371 466.223 Z\" fill=\"#000000\" fill-rule=\"evenodd\" fill-opacity=\"1\" /><path clip-path=\"url(#clip760)\" d=\"M53.7467 175.392 L61.3856 175.392 L61.3856 149.026 L53.0754 150.693 L53.0754 146.434 L61.3393 144.767 L66.0152 144.767 L66.0152 175.392 L73.654 175.392 L73.654 179.327 L53.7467 179.327 L53.7467 175.392 Z\" fill=\"#000000\" fill-rule=\"evenodd\" fill-opacity=\"1\" /><path clip-path=\"url(#clip760)\" d=\"M83.0984 173.447 L87.9827 173.447 L87.9827 179.327 L83.0984 179.327 L83.0984 173.447 Z\" fill=\"#000000\" fill-rule=\"evenodd\" fill-opacity=\"1\" /><path clip-path=\"url(#clip760)\" d=\"M108.168 147.846 Q104.557 147.846 102.728 151.41 Q100.922 154.952 100.922 162.082 Q100.922 169.188 102.728 172.753 Q104.557 176.295 108.168 176.295 Q111.802 176.295 113.608 172.753 Q115.436 169.188 115.436 162.082 Q115.436 154.952 113.608 151.41 Q111.802 147.846 108.168 147.846 M108.168 144.142 Q113.978 144.142 117.033 148.748 Q120.112 153.332 120.112 162.082 Q120.112 170.808 117.033 175.415 Q113.978 179.998 108.168 179.998 Q102.358 179.998 99.2789 175.415 Q96.2234 170.808 96.2234 162.082 Q96.2234 153.332 99.2789 148.748 Q102.358 144.142 108.168 144.142 Z\" fill=\"#000000\" fill-rule=\"evenodd\" fill-opacity=\"1\" /><path clip-path=\"url(#clip760)\" d=\"M138.33 147.846 Q134.719 147.846 132.89 151.41 Q131.084 154.952 131.084 162.082 Q131.084 169.188 132.89 172.753 Q134.719 176.295 138.33 176.295 Q141.964 176.295 143.769 172.753 Q145.598 169.188 145.598 162.082 Q145.598 154.952 143.769 151.41 Q141.964 147.846 138.33 147.846 M138.33 144.142 Q144.14 144.142 147.195 148.748 Q150.274 153.332 150.274 162.082 Q150.274 170.808 147.195 175.415 Q144.14 179.998 138.33 179.998 Q132.519 179.998 129.441 175.415 Q126.385 170.808 126.385 162.082 Q126.385 153.332 129.441 148.748 Q132.519 144.142 138.33 144.142 Z\" fill=\"#000000\" fill-rule=\"evenodd\" fill-opacity=\"1\" /><path clip-path=\"url(#clip760)\" d=\"M1084.63 44.2197 Q1087.26 45.1109 1089.74 48.0275 Q1092.25 50.9442 1094.76 56.0483 L1103.06 72.576 L1094.27 72.576 L1086.54 57.061 Q1083.54 50.9847 1080.7 48.9997 Q1077.91 47.0148 1073.05 47.0148 L1064.13 47.0148 L1064.13 72.576 L1055.95 72.576 L1055.95 12.096 L1074.42 12.096 Q1084.79 12.096 1089.9 16.4305 Q1095 20.7649 1095 29.5149 Q1095 35.2267 1092.33 38.994 Q1089.7 42.7613 1084.63 44.2197 M1064.13 18.8205 L1064.13 40.2903 L1074.42 40.2903 Q1080.34 40.2903 1083.34 37.5762 Q1086.37 34.8216 1086.37 29.5149 Q1086.37 24.2082 1083.34 21.5346 Q1080.34 18.8205 1074.42 18.8205 L1064.13 18.8205 Z\" fill=\"#000000\" fill-rule=\"evenodd\" fill-opacity=\"1\" /><path clip-path=\"url(#clip760)\" d=\"M1138.14 17.6457 Q1129.23 17.6457 1123.97 24.2892 Q1118.74 30.9327 1118.74 42.3968 Q1118.74 53.8203 1123.97 60.4638 Q1129.23 67.1073 1138.14 67.1073 Q1147.06 67.1073 1152.24 60.4638 Q1157.47 53.8203 1157.47 42.3968 Q1157.47 30.9327 1152.24 24.2892 Q1147.06 17.6457 1138.14 17.6457 M1138.14 11.0023 Q1150.86 11.0023 1158.48 19.5497 Q1166.1 28.0566 1166.1 42.3968 Q1166.1 56.6965 1158.48 65.2439 Q1150.86 73.7508 1138.14 73.7508 Q1125.38 73.7508 1117.73 65.2439 Q1110.11 56.737 1110.11 42.3968 Q1110.11 28.0566 1117.73 19.5497 Q1125.38 11.0023 1138.14 11.0023 Z\" fill=\"#000000\" fill-rule=\"evenodd\" fill-opacity=\"1\" /><path clip-path=\"url(#clip760)\" d=\"M1224.19 16.7545 L1224.19 25.383 Q1220.05 21.5346 1215.35 19.6307 Q1210.7 17.7268 1205.43 17.7268 Q1195.06 17.7268 1189.55 24.0867 Q1184.04 30.4061 1184.04 42.3968 Q1184.04 54.3469 1189.55 60.7069 Q1195.06 67.0263 1205.43 67.0263 Q1210.7 67.0263 1215.35 65.1223 Q1220.05 63.2184 1224.19 59.3701 L1224.19 67.9175 Q1219.89 70.8341 1215.07 72.2924 Q1210.29 73.7508 1204.94 73.7508 Q1191.21 73.7508 1183.31 65.3654 Q1175.41 56.9395 1175.41 42.3968 Q1175.41 27.8135 1183.31 19.4281 Q1191.21 11.0023 1204.94 11.0023 Q1210.37 11.0023 1215.15 12.4606 Q1219.97 13.8784 1224.19 16.7545 Z\" fill=\"#000000\" fill-rule=\"evenodd\" fill-opacity=\"1\" /><path clip-path=\"url(#clip760)\" d=\"M1295.52 28.9478 L1295.52 35.9153 Q1292.36 34.1734 1289.16 33.3227 Q1286 32.4315 1282.76 32.4315 Q1275.51 32.4315 1271.5 37.0496 Q1267.49 41.6271 1267.49 49.9314 Q1267.49 58.2358 1271.5 62.8538 Q1275.51 67.4314 1282.76 67.4314 Q1286 67.4314 1289.16 66.5807 Q1292.36 65.6895 1295.52 63.9476 L1295.52 70.8341 Q1292.4 72.2924 1289.04 73.0216 Q1285.72 73.7508 1281.95 73.7508 Q1271.7 73.7508 1265.67 67.3098 Q1259.63 60.8689 1259.63 49.9314 Q1259.63 38.832 1265.71 32.472 Q1271.82 26.1121 1282.44 26.1121 Q1285.88 26.1121 1289.16 26.8413 Q1292.44 27.5299 1295.52 28.9478 Z\" fill=\"#000000\" fill-rule=\"evenodd\" fill-opacity=\"1\" /><path clip-path=\"url(#clip760)\" d=\"M1307.71 54.671 L1307.71 27.2059 L1315.17 27.2059 L1315.17 54.3874 Q1315.17 60.8284 1317.68 64.0691 Q1320.19 67.2693 1325.21 67.2693 Q1331.25 67.2693 1334.73 63.421 Q1338.26 59.5726 1338.26 52.9291 L1338.26 27.2059 L1345.71 27.2059 L1345.71 72.576 L1338.26 72.576 L1338.26 65.6084 Q1335.54 69.7404 1331.94 71.7658 Q1328.37 73.7508 1323.64 73.7508 Q1315.82 73.7508 1311.77 68.8897 Q1307.71 64.0286 1307.71 54.671 M1326.47 26.1121 L1326.47 26.1121 Z\" fill=\"#000000\" fill-rule=\"evenodd\" fill-opacity=\"1\" /><path clip-path=\"url(#clip760)\" d=\"M1387.36 34.1734 Q1386.1 33.4443 1384.6 33.1202 Q1383.14 32.7556 1381.36 32.7556 Q1375.04 32.7556 1371.64 36.8875 Q1368.28 40.9789 1368.28 48.6757 L1368.28 72.576 L1360.78 72.576 L1360.78 27.2059 L1368.28 27.2059 L1368.28 34.2544 Q1370.63 30.1225 1374.39 28.1376 Q1378.16 26.1121 1383.55 26.1121 Q1384.32 26.1121 1385.25 26.2337 Q1386.18 26.3147 1387.32 26.5172 L1387.36 34.1734 Z\" fill=\"#000000\" fill-rule=\"evenodd\" fill-opacity=\"1\" /><path clip-path=\"url(#clip760)\" d=\"M1389.83 27.2059 L1397.73 27.2059 L1411.9 65.2844 L1426.08 27.2059 L1433.98 27.2059 L1416.97 72.576 L1406.84 72.576 L1389.83 27.2059 Z\" fill=\"#000000\" fill-rule=\"evenodd\" fill-opacity=\"1\" /><path clip-path=\"url(#clip760)\" d=\"M1483.08 48.0275 L1483.08 51.6733 L1448.81 51.6733 Q1449.29 59.3701 1453.43 63.421 Q1457.6 67.4314 1465.01 67.4314 Q1469.31 67.4314 1473.32 66.3781 Q1477.37 65.3249 1481.34 63.2184 L1481.34 70.267 Q1477.33 71.9684 1473.11 72.8596 Q1468.9 73.7508 1464.57 73.7508 Q1453.71 73.7508 1447.35 67.4314 Q1441.03 61.1119 1441.03 50.3365 Q1441.03 39.1965 1447.03 32.6746 Q1453.06 26.1121 1463.27 26.1121 Q1472.42 26.1121 1477.73 32.0264 Q1483.08 37.9003 1483.08 48.0275 M1475.62 45.84 Q1475.54 39.7232 1472.18 36.0774 Q1468.86 32.4315 1463.35 32.4315 Q1457.11 32.4315 1453.34 35.9558 Q1449.62 39.4801 1449.05 45.8805 L1475.62 45.84 Z\" fill=\"#000000\" fill-rule=\"evenodd\" fill-opacity=\"1\" /><polyline clip-path=\"url(#clip762)\" style=\"stroke:#009af9; stroke-linecap:butt; stroke-linejoin:round; stroke-width:4; stroke-opacity:1; fill:none\" points=\"\n",
       "  247.59,1447.87 635.662,245.542 2291.44,162.047 \n",
       "  \"/>\n",
       "<path clip-path=\"url(#clip760)\" d=\"\n",
       "M1987.39 272.585 L2280.54 272.585 L2280.54 168.905 L1987.39 168.905  Z\n",
       "  \" fill=\"#ffffff\" fill-rule=\"evenodd\" fill-opacity=\"1\"/>\n",
       "<polyline clip-path=\"url(#clip760)\" style=\"stroke:#000000; stroke-linecap:butt; stroke-linejoin:round; stroke-width:4; stroke-opacity:1; fill:none\" points=\"\n",
       "  1987.39,272.585 2280.54,272.585 2280.54,168.905 1987.39,168.905 1987.39,272.585 \n",
       "  \"/>\n",
       "<polyline clip-path=\"url(#clip760)\" style=\"stroke:#009af9; stroke-linecap:butt; stroke-linejoin:round; stroke-width:4; stroke-opacity:1; fill:none\" points=\"\n",
       "  2011.46,220.745 2155.89,220.745 \n",
       "  \"/>\n",
       "<path clip-path=\"url(#clip760)\" d=\"M2193.81 240.432 Q2192 245.062 2190.29 246.474 Q2188.58 247.886 2185.71 247.886 L2182.3 247.886 L2182.3 244.321 L2184.8 244.321 Q2186.56 244.321 2187.53 243.488 Q2188.51 242.654 2189.69 239.552 L2190.45 237.608 L2179.97 212.099 L2184.48 212.099 L2192.58 232.377 L2200.68 212.099 L2205.2 212.099 L2193.81 240.432 Z\" fill=\"#000000\" fill-rule=\"evenodd\" fill-opacity=\"1\" /><path clip-path=\"url(#clip760)\" d=\"M2212.49 234.089 L2220.13 234.089 L2220.13 207.724 L2211.82 209.391 L2211.82 205.131 L2220.08 203.465 L2224.76 203.465 L2224.76 234.089 L2232.4 234.089 L2232.4 238.025 L2212.49 238.025 L2212.49 234.089 Z\" fill=\"#000000\" fill-rule=\"evenodd\" fill-opacity=\"1\" /></svg>\n"
      ]
     },
     "execution_count": 50,
     "metadata": {},
     "output_type": "execute_result"
    }
   ],
   "source": [
    "fpr, tpr, thresholds = sklearn.roc_curve(prediccion.Real, prediccion.Prediccion)\n",
    "plot(fpr, tpr)\n",
    "title!(\"ROC curve\")"
   ]
  },
  {
   "cell_type": "code",
   "execution_count": 51,
   "id": "614e0c5b",
   "metadata": {},
   "outputs": [
    {
     "name": "stdout",
     "output_type": "stream",
     "text": [
      "AUC: 87.26%\n",
      "Accuracy: 87.18%\n"
     ]
    }
   ],
   "source": [
    "@printf \"AUC: %.2f%%\\n\" auc * 100\n",
    "@printf \"Accuracy: %.2f%%\\n\" mean(pred_test .== y_test) * 100"
   ]
  },
  {
   "cell_type": "markdown",
   "id": "1524eb6f",
   "metadata": {},
   "source": [
    "## Mejor modelo"
   ]
  },
  {
   "cell_type": "markdown",
   "id": "52508e2d",
   "metadata": {},
   "source": [
    "A continuación se presentan las medidas de desempeño sobre la base de prueba para todos los modelos:"
   ]
  },
  {
   "cell_type": "markdown",
   "id": "58e08214",
   "metadata": {},
   "source": [
    "| Modelo              | Accuracy | AUC    |\n",
    "|---------------------|----------|--------|\n",
    "| Regresión Logística | 97.44%   | 97.45% |\n",
    "| Regresión Lineal    | 81.41%   | 81.51% |\n",
    "| SVM                 | 80.13%   | 80.10% |\n",
    "| Árbol de decisión   | 94.23%   | 94.21% |\n",
    "| KNN                 | 87.18%   | 87.26% |"
   ]
  },
  {
   "cell_type": "markdown",
   "id": "3cf03e89",
   "metadata": {},
   "source": [
    "Con base en lo anterior, el modelo que realiza la clasificación más precisa es la regresión logística, la cual tiene una precisión del 97.44% y un AUC de 97.45%, lo que indica que realiza una clasificación casi perfecta de las rocas y las minas. Además, este modelo consiguió una clasificación mayor a lo conseguido con los modelos anteriores. En segundo lugar, el árbol de decisión tuvo una precisión de 94.23% y un AUC del 94.21%. "
   ]
  }
 ],
 "metadata": {
  "@webio": {
   "lastCommId": null,
   "lastKernelId": null
  },
  "kernelspec": {
   "display_name": "Julia 1.7.2",
   "language": "julia",
   "name": "julia-1.7"
  },
  "language_info": {
   "file_extension": ".jl",
   "mimetype": "application/julia",
   "name": "julia",
   "version": "1.7.2"
  }
 },
 "nbformat": 4,
 "nbformat_minor": 5
}
